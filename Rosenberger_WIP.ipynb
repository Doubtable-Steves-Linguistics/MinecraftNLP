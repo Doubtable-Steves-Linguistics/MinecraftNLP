{
 "cells": [
  {
   "cell_type": "markdown",
   "metadata": {},
   "source": [
    "# Minecraft ReadMe Modeling\n",
    "\n",
    "- [Modeling Begins Here](#Modeling-Begins-Here)\n",
    "- [Module Functions](#Modules)"
   ]
  },
  {
   "cell_type": "code",
   "execution_count": 4,
   "metadata": {},
   "outputs": [],
   "source": [
    "# import personal modules\n",
    "import prepare as prep\n",
    "#import acquire as ac\n",
    "\n",
    "\n",
    "# import modules from libraries\n",
    "#from prepare import basic_clean, lemmatize\n",
    "from pprint import pprint\n",
    "\n",
    "#import datascience libraries\n",
    "import pandas as pd\n",
    "import numpy as np\n",
    "\n",
    "# import vizualization libraries\n",
    "import matplotlib.pyplot as plt\n",
    "\n",
    "# Sklearn modules including classifiers\n",
    "from sklearn.ensemble import RandomForestClassifier\n",
    "from sklearn.ensemble import GradientBoostingClassifier  # Gradient Boosting Classifier\n",
    "from sklearn.ensemble import HistGradientBoostingClassifier\n",
    "from sklearn.naive_bayes import MultinomialNB  # Naive Bayes Classifier\n",
    "\n",
    "\n",
    "# Sklearn testing, evaluating, and managing model\n",
    "from sklearn.datasets import make_multilabel_classification\n",
    "from sklearn.metrics import classification_report\n",
    "from sklearn.metrics import confusion_matrix\n",
    "from sklearn.model_selection import train_test_split\n",
    "from sklearn.preprocessing import StandardScaler\n",
    "from sklearn.feature_selection import RFE, f_regression\n",
    "from sklearn.multioutput import MultiOutputClassifier as MOC \n",
    "from sklearn.pipeline import Pipeline as pipeline \n",
    "\n",
    "# more classifiers\n",
    "from xgboost import XGBClassifier  # XG Boost Classifier\n",
    "from lightgbm import LGBMClassifier # Light Gradient Boost Classifier\n",
    "\n",
    "\n",
    "import nltk #Natural Language Tool Kit\n",
    "import re   #Regular Expressions\n",
    "\n",
    "# NLP related modules\n",
    "from sklearn.feature_extraction.text import CountVectorizer\n",
    "from sklearn.feature_extraction.text import TfidfVectorizer"
   ]
  },
  {
   "cell_type": "markdown",
   "metadata": {},
   "source": [
    "## Modules"
   ]
  },
  {
   "cell_type": "code",
   "execution_count": 79,
   "metadata": {},
   "outputs": [],
   "source": [
    "#########################################################################\n",
    "           ############       Random Forest       ##############     \n",
    "  ######  Creates N number of trees using random starting values  ######\n",
    "########################################################################\n",
    "\n",
    "def random_forest_model(x, y):\n",
    "    \n",
    "    rf_classifier = RandomForestClassifier(\n",
    "        min_samples_leaf=10,\n",
    "        n_estimators=200,\n",
    "        max_depth=5, \n",
    "        bootstrap=True,\n",
    "        oob_score=True,\n",
    "        n_jobs=-1,\n",
    "        max_features='auto'\n",
    "    )\n",
    "\n",
    "    rf_classifier.fit(x, y)\n",
    "\n",
    "    y_preds = rf_classifier.predict(x)\n",
    "    \n",
    "    return y_preds\n",
    "\n",
    "\n",
    "#############################################################################\n",
    "    ############       Gradient Boosting Classifier       ##############     \n",
    "######  Creates a random forest where each tree learns from the last  ######\n",
    "############################################################################\n",
    "\n",
    "def gradient_booster_model(x_train, y_train, x_test = 0, y_test = 0, test = False):\n",
    "\n",
    "    gradient_booster = GradientBoostingClassifier(\n",
    "                            learning_rate=0.1,\n",
    "                            max_depth = 5,\n",
    "                            n_estimators=200)\n",
    "    if test == False:\n",
    "    \n",
    "        gradient_booster.fit(x_train, y_train)\n",
    "        y_preds = gradient_booster.predict(x_train)\n",
    "        \n",
    "        return y_preds\n",
    "\n",
    "    if test == True:\n",
    "        gradient_booster.fit(x_train, y_train)\n",
    "        y_preds = gradient_booster.predict(x_test)\n",
    "\n",
    "        return y_preds\n",
    "\n",
    "#################################################################\n",
    "############         XG Boosting Classifier       ##############     \n",
    "    #######       Uses XG Boosting Algorthm       #######\n",
    "#################################################################\n",
    "\n",
    "def xgboost_model(x, y):\n",
    "    \n",
    "    xgboost = XGBClassifier(\n",
    "                        base_score=None,\n",
    "                        booster=None,\n",
    "                        n_estimators=200,\n",
    "                        learning_rate=0.1,\n",
    "                        max_depth = 5\n",
    "                        )\n",
    "\n",
    "    xgboost.fit(x, y)\n",
    "    \n",
    "    y_preds = xgboost.predict(x)\n",
    "    \n",
    "    return y_preds\n",
    "\n",
    "\n",
    "#################################################################\n",
    "#########         LightGMB Boosting Classifier       ###########     \n",
    "#######       Uses Light Gradient Boosting Algorthm       #######\n",
    "#################################################################\n",
    "\n",
    "def lgmboost_model(x, y):\n",
    "    \n",
    "    lgmboost = LGBMClassifier(\n",
    "                learning_rate=0.1,\n",
    "                max_depth = 5,\n",
    "                n_estimators=200)\n",
    "\n",
    "    lgmboost.fit(x, y)\n",
    "    \n",
    "    y_preds = lgmboost.predict(x)\n",
    "    \n",
    "    return y_preds\n",
    "\n",
    "\n",
    "####################################################################\n",
    "#########         Multinomial Naive Bayes Classifier     ###########     \n",
    "#######     Uses Naive Bayes as Classification Algorithm     #######\n",
    "####################################################################\n",
    "\n",
    "def nb_model(x_train, y_train, x_test = 0, y_test = 0, test = False):\n",
    "    \n",
    "    naive_bayes = MultinomialNB()\n",
    "    \n",
    "    if test == False:\n",
    "        naive_bayes.fit(x_train, y_train)\n",
    "        y_preds = naive_bayes.predict(x_train)\n",
    "\n",
    "        return y_preds\n",
    "    \n",
    "    if test == True:\n",
    "        naive_bayes.fit(x_train, y_train)\n",
    "        y_preds = naive_bayes.predict(x_test)\n",
    "\n",
    "        return y_preds"
   ]
  },
  {
   "cell_type": "code",
   "execution_count": null,
   "metadata": {},
   "outputs": [],
   "source": []
  },
  {
   "cell_type": "code",
   "execution_count": null,
   "metadata": {},
   "outputs": [],
   "source": []
  },
  {
   "cell_type": "markdown",
   "metadata": {},
   "source": [
    "## Modeling Begins Here"
   ]
  },
  {
   "cell_type": "code",
   "execution_count": 53,
   "metadata": {},
   "outputs": [
    {
     "data": {
      "text/html": [
       "<div>\n",
       "<style scoped>\n",
       "    .dataframe tbody tr th:only-of-type {\n",
       "        vertical-align: middle;\n",
       "    }\n",
       "\n",
       "    .dataframe tbody tr th {\n",
       "        vertical-align: top;\n",
       "    }\n",
       "\n",
       "    .dataframe thead th {\n",
       "        text-align: right;\n",
       "    }\n",
       "</style>\n",
       "<table border=\"1\" class=\"dataframe\">\n",
       "  <thead>\n",
       "    <tr style=\"text-align: right;\">\n",
       "      <th></th>\n",
       "      <th>repo</th>\n",
       "      <th>language</th>\n",
       "      <th>readme_contents</th>\n",
       "      <th>clean</th>\n",
       "      <th>lemmatized</th>\n",
       "    </tr>\n",
       "  </thead>\n",
       "  <tbody>\n",
       "    <tr>\n",
       "      <th>1</th>\n",
       "      <td>fogleman/Minecraft</td>\n",
       "      <td>Python</td>\n",
       "      <td># Minecraft\\n\\nSimple Minecraft-inspired demo ...</td>\n",
       "      <td>minecraft simple minecraftinspired demo writte...</td>\n",
       "      <td>minecraft simple minecraftinspired demo writte...</td>\n",
       "    </tr>\n",
       "    <tr>\n",
       "      <th>2</th>\n",
       "      <td>itzg/docker-minecraft-server</td>\n",
       "      <td>Other</td>\n",
       "      <td>[![Docker Pulls](https://img.shields.io/docker...</td>\n",
       "      <td>docker pullshttpsimgshieldsiodockerpullsitzgmi...</td>\n",
       "      <td>docker pullshttpsimgshieldsiodockerpullsitzgmi...</td>\n",
       "    </tr>\n",
       "    <tr>\n",
       "      <th>3</th>\n",
       "      <td>overviewer/Minecraft-Overviewer</td>\n",
       "      <td>Python</td>\n",
       "      <td>====================================\\nMinecraf...</td>\n",
       "      <td>minecraft overviewer build status andrew brown...</td>\n",
       "      <td>minecraft overviewer build status andrew brown...</td>\n",
       "    </tr>\n",
       "    <tr>\n",
       "      <th>4</th>\n",
       "      <td>TheGreyGhost/MinecraftByExample</td>\n",
       "      <td>Java</td>\n",
       "      <td>MinecraftByExample [1.16.4]\\n=================...</td>\n",
       "      <td>minecraftbyexample 1164 purpose minecraftbyexa...</td>\n",
       "      <td>minecraftbyexample 1164 purpose minecraftbyexa...</td>\n",
       "    </tr>\n",
       "    <tr>\n",
       "      <th>5</th>\n",
       "      <td>minecraft-dev/MinecraftDev</td>\n",
       "      <td>Other</td>\n",
       "      <td>&lt;p align=\"center\"&gt;&lt;a href=\"https://minecraftde...</td>\n",
       "      <td>p aligncentera hrefhttpsminecraftdevorgimg src...</td>\n",
       "      <td>p aligncentera hrefhttpsminecraftdevorgimg src...</td>\n",
       "    </tr>\n",
       "  </tbody>\n",
       "</table>\n",
       "</div>"
      ],
      "text/plain": [
       "                              repo language  \\\n",
       "1               fogleman/Minecraft   Python   \n",
       "2     itzg/docker-minecraft-server    Other   \n",
       "3  overviewer/Minecraft-Overviewer   Python   \n",
       "4  TheGreyGhost/MinecraftByExample     Java   \n",
       "5       minecraft-dev/MinecraftDev    Other   \n",
       "\n",
       "                                     readme_contents  \\\n",
       "1  # Minecraft\\n\\nSimple Minecraft-inspired demo ...   \n",
       "2  [![Docker Pulls](https://img.shields.io/docker...   \n",
       "3  ====================================\\nMinecraf...   \n",
       "4  MinecraftByExample [1.16.4]\\n=================...   \n",
       "5  <p align=\"center\"><a href=\"https://minecraftde...   \n",
       "\n",
       "                                               clean  \\\n",
       "1  minecraft simple minecraftinspired demo writte...   \n",
       "2  docker pullshttpsimgshieldsiodockerpullsitzgmi...   \n",
       "3  minecraft overviewer build status andrew brown...   \n",
       "4  minecraftbyexample 1164 purpose minecraftbyexa...   \n",
       "5  p aligncentera hrefhttpsminecraftdevorgimg src...   \n",
       "\n",
       "                                          lemmatized  \n",
       "1  minecraft simple minecraftinspired demo writte...  \n",
       "2  docker pullshttpsimgshieldsiodockerpullsitzgmi...  \n",
       "3  minecraft overviewer build status andrew brown...  \n",
       "4  minecraftbyexample 1164 purpose minecraftbyexa...  \n",
       "5  p aligncentera hrefhttpsminecraftdevorgimg src...  "
      ]
     },
     "execution_count": 53,
     "metadata": {},
     "output_type": "execute_result"
    }
   ],
   "source": [
    "df = pd.read_csv('clean_scraped_data.csv', index_col=[0])\n",
    "df = prep.map_other_languages(df)\n",
    "#f = df[(df['language'] == 'Python') | (df['language']== 'Java') | (df['language'] == 'JavaScript')]\n",
    "df.head()"
   ]
  },
  {
   "cell_type": "code",
   "execution_count": 51,
   "metadata": {},
   "outputs": [],
   "source": [
    "x = df['lemmatized']\n",
    "y = df['language']\n",
    "\n",
    "cv = CountVectorizer()\n",
    "x_vectorized = cv.fit_transform(x)\n",
    "\n",
    "x_train, x_test, y_train, y_test = train_test_split(x_vectorized, y, test_size = 0.3, random_state = 7)"
   ]
  },
  {
   "cell_type": "code",
   "execution_count": 56,
   "metadata": {},
   "outputs": [
    {
     "data": {
      "text/plain": [
       "Java          402\n",
       "Other         320\n",
       "JavaScript     86\n",
       "Python         76\n",
       "Name: language, dtype: int64"
      ]
     },
     "execution_count": 56,
     "metadata": {},
     "output_type": "execute_result"
    }
   ],
   "source": [
    "df.language.value_counts()"
   ]
  },
  {
   "cell_type": "markdown",
   "metadata": {},
   "source": [
    "<div class = 'alert alert-block alert-info'>\n",
    "\n",
    "## Testing Bayes Model\n",
    "\n"
   ]
  },
  {
   "cell_type": "markdown",
   "metadata": {},
   "source": [
    "- How does classifier perform with only Java, JavaScript, and Python observations? "
   ]
  },
  {
   "cell_type": "code",
   "execution_count": 52,
   "metadata": {},
   "outputs": [
    {
     "name": "stdout",
     "output_type": "stream",
     "text": [
      "              precision    recall  f1-score   support\n",
      "\n",
      "        Java       0.96      1.00      0.98       280\n",
      "  JavaScript       1.00      0.80      0.89        61\n",
      "      Python       0.98      0.96      0.97        53\n",
      "\n",
      "    accuracy                           0.96       394\n",
      "   macro avg       0.98      0.92      0.95       394\n",
      "weighted avg       0.97      0.96      0.96       394\n",
      "\n",
      "CPU times: user 12.8 ms, sys: 1.71 ms, total: 14.5 ms\n",
      "Wall time: 12.8 ms\n"
     ]
    }
   ],
   "source": [
    "%%time\n",
    "NB_y_preds_train = nb_model(x_train, y_train)\n",
    "report = classification_report(y_train, NB_y_preds_train)\n",
    "print(report)"
   ]
  },
  {
   "cell_type": "markdown",
   "metadata": {},
   "source": [
    "- How does classifier perform with every language left intact?"
   ]
  },
  {
   "cell_type": "code",
   "execution_count": 39,
   "metadata": {},
   "outputs": [
    {
     "name": "stdout",
     "output_type": "stream",
     "text": [
      "                  precision    recall  f1-score   support\n",
      "\n",
      "        Assembly       0.00      0.00      0.00         1\n",
      "       Batchfile       1.00      0.33      0.50         3\n",
      "               C       1.00      0.10      0.18        10\n",
      "              C#       0.93      0.45      0.61        31\n",
      "             C++       0.91      0.72      0.81        29\n",
      "           CMake       0.00      0.00      0.00         1\n",
      "             CSS       1.00      0.33      0.50         3\n",
      "         Clojure       0.00      0.00      0.00         1\n",
      "    CoffeeScript       0.00      0.00      0.00         2\n",
      "      Dockerfile       0.00      0.00      0.00         4\n",
      "          Elixir       0.00      0.00      0.00         1\n",
      "        GDScript       0.00      0.00      0.00         1\n",
      "            GLSL       0.00      0.00      0.00         4\n",
      "              Go       1.00      0.31      0.48        16\n",
      "             HCL       0.00      0.00      0.00         3\n",
      "            HTML       0.00      0.00      0.00         3\n",
      "         Haskell       0.00      0.00      0.00         1\n",
      "            JSON       0.00      0.00      0.00         1\n",
      "            Java       0.66      1.00      0.80       276\n",
      "      JavaScript       0.93      0.66      0.77        61\n",
      "Jupyter Notebook       1.00      0.50      0.67         2\n",
      "          Kotlin       1.00      0.44      0.61        16\n",
      "             Lua       1.00      0.20      0.33         5\n",
      "        Mustache       0.00      0.00      0.00         1\n",
      "             PHP       1.00      0.52      0.69        23\n",
      "      PowerShell       0.00      0.00      0.00         1\n",
      "       PureBasic       0.00      0.00      0.00         1\n",
      "          Python       0.93      0.80      0.86        51\n",
      "               R       0.00      0.00      0.00         1\n",
      "            Ruby       1.00      0.25      0.40         4\n",
      "            Rust       1.00      0.11      0.20         9\n",
      "            SCSS       0.00      0.00      0.00         1\n",
      "           Scala       0.00      0.00      0.00         1\n",
      "           Shell       0.61      0.85      0.71        27\n",
      "          Smarty       0.00      0.00      0.00         1\n",
      "   SystemVerilog       0.00      0.00      0.00         1\n",
      "             TeX       0.00      0.00      0.00         2\n",
      "      TypeScript       1.00      0.29      0.44        14\n",
      "            Yacc       0.00      0.00      0.00         1\n",
      "       ZenScript       1.00      0.50      0.67         4\n",
      "\n",
      "        accuracy                           0.73       618\n",
      "       macro avg       0.42      0.21      0.26       618\n",
      "    weighted avg       0.76      0.73      0.69       618\n",
      "\n",
      "CPU times: user 63.6 ms, sys: 23.7 ms, total: 87.3 ms\n",
      "Wall time: 87.7 ms\n"
     ]
    },
    {
     "name": "stderr",
     "output_type": "stream",
     "text": [
      "/usr/local/anaconda3/lib/python3.9/site-packages/sklearn/metrics/_classification.py:1318: UndefinedMetricWarning: Precision and F-score are ill-defined and being set to 0.0 in labels with no predicted samples. Use `zero_division` parameter to control this behavior.\n",
      "  _warn_prf(average, modifier, msg_start, len(result))\n",
      "/usr/local/anaconda3/lib/python3.9/site-packages/sklearn/metrics/_classification.py:1318: UndefinedMetricWarning: Precision and F-score are ill-defined and being set to 0.0 in labels with no predicted samples. Use `zero_division` parameter to control this behavior.\n",
      "  _warn_prf(average, modifier, msg_start, len(result))\n",
      "/usr/local/anaconda3/lib/python3.9/site-packages/sklearn/metrics/_classification.py:1318: UndefinedMetricWarning: Precision and F-score are ill-defined and being set to 0.0 in labels with no predicted samples. Use `zero_division` parameter to control this behavior.\n",
      "  _warn_prf(average, modifier, msg_start, len(result))\n"
     ]
    }
   ],
   "source": [
    "%%time\n",
    "NB_y_preds_train = nb_model(x_train, y_train)\n",
    "report = classification_report(y_train, NB_y_preds_train)\n",
    "print(report)"
   ]
  },
  {
   "cell_type": "markdown",
   "metadata": {},
   "source": [
    "- How does model perform when all but our top three languages are classified as 'other'?"
   ]
  },
  {
   "cell_type": "code",
   "execution_count": 25,
   "metadata": {},
   "outputs": [
    {
     "name": "stdout",
     "output_type": "stream",
     "text": [
      "              precision    recall  f1-score   support\n",
      "\n",
      "        Java       0.93      1.00      0.96       276\n",
      "  JavaScript       0.97      0.51      0.67        61\n",
      "       Other       0.86      0.95      0.90       230\n",
      "      Python       0.97      0.71      0.82        51\n",
      "\n",
      "    accuracy                           0.91       618\n",
      "   macro avg       0.93      0.79      0.84       618\n",
      "weighted avg       0.91      0.91      0.90       618\n",
      "\n",
      "CPU times: user 18.6 ms, sys: 1.62 ms, total: 20.2 ms\n",
      "Wall time: 18.7 ms\n"
     ]
    }
   ],
   "source": [
    "%%time\n",
    "NB_y_preds_train = nb_model(x_train, y_train)\n",
    "report = classification_report(y_train, NB_y_preds_train)\n",
    "print(report)"
   ]
  },
  {
   "cell_type": "code",
   "execution_count": 81,
   "metadata": {},
   "outputs": [
    {
     "name": "stdout",
     "output_type": "stream",
     "text": [
      "              precision    recall  f1-score   support\n",
      "\n",
      "        Java       0.83      0.93      0.88       122\n",
      "  JavaScript       0.62      0.20      0.30        25\n",
      "      Python       0.54      0.61      0.57        23\n",
      "\n",
      "    accuracy                           0.78       170\n",
      "   macro avg       0.66      0.58      0.58       170\n",
      "weighted avg       0.76      0.78      0.75       170\n",
      "\n",
      "CPU times: user 9.51 ms, sys: 1.43 ms, total: 10.9 ms\n",
      "Wall time: 9.29 ms\n"
     ]
    }
   ],
   "source": [
    "%%time\n",
    "NB_y_preds_test = nb_model(x_train, y_train, x_test, y_test, test=True)\n",
    "report = classification_report(y_test, NB_y_preds_test)\n",
    "print(report)"
   ]
  },
  {
   "cell_type": "markdown",
   "metadata": {},
   "source": [
    "<div class = 'alert alert-block alert-info'>\n",
    "    \n",
    "## testing gradient booster"
   ]
  },
  {
   "cell_type": "markdown",
   "metadata": {},
   "source": [
    "- using our earlier agreed upon idea that we should classify all languages but our top three as 'other'"
   ]
  },
  {
   "cell_type": "code",
   "execution_count": 54,
   "metadata": {},
   "outputs": [
    {
     "name": "stdout",
     "output_type": "stream",
     "text": [
      "              precision    recall  f1-score   support\n",
      "\n",
      "        Java       1.00      1.00      1.00       280\n",
      "  JavaScript       1.00      1.00      1.00        61\n",
      "      Python       1.00      1.00      1.00        53\n",
      "\n",
      "    accuracy                           1.00       394\n",
      "   macro avg       1.00      1.00      1.00       394\n",
      "weighted avg       1.00      1.00      1.00       394\n",
      "\n",
      "CPU times: user 12.9 s, sys: 64.1 ms, total: 12.9 s\n",
      "Wall time: 13 s\n"
     ]
    }
   ],
   "source": [
    "%%time\n",
    "gb_y_preds_train = gradient_booster_model(x_train, y_train)\n",
    "report = classification_report(y_train, gb_y_preds_train)\n",
    "print(report)"
   ]
  },
  {
   "cell_type": "code",
   "execution_count": 76,
   "metadata": {},
   "outputs": [
    {
     "name": "stdout",
     "output_type": "stream",
     "text": [
      "              precision    recall  f1-score   support\n",
      "\n",
      "        Java       1.00      1.00      1.00       280\n",
      "  JavaScript       1.00      1.00      1.00        61\n",
      "      Python       1.00      1.00      1.00        53\n",
      "\n",
      "    accuracy                           1.00       394\n",
      "   macro avg       1.00      1.00      1.00       394\n",
      "weighted avg       1.00      1.00      1.00       394\n",
      "\n",
      "CPU times: user 12.4 s, sys: 24 ms, total: 12.4 s\n",
      "Wall time: 12.4 s\n"
     ]
    }
   ],
   "source": [
    "%%time\n",
    "gb_train_preds = gradient_booster_model(x_train, y_train)\n",
    "report = classification_report(y_train, gb_train_preds)\n",
    "print(report)"
   ]
  },
  {
   "cell_type": "code",
   "execution_count": 75,
   "metadata": {},
   "outputs": [
    {
     "name": "stdout",
     "output_type": "stream",
     "text": [
      "              precision    recall  f1-score   support\n",
      "\n",
      "        Java       0.88      0.98      0.93       122\n",
      "  JavaScript       0.87      0.52      0.65        25\n",
      "      Python       0.75      0.65      0.70        23\n",
      "\n",
      "    accuracy                           0.86       170\n",
      "   macro avg       0.83      0.72      0.76       170\n",
      "weighted avg       0.86      0.86      0.85       170\n",
      "\n",
      "CPU times: user 13.5 s, sys: 87.9 ms, total: 13.6 s\n",
      "Wall time: 13.7 s\n"
     ]
    }
   ],
   "source": [
    "%%time\n",
    "gb_test_preds = gradient_booster_model(x_train, y_train, x_test, y_test, test = True)\n",
    "report = classification_report(y_test, gb_test_preds)\n",
    "print(report)"
   ]
  },
  {
   "cell_type": "code",
   "execution_count": null,
   "metadata": {},
   "outputs": [],
   "source": []
  }
 ],
 "metadata": {
  "kernelspec": {
   "display_name": "Python 3 (ipykernel)",
   "language": "python",
   "name": "python3"
  },
  "language_info": {
   "codemirror_mode": {
    "name": "ipython",
    "version": 3
   },
   "file_extension": ".py",
   "mimetype": "text/x-python",
   "name": "python",
   "nbconvert_exporter": "python",
   "pygments_lexer": "ipython3",
   "version": "3.9.15"
  },
  "vscode": {
   "interpreter": {
    "hash": "3067ead486e059ec00ffe7555bdb889e6e264a24dc711bf108106cc7baee8d5d"
   }
  }
 },
 "nbformat": 4,
 "nbformat_minor": 4
}
