{
 "cells": [
  {
   "cell_type": "code",
   "execution_count": 75,
   "id": "2ae995eb",
   "metadata": {},
   "outputs": [],
   "source": [
    "import pandas as pd\n",
    "import numpy as np\n",
    "\n",
    "from requests import get\n",
    "from bs4 import BeautifulSoup\n",
    "import os\n",
    "import json\n",
    "from typing import Dict, List, Optional, Union, cast\n",
    "import requests\n",
    "import re\n",
    "import time\n",
    "import unicodedata\n",
    "import markdown\n",
    "import nltk\n",
    "\n",
    "from env import github_token, github_username\n",
    "from importlib import reload"
   ]
  },
  {
   "cell_type": "markdown",
   "id": "ed502158",
   "metadata": {},
   "source": [
    "# Acquire"
   ]
  },
  {
   "cell_type": "code",
   "execution_count": 2,
   "id": "ffa1d6c7",
   "metadata": {},
   "outputs": [],
   "source": [
    "\"\"\"\n",
    "A module for obtaining repo readme and language data from the github API.\n",
    "Before using this module, read through it, and follow the instructions marked\n",
    "TODO.\n",
    "After doing so, run it like this:\n",
    "    python acquire.py\n",
    "To create the `data.json` file that contains the data.\n",
    "\"\"\"\n",
    "\n",
    "# TODO: Make a github personal access token.\n",
    "#     1. Go here and generate a personal access token: https://github.com/settings/tokens\n",
    "#        You do _not_ need select any scopes, i.e. leave all the checkboxes unchecked\n",
    "#     2. Save it in your env.py file under the variable `github_token`\n",
    "# TODO: Add your github username to your env.py file under the variable `github_username`\n",
    "# TODO: Add more repositories to the `REPOS` list below.\n",
    "\n",
    "REPOS = [\n",
    "    \"gocodeup/codeup-setup-script\",\n",
    "    \"gocodeup/movies-application\",\n",
    "    \"torvalds/linux\",\n",
    "]\n",
    "\n",
    "headers = {\"Authorization\": f\"token {github_token}\", \"User-Agent\": github_username}\n",
    "\n",
    "if headers[\"Authorization\"] == \"token \" or headers[\"User-Agent\"] == \"\":\n",
    "    raise Exception(\n",
    "        \"You need to follow the instructions marked TODO in this script before trying to use it\"\n",
    "    )\n",
    "\n",
    "\n",
    "def github_api_request(url: str) -> Union[List, Dict]:\n",
    "    response = requests.get(url, headers=headers)\n",
    "    response_data = response.json()\n",
    "    if response.status_code != 200:\n",
    "        raise Exception(\n",
    "            f\"Error response from github api! status code: {response.status_code}, \"\n",
    "            f\"response: {json.dumps(response_data)}\"\n",
    "        )\n",
    "    return response_data\n",
    "\n",
    "\n",
    "def get_repo_language(repo: str) -> str:\n",
    "    url = f\"https://api.github.com/repos/{repo}\"\n",
    "    repo_info = github_api_request(url)\n",
    "    if type(repo_info) is dict:\n",
    "        repo_info = cast(Dict, repo_info)\n",
    "        if \"language\" not in repo_info:\n",
    "            raise Exception(\n",
    "                \"'language' key not round in response\\n{}\".format(json.dumps(repo_info))\n",
    "            )\n",
    "        return repo_info[\"language\"]\n",
    "    raise Exception(\n",
    "        f\"Expecting a dictionary response from {url}, instead got {json.dumps(repo_info)}\"\n",
    "    )\n",
    "\n",
    "\n",
    "def get_repo_contents(repo: str) -> List[Dict[str, str]]:\n",
    "    url = f\"https://api.github.com/repos/{repo}/contents/\"\n",
    "    contents = github_api_request(url)\n",
    "    if type(contents) is list:\n",
    "        contents = cast(List, contents)\n",
    "        return contents\n",
    "    raise Exception(\n",
    "        f\"Expecting a list response from {url}, instead got {json.dumps(contents)}\"\n",
    "    )\n",
    "\n",
    "\n",
    "def get_readme_download_url(files: List[Dict[str, str]]) -> str:\n",
    "    \"\"\"\n",
    "    Takes in a response from the github api that lists the files in a repo and\n",
    "    returns the url that can be used to download the repo's README file.\n",
    "    \"\"\"\n",
    "    for file in files:\n",
    "        if file[\"name\"].lower().startswith(\"readme\"):\n",
    "            return file[\"download_url\"]\n",
    "    return \"\"\n",
    "\n",
    "\n",
    "def process_repo(repo: str) -> Dict[str, str]:\n",
    "    \"\"\"\n",
    "    Takes a repo name like \"gocodeup/codeup-setup-script\" and returns a\n",
    "    dictionary with the language of the repo and the readme contents.\n",
    "    \"\"\"\n",
    "    contents = get_repo_contents(repo)\n",
    "    readme_download_url = get_readme_download_url(contents)\n",
    "    if readme_download_url == \"\":\n",
    "        readme_contents = \"\"\n",
    "    else:\n",
    "        readme_contents = requests.get(readme_download_url).text\n",
    "    return {\n",
    "        \"repo\": repo,\n",
    "        \"language\": get_repo_language(repo),\n",
    "        \"readme_contents\": readme_contents,\n",
    "    }\n",
    "\n",
    "\n",
    "def scrape_github_data() -> List[Dict[str, str]]:\n",
    "    \"\"\"\n",
    "    Loop through all of the repos and process them. Returns the processed data.\n",
    "    \"\"\"\n",
    "    return [process_repo(repo) for repo in REPOS]\n",
    "\n",
    "\n",
    "if __name__ == \"__main__\":\n",
    "    data = scrape_github_data()\n",
    "    json.dump(data, open(\"data.json\", \"w\"), indent=1)"
   ]
  },
  {
   "cell_type": "code",
   "execution_count": 4,
   "id": "8db82702",
   "metadata": {},
   "outputs": [],
   "source": [
    "#url = \"https://github.com/topics/minecraft\"\n",
    "reqs = requests.get(url)\n",
    "soup = BeautifulSoup(reqs.text, 'html.parser')\n",
    "urls = []\n",
    "for link in soup.find_all('a',class_=\"v-align-middle\"):\n",
    "    print(link.get('href'))"
   ]
  },
  {
   "cell_type": "code",
   "execution_count": null,
   "id": "ca8e58bc",
   "metadata": {},
   "outputs": [],
   "source": [
    "soup.find_all('div', class_=\"d-flex flex-1\")"
   ]
  },
  {
   "cell_type": "code",
   "execution_count": 21,
   "id": "d3cf300f",
   "metadata": {},
   "outputs": [
    {
     "data": {
      "text/plain": [
       "[]"
      ]
     },
     "execution_count": 21,
     "metadata": {},
     "output_type": "execute_result"
    }
   ],
   "source": [
    "list_of_div_elements = soup.find_all('a', class_=\"data-hydro-click\")\n",
    "list_of_div_elements"
   ]
  },
  {
   "cell_type": "code",
   "execution_count": 42,
   "id": "d6ec39bd",
   "metadata": {},
   "outputs": [],
   "source": [
    "s = soup.find_all('h3', class_='f3 color-fg-muted text-normal lh-condensed')"
   ]
  },
  {
   "cell_type": "code",
   "execution_count": 54,
   "id": "757cb473",
   "metadata": {},
   "outputs": [
    {
     "data": {
      "text/plain": [
       "'fogleman/Craft'"
      ]
     },
     "execution_count": 54,
     "metadata": {},
     "output_type": "execute_result"
    }
   ],
   "source": [
    "s[0].find('a', class_=\"text-bold wb-break-word\")['href']"
   ]
  },
  {
   "cell_type": "code",
   "execution_count": 57,
   "id": "467cfee9",
   "metadata": {},
   "outputs": [],
   "source": [
    "links =[]\n",
    "all_minecraft_repos = soup.find_all('h3', class_='f3 color-fg-muted text-normal lh-condensed')\n",
    "for each_minecraft_repo in all_minecraft_repos:\n",
    "    #href_link = each_minecraft_repo.a.attrs[\"href\"]\n",
    "    href_link = each_minecraft_repo.find('a', class_=\"text-bold wb-break-word\")['href'][1:]\n",
    "    links.append(href_link)"
   ]
  },
  {
   "cell_type": "code",
   "execution_count": 58,
   "id": "0939024c",
   "metadata": {},
   "outputs": [
    {
     "data": {
      "text/plain": [
       "['fogleman/Craft',\n",
       " 'dnschneid/crouton',\n",
       " 'PaperMC/Paper',\n",
       " 'IdreesInc/Monocraft',\n",
       " 'MinecraftForge/MinecraftForge',\n",
       " 'nuno-faria/tiler',\n",
       " 'cabaletta/baritone',\n",
       " 'huanghongxun/HMCL',\n",
       " 'cuberite/cuberite',\n",
       " 'CaffeineMC/sodium-fabric',\n",
       " 'MultiMC/Launcher',\n",
       " 'GeyserMC/Geyser',\n",
       " 'PojavLauncherTeam/PojavLauncher',\n",
       " 'PrismarineJS/mineflayer',\n",
       " 'pmmp/PocketMine-MP',\n",
       " 'PrismLauncher/PrismLauncher',\n",
       " 'EngineHub/WorldEdit',\n",
       " 'IrisShaders/Iris',\n",
       " 'feather-rs/feather',\n",
       " 'Querz/mcaselector']"
      ]
     },
     "execution_count": 58,
     "metadata": {},
     "output_type": "execute_result"
    }
   ],
   "source": [
    "links"
   ]
  },
  {
   "cell_type": "code",
   "execution_count": 60,
   "id": "2cad030c",
   "metadata": {},
   "outputs": [
    {
     "data": {
      "text/plain": [
       "[]"
      ]
     },
     "execution_count": 60,
     "metadata": {},
     "output_type": "execute_result"
    }
   ],
   "source": [
    "soup.find_all('a', class_=\"v-align-middle\")"
   ]
  },
  {
   "cell_type": "code",
   "execution_count": 92,
   "id": "ee4c695d",
   "metadata": {},
   "outputs": [],
   "source": [
    "url = 'https://github.com/search?3&q=minecraft&type=Repositories'"
   ]
  },
  {
   "cell_type": "code",
   "execution_count": 93,
   "id": "4baedace",
   "metadata": {},
   "outputs": [
    {
     "data": {
      "text/plain": [
       "'https://github.com/search?3&q=minecraft&type=Repositories'"
      ]
     },
     "execution_count": 93,
     "metadata": {},
     "output_type": "execute_result"
    }
   ],
   "source": [
    "url"
   ]
  },
  {
   "cell_type": "code",
   "execution_count": 94,
   "id": "6c075bd8",
   "metadata": {},
   "outputs": [],
   "source": [
    "def get_minecraft_urls(url):\n",
    "    reqs = requests.get(url)\n",
    "    soup = BeautifulSoup(reqs.text, 'html.parser')\n",
    "    urls = []\n",
    "    for link in soup.find_all('a',class_=\"v-align-middle\"):\n",
    "        urls.append(link.get('href'))\n",
    "    return urls"
   ]
  },
  {
   "cell_type": "code",
   "execution_count": 95,
   "id": "32bbf63e",
   "metadata": {},
   "outputs": [
    {
     "data": {
      "text/plain": [
       "['/MinecraftForge/MinecraftForge',\n",
       " '/fogleman/Minecraft',\n",
       " '/itzg/docker-minecraft-server',\n",
       " '/overviewer/Minecraft-Overviewer',\n",
       " '/TheGreyGhost/MinecraftByExample',\n",
       " '/minecraft-dev/MinecraftDev',\n",
       " '/jdah/minecraft-weekend',\n",
       " '/mouse0w0/MinecraftDeveloperGuide',\n",
       " '/Bukkit/Bukkit',\n",
       " '/TheRemote/MinecraftBedrockServer']"
      ]
     },
     "execution_count": 95,
     "metadata": {},
     "output_type": "execute_result"
    }
   ],
   "source": [
    "urls = get_minecraft_urls(url)\n",
    "urls"
   ]
  },
  {
   "cell_type": "code",
   "execution_count": 75,
   "id": "f2d792e6",
   "metadata": {},
   "outputs": [],
   "source": [
    "df_url = pd.DataFrame(urls, columns=['urls'])"
   ]
  },
  {
   "cell_type": "code",
   "execution_count": 77,
   "id": "3636bf69",
   "metadata": {},
   "outputs": [],
   "source": [
    "#turn to csv\n",
    "df_url.to_csv('df_urls.csv')"
   ]
  },
  {
   "cell_type": "code",
   "execution_count": 98,
   "id": "a41d5cf1",
   "metadata": {},
   "outputs": [],
   "source": [
    "for i in range(3,53):\n",
    "    url = f'https://github.com/search?{i}&q=minecraft&type=Repositories'\n",
    "    url_list = []\n",
    "    urls = get_minecraft_urls(url)\n",
    "    url_list.append(urls)"
   ]
  },
  {
   "cell_type": "code",
   "execution_count": 100,
   "id": "566b498d",
   "metadata": {},
   "outputs": [
    {
     "data": {
      "text/plain": [
       "[[]]"
      ]
     },
     "execution_count": 100,
     "metadata": {},
     "output_type": "execute_result"
    }
   ],
   "source": [
    "url_list"
   ]
  },
  {
   "cell_type": "code",
   "execution_count": 115,
   "id": "9d354254",
   "metadata": {},
   "outputs": [
    {
     "data": {
      "text/html": [
       "<div>\n",
       "<style scoped>\n",
       "    .dataframe tbody tr th:only-of-type {\n",
       "        vertical-align: middle;\n",
       "    }\n",
       "\n",
       "    .dataframe tbody tr th {\n",
       "        vertical-align: top;\n",
       "    }\n",
       "\n",
       "    .dataframe thead th {\n",
       "        text-align: right;\n",
       "    }\n",
       "</style>\n",
       "<table border=\"1\" class=\"dataframe\">\n",
       "  <thead>\n",
       "    <tr style=\"text-align: right;\">\n",
       "      <th></th>\n",
       "      <th>url</th>\n",
       "    </tr>\n",
       "  </thead>\n",
       "  <tbody>\n",
       "    <tr>\n",
       "      <th>3</th>\n",
       "      <td>TheRemote/MinecraftBedrockServer</td>\n",
       "    </tr>\n",
       "    <tr>\n",
       "      <th>4</th>\n",
       "      <td>TheRemote/MinecraftBedrockServer</td>\n",
       "    </tr>\n",
       "  </tbody>\n",
       "</table>\n",
       "</div>"
      ],
      "text/plain": [
       "                                url\n",
       "3  TheRemote/MinecraftBedrockServer\n",
       "4  TheRemote/MinecraftBedrockServer"
      ]
     },
     "execution_count": 115,
     "metadata": {},
     "output_type": "execute_result"
    }
   ],
   "source": [
    "df.head()"
   ]
  },
  {
   "cell_type": "code",
   "execution_count": 111,
   "id": "0f0deccf",
   "metadata": {},
   "outputs": [
    {
     "data": {
      "text/plain": [
       "20"
      ]
     },
     "execution_count": 111,
     "metadata": {},
     "output_type": "execute_result"
    }
   ],
   "source": [
    "len(urls)"
   ]
  },
  {
   "cell_type": "code",
   "execution_count": 137,
   "id": "930cfb04",
   "metadata": {},
   "outputs": [],
   "source": [
    "urls = []\n",
    "for i in range(1,152):\n",
    "    url = f'https://github.com/search?p={i}&q=minecraft&type=Repositories'\n",
    "    reqs = requests.get(url)\n",
    "    soup = BeautifulSoup(reqs.text, 'html.parser')\n",
    "    time.sleep(5)\n",
    "    \n",
    "    for link in soup.find_all('a',class_=\"v-align-middle\"):\n",
    "        hyperlink = re.sub(r'/','', link.get('href'), count = 1)\n",
    "        urls.append(hyperlink)\n",
    "        time.sleep(1)"
   ]
  },
  {
   "cell_type": "code",
   "execution_count": 139,
   "id": "489de50b",
   "metadata": {},
   "outputs": [
    {
     "data": {
      "text/plain": [
       "560"
      ]
     },
     "execution_count": 139,
     "metadata": {},
     "output_type": "execute_result"
    }
   ],
   "source": [
    "len(urls)"
   ]
  },
  {
   "cell_type": "code",
   "execution_count": 130,
   "id": "4565e95b",
   "metadata": {},
   "outputs": [
    {
     "data": {
      "text/plain": [
       "['PrismarineJS/node-minecraft-protocol',\n",
       " 'SpongePowered/SpongeAPI',\n",
       " 'PrismarineJS/minecraft-data',\n",
       " 'xPaw/PHP-Minecraft-Query',\n",
       " 'samhogan/Minecraft-Unity3D',\n",
       " 'GeyserMC/Geyser',\n",
       " 'Hawstein/PyMinecraft',\n",
       " 'jkutner/heroku-buildpack-minecraft',\n",
       " 'walterhiggins/ScriptCraft',\n",
       " 'doctorray117/minecraft-ondemand',\n",
       " 'Ahtenus/minecraft-init',\n",
       " 'Pierce01/MinecraftLauncher-core',\n",
       " 'itzg/docker-minecraft-bedrock-server',\n",
       " 'itsFrank/MinecraftHDL',\n",
       " 'docker-archive/minecraft',\n",
       " 'ldtteam/minecolonies',\n",
       " 'YouHaveTrouble/minecraft-optimization',\n",
       " 'dan200/ComputerCraft',\n",
       " 'smith-j-travis/MinecraftAutoClicker',\n",
       " 'toolbox4minecraft/amidst',\n",
       " 'ReplayMod/ReplayMod',\n",
       " 'pdinklag/MinecraftStats',\n",
       " 'Wurst-Imperium/Wurst7',\n",
       " 'MultiMC/Launcher',\n",
       " 'pmmp/PocketMine-MP',\n",
       " 'jdah/minecraft-again',\n",
       " 'clear-code-projects/Minecraft-in-Python',\n",
       " 'danba340/minecraft-freecodecamp',\n",
       " 'LuckPerms/LuckPerms',\n",
       " 'Advanced-Rocketry/AdvancedRocketry',\n",
       " 'Minecraft-in-python/Minecraft',\n",
       " 'overshard/docker-minecraft',\n",
       " 'Fenixin/Minecraft-Region-Fixer',\n",
       " 'MightyPirates/OpenComputers',\n",
       " 'WildBamaBoy/minecraft-comes-alive',\n",
       " 'caseypugh/minecraft',\n",
       " 'InventivetalentDev/minecraft-assets',\n",
       " 'AlexModGuy/Ice_and_Fire',\n",
       " 'PaperMC/Velocity',\n",
       " 'DonBruce64/MinecraftTransportSimulator',\n",
       " 'trevor-laher/OnDemandMinecraft',\n",
       " 'MicrosoftDocs/minecraft-creator',\n",
       " 'Minestom/Minestom',\n",
       " 'simondevyoutube/Quick_MinecraftClone2',\n",
       " 'cuberite/cuberite',\n",
       " 'rom1504/MinecraftChat',\n",
       " 'PojavLauncherTeam/PojavLauncher',\n",
       " 'johnpayne-dev/MinecraftC',\n",
       " 'b3agz/Code-A-Game-Like-Minecraft-In-Unity',\n",
       " 'traitor/Minecraft-Server-Mod',\n",
       " 'Cryptkeeper/Minetrack',\n",
       " 'webbukkit/dynmap',\n",
       " 'Gualdimar/MinecraftSkinSystem',\n",
       " 'mapcrafter/mapcrafter',\n",
       " 'jonafanho/Minecraft-Transit-Railway',\n",
       " 'horionclient/Horion',\n",
       " 'Mhy278/MinecraftServerHostGuide',\n",
       " 'msmhq/msm',\n",
       " 'lofaldli/Minecraft',\n",
       " 'Tiiffi/mcrcon',\n",
       " 'CaffeineMC/sodium-fabric',\n",
       " 'microsoft/minecraft-samples',\n",
       " 'satansdeer/minecraft-react',\n",
       " 'micdoodle8/Galacticraft',\n",
       " 'garbagemule/MobArena',\n",
       " 'itzg/minecraft-server-charts',\n",
       " 'agowa338/MinecraftSystemdUnit',\n",
       " 'MCMrARM/modpe-mods',\n",
       " 'AtomicStryker/atomicstrykers-minecraft-mods',\n",
       " 'ljsimin/MinecraftJoypadSplitscreenMod',\n",
       " 'Tominous/minecraft.js-1',\n",
       " 'mircokroon/minecraft-world-downloader',\n",
       " 'Overv/WebCraft',\n",
       " 'PEXPlugins/PermissionsEx',\n",
       " 'DragonetMC/DragonProxy',\n",
       " 'PolyMC/PolyMC',\n",
       " 'feather-rs/feather',\n",
       " 'wodxgod/Minecraft-Session-Token-Stealer',\n",
       " 'TownyAdvanced/Towny',\n",
       " 'mezz/JustEnoughItems',\n",
       " 'The-Dingos/MinecraftAlternateRealities',\n",
       " 'libraryaddict/LibsDisguises',\n",
       " 'vyse12138/minecraft-threejs',\n",
       " 'CraftTweaker/CraftTweaker',\n",
       " 'Jin-Yuhan/MinecraftClone-Unity',\n",
       " 'swr06/Minecraft',\n",
       " 'spravil/PHP-Minecraft-Server-Status-Query',\n",
       " 'alwyn974/MinecraftBOT',\n",
       " 'PrismLauncher/PrismLauncher',\n",
       " 'AlexProgrammerDE/balena-minecraft-server',\n",
       " 'MattiBorchers/MinecraftEarthMap',\n",
       " 'Morlok8k/MinecraftLandGenerator',\n",
       " 'Kameldieb/terminal_minecraft',\n",
       " 'MachineMuse/MachineMusePowersuits',\n",
       " 'sladkoff/minecraft-prometheus-exporter',\n",
       " 'icexin/gocraft',\n",
       " 'NoCheatPlus/NoCheatPlus',\n",
       " 'FlansMods/FlansMod',\n",
       " 'Greymerk/minecraft-roguelike',\n",
       " 'Incendo/awesome-minecraft',\n",
       " 'xCollateral/VulkanMod',\n",
       " 'thedudeguy/PHP-Minecraft-Rcon',\n",
       " 'phase/MinecraftMappings',\n",
       " 'nicolaschan/minecraft-backup',\n",
       " 'danba340/minecraft-react',\n",
       " 'filoghost/HolographicDisplays',\n",
       " 'MaxPixelStudios/MinecraftDecompiler',\n",
       " 'Fallen-Breath/MCDReforged',\n",
       " 'mcedit/mcedit2',\n",
       " 'agaricusb/MinecraftRemapping',\n",
       " 'Lothrazar/Cyclic',\n",
       " 'devops-coop/ansible-minecraft',\n",
       " 'valence-rs/valence',\n",
       " 'Nukkit/Nukkit',\n",
       " 'raspberrypilearning/getting-started-with-minecraft-pi',\n",
       " 'ustc-zzzz/fmltutor',\n",
       " 'Team-RTG/Realistic-Terrain-Generation',\n",
       " 'jebbyk/OSBES-minecraft-bedrock-edition-shader',\n",
       " 'DarkStorm652/Minecraft-GUI-API',\n",
       " 'sandalle/minecraft_bigreactor_control',\n",
       " 'Kron4ek/minecraft-vortex-launcher',\n",
       " 'Anything-Minecraft-Team/anything-minecraft',\n",
       " 'LTCatt/PCL2Help',\n",
       " 'IdreesInc/Monocraft',\n",
       " 'facebookresearch/craftassist',\n",
       " 'minefold/hubot-minecraft',\n",
       " 'ManiaDevelopment/Minecraft-Classic-Forever',\n",
       " 'VazkiiMods/Quark',\n",
       " 'Shedelbower/MinecraftClone',\n",
       " 'LiveOverflow/minecraft-hacked',\n",
       " 'LambdaInnovation/AcademyCraft',\n",
       " 'PrismarineJS/mineflayer',\n",
       " 'PrismarineJS/node-minecraft-data',\n",
       " 'gekware/minecraft-server-hibernation',\n",
       " 'ShadowOxygen/OxygenX',\n",
       " 'CaffeineMC/lithium-fabric',\n",
       " 'Joshi425/minecraft-exporter',\n",
       " 'MCHPR/MCHPRS',\n",
       " 'GeyserMC/MCProtocolLib',\n",
       " 'equalpants/pigmap',\n",
       " 'BiscuitDevelopment/SkyblockAddons',\n",
       " 'WurstPlus/wurst-plus-three',\n",
       " 'PrismarineJS/prismarine-web-client',\n",
       " 'Teahouse-Studios/mcwzh-meme-resourcepack',\n",
       " 'bangbang93/minecraft-proxy',\n",
       " 'dscalzi/HeliosLauncher',\n",
       " 'martinohanlon/minecraft-stuff',\n",
       " 'huanghongxun/HMCL-PE',\n",
       " 'montoyo/mcef',\n",
       " 'huanghongxun/HMCL',\n",
       " 'zeroeightysix/KAMI',\n",
       " 'LomotHo/minecraft-bedrock',\n",
       " 'BedwarsRel/BedwarsRel',\n",
       " 'supermamie/php-Minecraft-3D-skin',\n",
       " 'link1107/MinecraftLightSync',\n",
       " 'Realizedd/Duels',\n",
       " 'Railcraft/Railcraft',\n",
       " 'xPaw/mcstatus',\n",
       " 'haselkern/Minecraft-ArmorStand',\n",
       " 'martinohanlon/mcpi',\n",
       " 'SpongePowered/SpongeVanilla',\n",
       " 'ljyloo/LevelDb2Avnil',\n",
       " 'HarryTechRevs/Minecraft-Modding-1.12',\n",
       " 'Creators-of-Create/Create',\n",
       " 'Browncha023/MinecraftJS',\n",
       " 'MinecraftHopper/MinecraftHopper',\n",
       " 'superjamie/minecraft-init-script',\n",
       " 'Lusin333/Minecraft-FPS-Hack',\n",
       " 'sinkillerj/ProjectE',\n",
       " 'Wurst-Imperium/WurstClient.net',\n",
       " 'vectorwing/FarmersDelight',\n",
       " 'BlueMap-Minecraft/BlueMap',\n",
       " 'IrisShaders/Iris',\n",
       " 'Lusin333/Minecraft-Server-DDoSer',\n",
       " 'THEREALWWEFAN231/TunnelMC',\n",
       " 'Ckathode/archimedes-ships',\n",
       " 'mraof/Minestuck',\n",
       " 'CloudburstMC/Protocol',\n",
       " 'Pessimistress/minecraft-chunk-viewer',\n",
       " 'solarhess/kubernetes-minecraft-server',\n",
       " 'Willard21/MineKhan',\n",
       " 'earthiverse/3D-Minecraft-Skin-Viewer',\n",
       " 'henkelmax/simple-voice-chat',\n",
       " 'chocopie69/Minecraft-Modifications-Sources',\n",
       " 'eclair4151/MinecraftUpdater',\n",
       " 'bs-community/skinview3d',\n",
       " 'hube12/MinecraftSeedCrackingC',\n",
       " 'Ren232/mcgg',\n",
       " 'orion304/MinecraftTLA',\n",
       " 'PGMDev/PGM',\n",
       " 'DSH105/EchoPet',\n",
       " 'webbukkit/DynmapForge',\n",
       " 'Bukkit/Bukkit-JavaDoc',\n",
       " 'MrCrayfish/MrCrayfishVehicleMod',\n",
       " 'darrelldavis/terraform-aws-minecraft',\n",
       " 'SkinsRestorer/SkinSystem',\n",
       " 'iopleke/Minechem',\n",
       " 'crafatar/crafatar',\n",
       " 'AppliedEnergistics/Applied-Energistics-2',\n",
       " 'maxogden/minecraft-skin',\n",
       " 'Magneticraft-Team/Magneticraft',\n",
       " 'crbednarz/AMIDST',\n",
       " 'Mr-Technician/BorderlessMinecraft',\n",
       " 'KaptainWutax/SeedCracker',\n",
       " 'AztechMC/Modern-Industrialization',\n",
       " 'minotar/minecraft',\n",
       " 'dedepete/FreeLauncher',\n",
       " 'ekaomk/Minecraft-RCON-Console',\n",
       " 'bitquest/bitquest',\n",
       " 'Shampaggon/CrackShot',\n",
       " 'wrrulos/MCPTool',\n",
       " 'KilnGraphics/Blaze4D',\n",
       " 'egold555/Minecraft-1.8.8-PVP-Client-Series',\n",
       " 'SonarSonic/Flux-Networks',\n",
       " 'TartaricAcid/TouhouLittleMaid',\n",
       " 'shoghicp/Minecraft-PHP-Client-2',\n",
       " 'Electroid/SportPaper',\n",
       " 'Spirit55555/PHP-Minecraft',\n",
       " 'bleroy/minecraft.client',\n",
       " 'vram-guild/canvas',\n",
       " 'microsoft/MinecraftCodex',\n",
       " 'df-mc/dragonfly',\n",
       " 'OreCruncher/DynamicSurroundings',\n",
       " 'ttaylorr/minecraft',\n",
       " 'Miracle0565/ComplementaryShaders',\n",
       " 'minecrafthome/minecrafthome',\n",
       " 'YatopiaMC/Yatopia',\n",
       " 'FabricMC/fabric',\n",
       " 'stanhebben/MineTweaker3',\n",
       " 'Voxelum/minecraft-launcher-core-node',\n",
       " 'SonarSonic/Calculator',\n",
       " 'Xmeesho/Wurst-Client',\n",
       " 'Lunatrius/Schematica',\n",
       " 'jolice/MinecraftNetwork',\n",
       " 'tryashtar/image-map',\n",
       " 'Vazkii/Ambience',\n",
       " 'Thinkofname/steven',\n",
       " 'codingminecraft/MinecraftCloneForYoutube',\n",
       " 'Exalm/Minecraft-mods',\n",
       " 'Uristqwerty/CraftGuide',\n",
       " 'plasmoapp/plasmo-voice',\n",
       " 'youtube/youtube-chat-for-minecraft',\n",
       " 'SpitefulFox/Avaritia',\n",
       " 'Unprotesting/Auto-Tune',\n",
       " 'JitseB/NPCLib',\n",
       " 'Ivorforce/RecurrentComplex',\n",
       " 'lucko/spark',\n",
       " 'wzh656/MinecraftWeb',\n",
       " 'mcxr-org/MCXR',\n",
       " 'QuiltMC/quilt-mappings',\n",
       " 'Jozufozu/Flywheel',\n",
       " 'AlexModGuy/Rats',\n",
       " 'Xing-Fax/Minecraft_Bypass_the_program',\n",
       " 'JLPM22/MinecraftUnity',\n",
       " 'Auxilor/EcoEnchants',\n",
       " 'Geforce132/SecurityCraft',\n",
       " 'huanghongxun/HMCL-PE-CN',\n",
       " 'CaffeineMC/phosphor-fabric',\n",
       " 'Rilshrink/Minecraft-Disablers',\n",
       " 'bangbang93/minecraft-protocol',\n",
       " 'PistonDevelopers/hematite_server',\n",
       " 'barneygale/MCRcon',\n",
       " 'apocalyptech/minecraftxray',\n",
       " 'AOF-Dev/Boat',\n",
       " 'aD4wn/Happy_MinecraftClient',\n",
       " 'Poudingue/Vanilla-Normals-Renewed-1.12',\n",
       " 'GoLangMc/minecraft-server',\n",
       " 'NiclasOlofsson/MiNET',\n",
       " 'manicdigger/manicdigger',\n",
       " 'Nan1t/NanoLimbo',\n",
       " 'CharsetMC/Charset',\n",
       " 'KokaKiwi/MCLauncher',\n",
       " 'GeyserMC/mappings',\n",
       " 'AdityaGupta1/minecraft-modding-book',\n",
       " 'ToKiNoBug/SlopeCraft',\n",
       " 'marcelo-mason/SimpleClans',\n",
       " 'noxifoxi/minecraft-server-status',\n",
       " 'PojavLauncherTeam/PojavLauncher_iOS',\n",
       " 'ldtteam/MinecoloniesWiki',\n",
       " 'shedaniel/cloth-config',\n",
       " 'MCPI-Revival/minecraft-pi-reborn',\n",
       " 'moom0o/MinecraftSpamBot',\n",
       " 'WorldQL/mammoth',\n",
       " 'TeamGalacticraft/Galacticraft',\n",
       " 'danielribeiro/WebGLCraft',\n",
       " 'TechnicPack/MinecraftCore',\n",
       " 'hurry989/EndMinecraftMax',\n",
       " 'FlavioGarciaDev/MinecraftSkinPackCreator',\n",
       " 'overviewer/Minecraft-Overviewer-Addons',\n",
       " 'MinecraftWiiUCodes/MinecraftWiiUPlaza',\n",
       " 'ViaVersion/ViaVersion',\n",
       " 'montoyo/webdisplays',\n",
       " 'itsmeow/betteranimalsplus',\n",
       " 'plusls/plusls-carpet-addition',\n",
       " 'PrismarineJS/minecraft-assets',\n",
       " 'sciner/webcraft',\n",
       " 'KinderrKill/Minecraft-Installer',\n",
       " 'P3pp3rF1y/AncientWarfare2',\n",
       " 'gcewing/SGCraft',\n",
       " 'GravitLauncher/Launcher']"
      ]
     },
     "execution_count": 130,
     "metadata": {},
     "output_type": "execute_result"
    }
   ],
   "source": [
    "urls"
   ]
  },
  {
   "cell_type": "code",
   "execution_count": 140,
   "id": "02c630c3",
   "metadata": {},
   "outputs": [],
   "source": [
    "df2 = pd.DataFrame(columns=['repo_link'])\n",
    "for i in range(len(urls)):\n",
    "    df2.loc[i] = urls[i]"
   ]
  },
  {
   "cell_type": "code",
   "execution_count": 141,
   "id": "a856f377",
   "metadata": {},
   "outputs": [
    {
     "data": {
      "text/plain": [
       "(556, 300)"
      ]
     },
     "execution_count": 141,
     "metadata": {},
     "output_type": "execute_result"
    }
   ],
   "source": [
    "df2['repo_link'].nunique(), df.shape[0]"
   ]
  },
  {
   "cell_type": "raw",
   "id": "05104b8a",
   "metadata": {},
   "source": [
    "print(df.to_markdown())"
   ]
  },
  {
   "cell_type": "code",
   "execution_count": 6,
   "id": "76d7db76",
   "metadata": {},
   "outputs": [],
   "source": [
    "#df = pd.read_csv(r'df_urls.csv', index_col=[0])"
   ]
  },
  {
   "cell_type": "code",
   "execution_count": 7,
   "id": "ffbd547e",
   "metadata": {},
   "outputs": [
    {
     "data": {
      "text/html": [
       "<div>\n",
       "<style scoped>\n",
       "    .dataframe tbody tr th:only-of-type {\n",
       "        vertical-align: middle;\n",
       "    }\n",
       "\n",
       "    .dataframe tbody tr th {\n",
       "        vertical-align: top;\n",
       "    }\n",
       "\n",
       "    .dataframe thead th {\n",
       "        text-align: right;\n",
       "    }\n",
       "</style>\n",
       "<table border=\"1\" class=\"dataframe\">\n",
       "  <thead>\n",
       "    <tr style=\"text-align: right;\">\n",
       "      <th></th>\n",
       "      <th>urls</th>\n",
       "    </tr>\n",
       "  </thead>\n",
       "  <tbody>\n",
       "    <tr>\n",
       "      <th>0</th>\n",
       "      <td>/MinecraftForge/MinecraftForge</td>\n",
       "    </tr>\n",
       "    <tr>\n",
       "      <th>1</th>\n",
       "      <td>/fogleman/Minecraft</td>\n",
       "    </tr>\n",
       "    <tr>\n",
       "      <th>2</th>\n",
       "      <td>/itzg/docker-minecraft-server</td>\n",
       "    </tr>\n",
       "    <tr>\n",
       "      <th>3</th>\n",
       "      <td>/overviewer/Minecraft-Overviewer</td>\n",
       "    </tr>\n",
       "    <tr>\n",
       "      <th>4</th>\n",
       "      <td>/TheGreyGhost/MinecraftByExample</td>\n",
       "    </tr>\n",
       "    <tr>\n",
       "      <th>5</th>\n",
       "      <td>/minecraft-dev/MinecraftDev</td>\n",
       "    </tr>\n",
       "    <tr>\n",
       "      <th>6</th>\n",
       "      <td>/jdah/minecraft-weekend</td>\n",
       "    </tr>\n",
       "    <tr>\n",
       "      <th>7</th>\n",
       "      <td>/mouse0w0/MinecraftDeveloperGuide</td>\n",
       "    </tr>\n",
       "    <tr>\n",
       "      <th>8</th>\n",
       "      <td>/Bukkit/Bukkit</td>\n",
       "    </tr>\n",
       "    <tr>\n",
       "      <th>9</th>\n",
       "      <td>/TheRemote/MinecraftBedrockServer</td>\n",
       "    </tr>\n",
       "  </tbody>\n",
       "</table>\n",
       "</div>"
      ],
      "text/plain": [
       "                                urls\n",
       "0     /MinecraftForge/MinecraftForge\n",
       "1                /fogleman/Minecraft\n",
       "2      /itzg/docker-minecraft-server\n",
       "3   /overviewer/Minecraft-Overviewer\n",
       "4   /TheGreyGhost/MinecraftByExample\n",
       "5        /minecraft-dev/MinecraftDev\n",
       "6            /jdah/minecraft-weekend\n",
       "7  /mouse0w0/MinecraftDeveloperGuide\n",
       "8                     /Bukkit/Bukkit\n",
       "9  /TheRemote/MinecraftBedrockServer"
      ]
     },
     "execution_count": 7,
     "metadata": {},
     "output_type": "execute_result"
    }
   ],
   "source": [
    "#df"
   ]
  },
  {
   "cell_type": "code",
   "execution_count": 3,
   "id": "e378312c",
   "metadata": {},
   "outputs": [],
   "source": [
    "url = f'https://github.com/search?q=minecraft'"
   ]
  },
  {
   "cell_type": "code",
   "execution_count": 8,
   "id": "e315e224",
   "metadata": {},
   "outputs": [
    {
     "data": {
      "text/html": [
       "<div>\n",
       "<style scoped>\n",
       "    .dataframe tbody tr th:only-of-type {\n",
       "        vertical-align: middle;\n",
       "    }\n",
       "\n",
       "    .dataframe tbody tr th {\n",
       "        vertical-align: top;\n",
       "    }\n",
       "\n",
       "    .dataframe thead th {\n",
       "        text-align: right;\n",
       "    }\n",
       "</style>\n",
       "<table border=\"1\" class=\"dataframe\">\n",
       "  <thead>\n",
       "    <tr style=\"text-align: right;\">\n",
       "      <th></th>\n",
       "      <th>urls</th>\n",
       "    </tr>\n",
       "  </thead>\n",
       "  <tbody>\n",
       "    <tr>\n",
       "      <th>0</th>\n",
       "      <td>MinecraftForge/MinecraftForge</td>\n",
       "    </tr>\n",
       "    <tr>\n",
       "      <th>1</th>\n",
       "      <td>fogleman/Minecraft</td>\n",
       "    </tr>\n",
       "    <tr>\n",
       "      <th>2</th>\n",
       "      <td>itzg/docker-minecraft-server</td>\n",
       "    </tr>\n",
       "    <tr>\n",
       "      <th>3</th>\n",
       "      <td>overviewer/Minecraft-Overviewer</td>\n",
       "    </tr>\n",
       "    <tr>\n",
       "      <th>4</th>\n",
       "      <td>TheGreyGhost/MinecraftByExample</td>\n",
       "    </tr>\n",
       "    <tr>\n",
       "      <th>5</th>\n",
       "      <td>minecraft-dev/MinecraftDev</td>\n",
       "    </tr>\n",
       "    <tr>\n",
       "      <th>6</th>\n",
       "      <td>jdah/minecraft-weekend</td>\n",
       "    </tr>\n",
       "    <tr>\n",
       "      <th>7</th>\n",
       "      <td>mouse0w0/MinecraftDeveloperGuide</td>\n",
       "    </tr>\n",
       "    <tr>\n",
       "      <th>8</th>\n",
       "      <td>Bukkit/Bukkit</td>\n",
       "    </tr>\n",
       "    <tr>\n",
       "      <th>9</th>\n",
       "      <td>TheRemote/MinecraftBedrockServer</td>\n",
       "    </tr>\n",
       "  </tbody>\n",
       "</table>\n",
       "</div>"
      ],
      "text/plain": [
       "                               urls\n",
       "0     MinecraftForge/MinecraftForge\n",
       "1                fogleman/Minecraft\n",
       "2      itzg/docker-minecraft-server\n",
       "3   overviewer/Minecraft-Overviewer\n",
       "4   TheGreyGhost/MinecraftByExample\n",
       "5        minecraft-dev/MinecraftDev\n",
       "6            jdah/minecraft-weekend\n",
       "7  mouse0w0/MinecraftDeveloperGuide\n",
       "8                     Bukkit/Bukkit\n",
       "9  TheRemote/MinecraftBedrockServer"
      ]
     },
     "execution_count": 8,
     "metadata": {},
     "output_type": "execute_result"
    }
   ],
   "source": [
    "df['urls'] = df['urls'].str.replace('/','',n=1)\n",
    "df"
   ]
  },
  {
   "cell_type": "code",
   "execution_count": 9,
   "id": "b9ff1b66",
   "metadata": {},
   "outputs": [],
   "source": [
    "\"\"\"\n",
    "A module for obtaining repo readme and language data from the github API.\n",
    "Before using this module, read through it, and follow the instructions marked\n",
    "TODO.\n",
    "After doing so, run it like this:\n",
    "    python acquire.py\n",
    "To create the `data.json` file that contains the data.\n",
    "\"\"\"\n",
    "\n",
    "# TODO: Make a github personal access token.\n",
    "#     1. Go here and generate a personal access token: https://github.com/settings/tokens\n",
    "#        You do _not_ need select any scopes, i.e. leave all the checkboxes unchecked\n",
    "#     2. Save it in your env.py file under the variable `github_token`\n",
    "# TODO: Add your github username to your env.py file under the variable `github_username`\n",
    "# TODO: Add more repositories to the `REPOS` list below.\n",
    "\n",
    "REPOS = list(df['urls'])\n",
    "\n",
    "headers = {\"Authorization\": f\"token {github_token}\", \"User-Agent\": github_username}\n",
    "\n",
    "if headers[\"Authorization\"] == \"token \" or headers[\"User-Agent\"] == \"\":\n",
    "    raise Exception(\n",
    "        \"You need to follow the instructions marked TODO in this script before trying to use it\"\n",
    "    )\n",
    "\n",
    "\n",
    "def github_api_request(url: str) -> Union[List, Dict]:\n",
    "    response = requests.get(url, headers=headers)\n",
    "    response_data = response.json()\n",
    "    if response.status_code != 200:\n",
    "        raise Exception(\n",
    "            f\"Error response from github api! status code: {response.status_code}, \"\n",
    "            f\"response: {json.dumps(response_data)}\"\n",
    "        )\n",
    "    return response_data\n",
    "\n",
    "\n",
    "def get_repo_language(repo: str) -> str:\n",
    "    url = f\"https://api.github.com/repos/{repo}\"\n",
    "    repo_info = github_api_request(url)\n",
    "    if type(repo_info) is dict:\n",
    "        repo_info = cast(Dict, repo_info)\n",
    "        if \"language\" not in repo_info:\n",
    "            raise Exception(\n",
    "                \"'language' key not round in response\\n{}\".format(json.dumps(repo_info))\n",
    "            )\n",
    "        return repo_info[\"language\"]\n",
    "    raise Exception(\n",
    "        f\"Expecting a dictionary response from {url}, instead got {json.dumps(repo_info)}\"\n",
    "    )\n",
    "\n",
    "\n",
    "def get_repo_contents(repo: str) -> List[Dict[str, str]]:\n",
    "    url = f\"https://api.github.com/repos/{repo}/contents/\"\n",
    "    contents = github_api_request(url)\n",
    "    if type(contents) is list:\n",
    "        contents = cast(List, contents)\n",
    "        return contents\n",
    "    raise Exception(\n",
    "        f\"Expecting a list response from {url}, instead got {json.dumps(contents)}\"\n",
    "    )\n",
    "\n",
    "\n",
    "def get_readme_download_url(files: List[Dict[str, str]]) -> str:\n",
    "    \"\"\"\n",
    "    Takes in a response from the github api that lists the files in a repo and\n",
    "    returns the url that can be used to download the repo's README file.\n",
    "    \"\"\"\n",
    "    for file in files:\n",
    "        if file[\"name\"].lower().startswith(\"readme\"):\n",
    "            return file[\"download_url\"]\n",
    "    return \"\"\n",
    "\n",
    "\n",
    "def process_repo(repo: str) -> Dict[str, str]:\n",
    "    \"\"\"\n",
    "    Takes a repo name like \"gocodeup/codeup-setup-script\" and returns a\n",
    "    dictionary with the language of the repo and the readme contents.\n",
    "    \"\"\"\n",
    "    contents = get_repo_contents(repo)\n",
    "    readme_download_url = get_readme_download_url(contents)\n",
    "    if readme_download_url == \"\":\n",
    "        readme_contents = \"\"\n",
    "    else:\n",
    "        readme_contents = requests.get(readme_download_url).text\n",
    "    return {\n",
    "        \"repo\": repo,\n",
    "        \"language\": get_repo_language(repo),\n",
    "        \"readme_contents\": readme_contents,\n",
    "    }\n",
    "\n",
    "\n",
    "def scrape_github_data() -> List[Dict[str, str]]:\n",
    "    \"\"\"\n",
    "    Loop through all of the repos and process them. Returns the processed data.\n",
    "    \"\"\"\n",
    "    return [process_repo(repo) for repo in REPOS]\n",
    "\n",
    "\n",
    "if __name__ == \"__main__\":\n",
    "    data = scrape_github_data()\n",
    "    json.dump(data, open(\"data.json\", \"w\"), indent=1)"
   ]
  },
  {
   "cell_type": "code",
   "execution_count": 11,
   "id": "a41da445",
   "metadata": {},
   "outputs": [],
   "source": [
    "scraped_dict = scrape_github_data()"
   ]
  },
  {
   "cell_type": "code",
   "execution_count": 13,
   "id": "234d1bad",
   "metadata": {},
   "outputs": [
    {
     "data": {
      "text/html": [
       "<div>\n",
       "<style scoped>\n",
       "    .dataframe tbody tr th:only-of-type {\n",
       "        vertical-align: middle;\n",
       "    }\n",
       "\n",
       "    .dataframe tbody tr th {\n",
       "        vertical-align: top;\n",
       "    }\n",
       "\n",
       "    .dataframe thead th {\n",
       "        text-align: right;\n",
       "    }\n",
       "</style>\n",
       "<table border=\"1\" class=\"dataframe\">\n",
       "  <thead>\n",
       "    <tr style=\"text-align: right;\">\n",
       "      <th></th>\n",
       "      <th>repo</th>\n",
       "      <th>language</th>\n",
       "      <th>readme_contents</th>\n",
       "    </tr>\n",
       "  </thead>\n",
       "  <tbody>\n",
       "    <tr>\n",
       "      <th>0</th>\n",
       "      <td>MinecraftForge/MinecraftForge</td>\n",
       "      <td>Java</td>\n",
       "      <td></td>\n",
       "    </tr>\n",
       "    <tr>\n",
       "      <th>1</th>\n",
       "      <td>fogleman/Minecraft</td>\n",
       "      <td>Python</td>\n",
       "      <td># Minecraft\\n\\nSimple Minecraft-inspired demo ...</td>\n",
       "    </tr>\n",
       "    <tr>\n",
       "      <th>2</th>\n",
       "      <td>itzg/docker-minecraft-server</td>\n",
       "      <td>Shell</td>\n",
       "      <td>[![Docker Pulls](https://img.shields.io/docker...</td>\n",
       "    </tr>\n",
       "    <tr>\n",
       "      <th>3</th>\n",
       "      <td>overviewer/Minecraft-Overviewer</td>\n",
       "      <td>Python</td>\n",
       "      <td>====================================\\nMinecraf...</td>\n",
       "    </tr>\n",
       "    <tr>\n",
       "      <th>4</th>\n",
       "      <td>TheGreyGhost/MinecraftByExample</td>\n",
       "      <td>Java</td>\n",
       "      <td>MinecraftByExample [1.16.4]\\n=================...</td>\n",
       "    </tr>\n",
       "    <tr>\n",
       "      <th>5</th>\n",
       "      <td>minecraft-dev/MinecraftDev</td>\n",
       "      <td>Kotlin</td>\n",
       "      <td>&lt;p align=\"center\"&gt;&lt;a href=\"https://minecraftde...</td>\n",
       "    </tr>\n",
       "    <tr>\n",
       "      <th>6</th>\n",
       "      <td>jdah/minecraft-weekend</td>\n",
       "      <td>C</td>\n",
       "      <td># Minecraft, but I made it in 48 hours*\\n\\n\\* ...</td>\n",
       "    </tr>\n",
       "    <tr>\n",
       "      <th>7</th>\n",
       "      <td>mouse0w0/MinecraftDeveloperGuide</td>\n",
       "      <td>None</td>\n",
       "      <td># 我的世界开发者中文指南\\n![](https://img.shields.io/badg...</td>\n",
       "    </tr>\n",
       "    <tr>\n",
       "      <th>8</th>\n",
       "      <td>Bukkit/Bukkit</td>\n",
       "      <td>Java</td>\n",
       "      <td>Bukkit\\n======\\n\\nA Minecraft Server API.\\n\\nW...</td>\n",
       "    </tr>\n",
       "    <tr>\n",
       "      <th>9</th>\n",
       "      <td>TheRemote/MinecraftBedrockServer</td>\n",
       "      <td>Shell</td>\n",
       "      <td># Minecraft Bedrock Server\\n\\n[日本語版 README はこち...</td>\n",
       "    </tr>\n",
       "  </tbody>\n",
       "</table>\n",
       "</div>"
      ],
      "text/plain": [
       "                               repo language  \\\n",
       "0     MinecraftForge/MinecraftForge     Java   \n",
       "1                fogleman/Minecraft   Python   \n",
       "2      itzg/docker-minecraft-server    Shell   \n",
       "3   overviewer/Minecraft-Overviewer   Python   \n",
       "4   TheGreyGhost/MinecraftByExample     Java   \n",
       "5        minecraft-dev/MinecraftDev   Kotlin   \n",
       "6            jdah/minecraft-weekend        C   \n",
       "7  mouse0w0/MinecraftDeveloperGuide     None   \n",
       "8                     Bukkit/Bukkit     Java   \n",
       "9  TheRemote/MinecraftBedrockServer    Shell   \n",
       "\n",
       "                                     readme_contents  \n",
       "0                                                     \n",
       "1  # Minecraft\\n\\nSimple Minecraft-inspired demo ...  \n",
       "2  [![Docker Pulls](https://img.shields.io/docker...  \n",
       "3  ====================================\\nMinecraf...  \n",
       "4  MinecraftByExample [1.16.4]\\n=================...  \n",
       "5  <p align=\"center\"><a href=\"https://minecraftde...  \n",
       "6  # Minecraft, but I made it in 48 hours*\\n\\n\\* ...  \n",
       "7  # 我的世界开发者中文指南\\n![](https://img.shields.io/badg...  \n",
       "8  Bukkit\\n======\\n\\nA Minecraft Server API.\\n\\nW...  \n",
       "9  # Minecraft Bedrock Server\\n\\n[日本語版 README はこち...  "
      ]
     },
     "execution_count": 13,
     "metadata": {},
     "output_type": "execute_result"
    }
   ],
   "source": [
    "scraped_df = pd.DataFrame(scraped_dict)\n",
    "scraped_df"
   ]
  },
  {
   "cell_type": "code",
   "execution_count": 17,
   "id": "89ba6bdb",
   "metadata": {},
   "outputs": [
    {
     "data": {
      "text/html": [
       "<div>\n",
       "<style scoped>\n",
       "    .dataframe tbody tr th:only-of-type {\n",
       "        vertical-align: middle;\n",
       "    }\n",
       "\n",
       "    .dataframe tbody tr th {\n",
       "        vertical-align: top;\n",
       "    }\n",
       "\n",
       "    .dataframe thead th {\n",
       "        text-align: right;\n",
       "    }\n",
       "</style>\n",
       "<table border=\"1\" class=\"dataframe\">\n",
       "  <thead>\n",
       "    <tr style=\"text-align: right;\">\n",
       "      <th></th>\n",
       "      <th>repo</th>\n",
       "      <th>language</th>\n",
       "      <th>readme_contents</th>\n",
       "    </tr>\n",
       "  </thead>\n",
       "  <tbody>\n",
       "    <tr>\n",
       "      <th>0</th>\n",
       "      <td>MinecraftForge/MinecraftForge</td>\n",
       "      <td>Java</td>\n",
       "      <td>NaN</td>\n",
       "    </tr>\n",
       "    <tr>\n",
       "      <th>1</th>\n",
       "      <td>fogleman/Minecraft</td>\n",
       "      <td>Python</td>\n",
       "      <td># Minecraft\\n\\nSimple Minecraft-inspired demo ...</td>\n",
       "    </tr>\n",
       "    <tr>\n",
       "      <th>2</th>\n",
       "      <td>itzg/docker-minecraft-server</td>\n",
       "      <td>Shell</td>\n",
       "      <td>[![Docker Pulls](https://img.shields.io/docker...</td>\n",
       "    </tr>\n",
       "    <tr>\n",
       "      <th>3</th>\n",
       "      <td>overviewer/Minecraft-Overviewer</td>\n",
       "      <td>Python</td>\n",
       "      <td>====================================\\nMinecraf...</td>\n",
       "    </tr>\n",
       "    <tr>\n",
       "      <th>4</th>\n",
       "      <td>TheGreyGhost/MinecraftByExample</td>\n",
       "      <td>Java</td>\n",
       "      <td>MinecraftByExample [1.16.4]\\n=================...</td>\n",
       "    </tr>\n",
       "    <tr>\n",
       "      <th>...</th>\n",
       "      <td>...</td>\n",
       "      <td>...</td>\n",
       "      <td>...</td>\n",
       "    </tr>\n",
       "    <tr>\n",
       "      <th>495</th>\n",
       "      <td>GoLangMc/minecraft-server</td>\n",
       "      <td>Go</td>\n",
       "      <td>\\n&lt;p align=\"center\"&gt;\\n\\n  &lt;a href=\"https://git...</td>\n",
       "    </tr>\n",
       "    <tr>\n",
       "      <th>496</th>\n",
       "      <td>Poudingue/Vanilla-Normals-Renewed-1.12</td>\n",
       "      <td>NaN</td>\n",
       "      <td># Vanilla-Normals-Renewed-1.12\\n\\nThis is an a...</td>\n",
       "    </tr>\n",
       "    <tr>\n",
       "      <th>497</th>\n",
       "      <td>NiclasOlofsson/MiNET</td>\n",
       "      <td>C#</td>\n",
       "      <td>In case you don't find the information you are...</td>\n",
       "    </tr>\n",
       "    <tr>\n",
       "      <th>498</th>\n",
       "      <td>manicdigger/manicdigger</td>\n",
       "      <td>C#</td>\n",
       "      <td>[![Travis Build Status](https://img.shields.io...</td>\n",
       "    </tr>\n",
       "    <tr>\n",
       "      <th>499</th>\n",
       "      <td>Nan1t/NanoLimbo</td>\n",
       "      <td>Java</td>\n",
       "      <td>## NanoLimbo\\r\\n\\r\\nThis is lightweight minecr...</td>\n",
       "    </tr>\n",
       "  </tbody>\n",
       "</table>\n",
       "<p>500 rows × 3 columns</p>\n",
       "</div>"
      ],
      "text/plain": [
       "                                       repo language  \\\n",
       "0             MinecraftForge/MinecraftForge     Java   \n",
       "1                        fogleman/Minecraft   Python   \n",
       "2              itzg/docker-minecraft-server    Shell   \n",
       "3           overviewer/Minecraft-Overviewer   Python   \n",
       "4           TheGreyGhost/MinecraftByExample     Java   \n",
       "..                                      ...      ...   \n",
       "495               GoLangMc/minecraft-server       Go   \n",
       "496  Poudingue/Vanilla-Normals-Renewed-1.12      NaN   \n",
       "497                    NiclasOlofsson/MiNET       C#   \n",
       "498                 manicdigger/manicdigger       C#   \n",
       "499                         Nan1t/NanoLimbo     Java   \n",
       "\n",
       "                                       readme_contents  \n",
       "0                                                  NaN  \n",
       "1    # Minecraft\\n\\nSimple Minecraft-inspired demo ...  \n",
       "2    [![Docker Pulls](https://img.shields.io/docker...  \n",
       "3    ====================================\\nMinecraf...  \n",
       "4    MinecraftByExample [1.16.4]\\n=================...  \n",
       "..                                                 ...  \n",
       "495  \\n<p align=\"center\">\\n\\n  <a href=\"https://git...  \n",
       "496  # Vanilla-Normals-Renewed-1.12\\n\\nThis is an a...  \n",
       "497  In case you don't find the information you are...  \n",
       "498  [![Travis Build Status](https://img.shields.io...  \n",
       "499  ## NanoLimbo\\r\\n\\r\\nThis is lightweight minecr...  \n",
       "\n",
       "[500 rows x 3 columns]"
      ]
     },
     "execution_count": 17,
     "metadata": {},
     "output_type": "execute_result"
    }
   ],
   "source": [
    "df = pd.read_csv(r'scraped_data.csv', index_col=[0])\n",
    "df"
   ]
  },
  {
   "cell_type": "code",
   "execution_count": 31,
   "id": "a9118dcb",
   "metadata": {},
   "outputs": [
    {
     "name": "stdout",
     "output_type": "stream",
     "text": [
      "<class 'pandas.core.frame.DataFrame'>\n",
      "Int64Index: 440 entries, 1 to 499\n",
      "Data columns (total 3 columns):\n",
      " #   Column           Non-Null Count  Dtype \n",
      "---  ------           --------------  ----- \n",
      " 0   repo             440 non-null    object\n",
      " 1   language         440 non-null    object\n",
      " 2   readme_contents  440 non-null    object\n",
      "dtypes: object(3)\n",
      "memory usage: 13.8+ KB\n"
     ]
    }
   ],
   "source": [
    "df.info()"
   ]
  },
  {
   "cell_type": "code",
   "execution_count": 26,
   "id": "5c721487",
   "metadata": {},
   "outputs": [],
   "source": [
    "df = df.dropna()"
   ]
  },
  {
   "cell_type": "code",
   "execution_count": 32,
   "id": "24e58f38",
   "metadata": {},
   "outputs": [
    {
     "name": "stdout",
     "output_type": "stream",
     "text": [
      "<class 'pandas.core.frame.DataFrame'>\n",
      "Int64Index: 440 entries, 1 to 499\n",
      "Data columns (total 3 columns):\n",
      " #   Column           Non-Null Count  Dtype \n",
      "---  ------           --------------  ----- \n",
      " 0   repo             440 non-null    object\n",
      " 1   language         440 non-null    object\n",
      " 2   readme_contents  440 non-null    object\n",
      "dtypes: object(3)\n",
      "memory usage: 13.8+ KB\n"
     ]
    }
   ],
   "source": [
    "df.info()"
   ]
  },
  {
   "cell_type": "code",
   "execution_count": 28,
   "id": "ae3a39e8",
   "metadata": {},
   "outputs": [
    {
     "data": {
      "text/plain": [
       "Java                198\n",
       "Python               41\n",
       "JavaScript           36\n",
       "C#                   26\n",
       "PHP                  18\n",
       "Shell                18\n",
       "C++                  17\n",
       "C                    12\n",
       "Kotlin               11\n",
       "TypeScript           11\n",
       "Go                    9\n",
       "Rust                  8\n",
       "Lua                   4\n",
       "Batchfile             3\n",
       "Scala                 3\n",
       "HCL                   2\n",
       "HTML                  2\n",
       "CoffeeScript          2\n",
       "Dockerfile            2\n",
       "Ruby                  2\n",
       "TeX                   2\n",
       "Jupyter Notebook      2\n",
       "mcfunction            1\n",
       "Assembly              1\n",
       "Yacc                  1\n",
       "Mustache              1\n",
       "Smarty                1\n",
       "PureBasic             1\n",
       "Clojure               1\n",
       "CSS                   1\n",
       "PowerShell            1\n",
       "SystemVerilog         1\n",
       "ZenScript             1\n",
       "Name: language, dtype: int64"
      ]
     },
     "execution_count": 28,
     "metadata": {},
     "output_type": "execute_result"
    }
   ],
   "source": [
    "df.language.value_counts()"
   ]
  },
  {
   "cell_type": "code",
   "execution_count": 30,
   "id": "d0b6a3f8",
   "metadata": {},
   "outputs": [
    {
     "ename": "SyntaxError",
     "evalue": "invalid syntax (3406975882.py, line 1)",
     "output_type": "error",
     "traceback": [
      "\u001b[0;36m  Cell \u001b[0;32mIn[30], line 1\u001b[0;36m\u001b[0m\n\u001b[0;31m    df.head(51:101)\u001b[0m\n\u001b[0m              ^\u001b[0m\n\u001b[0;31mSyntaxError\u001b[0m\u001b[0;31m:\u001b[0m invalid syntax\n"
     ]
    }
   ],
   "source": [
    "df.head(51:101)"
   ]
  },
  {
   "cell_type": "code",
   "execution_count": 33,
   "id": "84a4df4f",
   "metadata": {},
   "outputs": [],
   "source": [
    "language_list = ['Java','Python','JavaScript']"
   ]
  },
  {
   "cell_type": "code",
   "execution_count": 34,
   "id": "a941a4d5",
   "metadata": {},
   "outputs": [],
   "source": [
    "df = df[df.language.isin(language_list) == True]"
   ]
  },
  {
   "cell_type": "code",
   "execution_count": 36,
   "id": "d527760f",
   "metadata": {},
   "outputs": [
    {
     "data": {
      "text/plain": [
       "Java          198\n",
       "Python         41\n",
       "JavaScript     36\n",
       "Name: language, dtype: int64"
      ]
     },
     "execution_count": 36,
     "metadata": {},
     "output_type": "execute_result"
    }
   ],
   "source": [
    "df.language.value_counts()"
   ]
  },
  {
   "cell_type": "code",
   "execution_count": 37,
   "id": "54690d81",
   "metadata": {},
   "outputs": [],
   "source": [
    "def remove_languages(df):\n",
    "    #define values\n",
    "    language_list = ['Java','Python','JavaScript']\n",
    "    #drop rows that contain any value in the list\n",
    "    df = df[df.language.isin(language_list) == True]\n",
    "    \n",
    "    return df"
   ]
  },
  {
   "cell_type": "markdown",
   "id": "0932ab6c",
   "metadata": {},
   "source": [
    "# Prepare"
   ]
  },
  {
   "cell_type": "code",
   "execution_count": 61,
   "id": "ee47a549",
   "metadata": {},
   "outputs": [
    {
     "data": {
      "text/html": [
       "<div>\n",
       "<style scoped>\n",
       "    .dataframe tbody tr th:only-of-type {\n",
       "        vertical-align: middle;\n",
       "    }\n",
       "\n",
       "    .dataframe tbody tr th {\n",
       "        vertical-align: top;\n",
       "    }\n",
       "\n",
       "    .dataframe thead th {\n",
       "        text-align: right;\n",
       "    }\n",
       "</style>\n",
       "<table border=\"1\" class=\"dataframe\">\n",
       "  <thead>\n",
       "    <tr style=\"text-align: right;\">\n",
       "      <th></th>\n",
       "      <th>repo</th>\n",
       "      <th>language</th>\n",
       "      <th>readme_contents</th>\n",
       "    </tr>\n",
       "  </thead>\n",
       "  <tbody>\n",
       "    <tr>\n",
       "      <th>0</th>\n",
       "      <td>MinecraftForge/MinecraftForge</td>\n",
       "      <td>Java</td>\n",
       "      <td>NaN</td>\n",
       "    </tr>\n",
       "    <tr>\n",
       "      <th>1</th>\n",
       "      <td>fogleman/Minecraft</td>\n",
       "      <td>Python</td>\n",
       "      <td># Minecraft\\n\\nSimple Minecraft-inspired demo ...</td>\n",
       "    </tr>\n",
       "    <tr>\n",
       "      <th>2</th>\n",
       "      <td>itzg/docker-minecraft-server</td>\n",
       "      <td>Shell</td>\n",
       "      <td>[![Docker Pulls](https://img.shields.io/docker...</td>\n",
       "    </tr>\n",
       "    <tr>\n",
       "      <th>3</th>\n",
       "      <td>overviewer/Minecraft-Overviewer</td>\n",
       "      <td>Python</td>\n",
       "      <td>====================================\\nMinecraf...</td>\n",
       "    </tr>\n",
       "    <tr>\n",
       "      <th>4</th>\n",
       "      <td>TheGreyGhost/MinecraftByExample</td>\n",
       "      <td>Java</td>\n",
       "      <td>MinecraftByExample [1.16.4]\\n=================...</td>\n",
       "    </tr>\n",
       "    <tr>\n",
       "      <th>...</th>\n",
       "      <td>...</td>\n",
       "      <td>...</td>\n",
       "      <td>...</td>\n",
       "    </tr>\n",
       "    <tr>\n",
       "      <th>995</th>\n",
       "      <td>GeyserMC/PacketLib</td>\n",
       "      <td>Java</td>\n",
       "      <td># PacketLib\\nPacketLib is a library for packet...</td>\n",
       "    </tr>\n",
       "    <tr>\n",
       "      <th>996</th>\n",
       "      <td>Nic4Las/Minecraft-Enderite-Mod</td>\n",
       "      <td>Java</td>\n",
       "      <td># Enderite Mod\\n\\n[![](http://cf.way2muchnoise...</td>\n",
       "    </tr>\n",
       "    <tr>\n",
       "      <th>997</th>\n",
       "      <td>grahamedgecombe/minecraft-installer</td>\n",
       "      <td>Groff</td>\n",
       "      <td>NaN</td>\n",
       "    </tr>\n",
       "    <tr>\n",
       "      <th>998</th>\n",
       "      <td>espertus/blockly-lua</td>\n",
       "      <td>JavaScript</td>\n",
       "      <td>Blockly Lua allows you to program ComputerCraf...</td>\n",
       "    </tr>\n",
       "    <tr>\n",
       "      <th>999</th>\n",
       "      <td>deathcap/node-minecraft-ping</td>\n",
       "      <td>JavaScript</td>\n",
       "      <td># node-minecraft-ping\\n\\nSends a [server list ...</td>\n",
       "    </tr>\n",
       "  </tbody>\n",
       "</table>\n",
       "<p>1000 rows × 3 columns</p>\n",
       "</div>"
      ],
      "text/plain": [
       "                                    repo    language  \\\n",
       "0          MinecraftForge/MinecraftForge        Java   \n",
       "1                     fogleman/Minecraft      Python   \n",
       "2           itzg/docker-minecraft-server       Shell   \n",
       "3        overviewer/Minecraft-Overviewer      Python   \n",
       "4        TheGreyGhost/MinecraftByExample        Java   \n",
       "..                                   ...         ...   \n",
       "995                   GeyserMC/PacketLib        Java   \n",
       "996       Nic4Las/Minecraft-Enderite-Mod        Java   \n",
       "997  grahamedgecombe/minecraft-installer       Groff   \n",
       "998                 espertus/blockly-lua  JavaScript   \n",
       "999         deathcap/node-minecraft-ping  JavaScript   \n",
       "\n",
       "                                       readme_contents  \n",
       "0                                                  NaN  \n",
       "1    # Minecraft\\n\\nSimple Minecraft-inspired demo ...  \n",
       "2    [![Docker Pulls](https://img.shields.io/docker...  \n",
       "3    ====================================\\nMinecraf...  \n",
       "4    MinecraftByExample [1.16.4]\\n=================...  \n",
       "..                                                 ...  \n",
       "995  # PacketLib\\nPacketLib is a library for packet...  \n",
       "996  # Enderite Mod\\n\\n[![](http://cf.way2muchnoise...  \n",
       "997                                                NaN  \n",
       "998  Blockly Lua allows you to program ComputerCraf...  \n",
       "999  # node-minecraft-ping\\n\\nSends a [server list ...  \n",
       "\n",
       "[1000 rows x 3 columns]"
      ]
     },
     "execution_count": 61,
     "metadata": {},
     "output_type": "execute_result"
    }
   ],
   "source": [
    "df = pd.read_csv(r'large_scraped_data.csv', index_col=[0])\n",
    "df"
   ]
  },
  {
   "cell_type": "code",
   "execution_count": 62,
   "id": "297eb65a",
   "metadata": {},
   "outputs": [],
   "source": [
    "# Replace a whitespace sequence or empty with a NaN value and reassign this manipulation to df. \n",
    "df = df.replace(r'^\\s*$', np.nan, regex=True)"
   ]
  },
  {
   "cell_type": "code",
   "execution_count": 63,
   "id": "0ab73639",
   "metadata": {},
   "outputs": [
    {
     "name": "stdout",
     "output_type": "stream",
     "text": [
      "<class 'pandas.core.frame.DataFrame'>\n",
      "Int64Index: 1000 entries, 0 to 999\n",
      "Data columns (total 3 columns):\n",
      " #   Column           Non-Null Count  Dtype \n",
      "---  ------           --------------  ----- \n",
      " 0   repo             1000 non-null   object\n",
      " 1   language         938 non-null    object\n",
      " 2   readme_contents  943 non-null    object\n",
      "dtypes: object(3)\n",
      "memory usage: 31.2+ KB\n"
     ]
    }
   ],
   "source": [
    "df.info()"
   ]
  },
  {
   "cell_type": "code",
   "execution_count": 64,
   "id": "63703854",
   "metadata": {},
   "outputs": [],
   "source": [
    "# Removes null values\n",
    "df = df.dropna()"
   ]
  },
  {
   "cell_type": "code",
   "execution_count": 65,
   "id": "85145ec0",
   "metadata": {},
   "outputs": [
    {
     "name": "stdout",
     "output_type": "stream",
     "text": [
      "<class 'pandas.core.frame.DataFrame'>\n",
      "Int64Index: 884 entries, 1 to 999\n",
      "Data columns (total 3 columns):\n",
      " #   Column           Non-Null Count  Dtype \n",
      "---  ------           --------------  ----- \n",
      " 0   repo             884 non-null    object\n",
      " 1   language         884 non-null    object\n",
      " 2   readme_contents  884 non-null    object\n",
      "dtypes: object(3)\n",
      "memory usage: 27.6+ KB\n"
     ]
    }
   ],
   "source": [
    "df.info()"
   ]
  },
  {
   "cell_type": "code",
   "execution_count": 66,
   "id": "5f0db852",
   "metadata": {},
   "outputs": [
    {
     "data": {
      "text/plain": [
       "Java                 402\n",
       "JavaScript            86\n",
       "Python                76\n",
       "C#                    43\n",
       "C++                   36\n",
       "Shell                 35\n",
       "PHP                   33\n",
       "Kotlin                23\n",
       "TypeScript            22\n",
       "Go                    19\n",
       "C                     16\n",
       "Rust                  15\n",
       "Lua                    6\n",
       "HTML                   6\n",
       "ZenScript              5\n",
       "Ruby                   5\n",
       "CSS                    4\n",
       "GLSL                   4\n",
       "Dockerfile             4\n",
       "Scala                  4\n",
       "Jupyter Notebook       4\n",
       "Batchfile              3\n",
       "CoffeeScript           3\n",
       "HCL                    3\n",
       "Elixir                 2\n",
       "mcfunction             2\n",
       "Visual Basic .NET      2\n",
       "TeX                    2\n",
       "Mustache               2\n",
       "PowerShell             2\n",
       "GDScript               1\n",
       "R                      1\n",
       "CMake                  1\n",
       "Vue                    1\n",
       "AutoHotkey             1\n",
       "SCSS                   1\n",
       "PureBasic              1\n",
       "Swift                  1\n",
       "JSON                   1\n",
       "Assembly               1\n",
       "Yacc                   1\n",
       "Smarty                 1\n",
       "Clojure                1\n",
       "SystemVerilog          1\n",
       "Haskell                1\n",
       "Name: language, dtype: int64"
      ]
     },
     "execution_count": 66,
     "metadata": {},
     "output_type": "execute_result"
    }
   ],
   "source": [
    "df.language.value_counts()"
   ]
  },
  {
   "cell_type": "code",
   "execution_count": 67,
   "id": "64e38796",
   "metadata": {},
   "outputs": [],
   "source": [
    "#Lowercase everything\n",
    "df['readme_contents'] = df['readme_contents'].str.lower()"
   ]
  },
  {
   "cell_type": "code",
   "execution_count": 68,
   "id": "9f3fac3d",
   "metadata": {},
   "outputs": [
    {
     "data": {
      "text/html": [
       "<div>\n",
       "<style scoped>\n",
       "    .dataframe tbody tr th:only-of-type {\n",
       "        vertical-align: middle;\n",
       "    }\n",
       "\n",
       "    .dataframe tbody tr th {\n",
       "        vertical-align: top;\n",
       "    }\n",
       "\n",
       "    .dataframe thead th {\n",
       "        text-align: right;\n",
       "    }\n",
       "</style>\n",
       "<table border=\"1\" class=\"dataframe\">\n",
       "  <thead>\n",
       "    <tr style=\"text-align: right;\">\n",
       "      <th></th>\n",
       "      <th>repo</th>\n",
       "      <th>language</th>\n",
       "      <th>readme_contents</th>\n",
       "    </tr>\n",
       "  </thead>\n",
       "  <tbody>\n",
       "    <tr>\n",
       "      <th>1</th>\n",
       "      <td>fogleman/Minecraft</td>\n",
       "      <td>Python</td>\n",
       "      <td># minecraft\\n\\nsimple minecraft-inspired demo ...</td>\n",
       "    </tr>\n",
       "    <tr>\n",
       "      <th>2</th>\n",
       "      <td>itzg/docker-minecraft-server</td>\n",
       "      <td>Shell</td>\n",
       "      <td>[![docker pulls](https://img.shields.io/docker...</td>\n",
       "    </tr>\n",
       "  </tbody>\n",
       "</table>\n",
       "</div>"
      ],
      "text/plain": [
       "                           repo language  \\\n",
       "1            fogleman/Minecraft   Python   \n",
       "2  itzg/docker-minecraft-server    Shell   \n",
       "\n",
       "                                     readme_contents  \n",
       "1  # minecraft\\n\\nsimple minecraft-inspired demo ...  \n",
       "2  [![docker pulls](https://img.shields.io/docker...  "
      ]
     },
     "execution_count": 68,
     "metadata": {},
     "output_type": "execute_result"
    }
   ],
   "source": [
    "df.head(2)"
   ]
  },
  {
   "cell_type": "code",
   "execution_count": 69,
   "id": "dd5d3cd7",
   "metadata": {},
   "outputs": [
    {
     "data": {
      "text/plain": [
       "1      # minecraft\\n\\nsimple minecraft-inspired demo ...\n",
       "2      [![docker pulls](https://img.shields.io/docker...\n",
       "3      ====================================\\nminecraf...\n",
       "4      minecraftbyexample [1.16.4]\\n=================...\n",
       "5      <p align=\"center\"><a href=\"https://minecraftde...\n",
       "                             ...                        \n",
       "994    # crossroads\\n\\na steampunk technology mod for...\n",
       "995    # packetlib\\npacketlib is a library for packet...\n",
       "996    # enderite mod\\n\\n[![](http://cf.way2muchnoise...\n",
       "998    blockly lua allows you to program computercraf...\n",
       "999    # node-minecraft-ping\\n\\nsends a [server list ...\n",
       "Name: readme_contents, Length: 884, dtype: object"
      ]
     },
     "execution_count": 69,
     "metadata": {},
     "output_type": "execute_result"
    }
   ],
   "source": [
    "#df['readme_contents'].str.normalize('NFKD').str.encode('ascii', errors='ignore').str.decode('utf-8')"
   ]
  },
  {
   "cell_type": "code",
   "execution_count": 71,
   "id": "1a15ec2e",
   "metadata": {},
   "outputs": [
    {
     "data": {
      "text/html": [
       "<div>\n",
       "<style scoped>\n",
       "    .dataframe tbody tr th:only-of-type {\n",
       "        vertical-align: middle;\n",
       "    }\n",
       "\n",
       "    .dataframe tbody tr th {\n",
       "        vertical-align: top;\n",
       "    }\n",
       "\n",
       "    .dataframe thead th {\n",
       "        text-align: right;\n",
       "    }\n",
       "</style>\n",
       "<table border=\"1\" class=\"dataframe\">\n",
       "  <thead>\n",
       "    <tr style=\"text-align: right;\">\n",
       "      <th></th>\n",
       "      <th>repo</th>\n",
       "      <th>language</th>\n",
       "      <th>readme_contents</th>\n",
       "    </tr>\n",
       "  </thead>\n",
       "  <tbody>\n",
       "    <tr>\n",
       "      <th>1</th>\n",
       "      <td>fogleman/Minecraft</td>\n",
       "      <td>Python</td>\n",
       "      <td># minecraft\\n\\nsimple minecraft-inspired demo ...</td>\n",
       "    </tr>\n",
       "    <tr>\n",
       "      <th>2</th>\n",
       "      <td>itzg/docker-minecraft-server</td>\n",
       "      <td>Shell</td>\n",
       "      <td>[![docker pulls](https://img.shields.io/docker...</td>\n",
       "    </tr>\n",
       "  </tbody>\n",
       "</table>\n",
       "</div>"
      ],
      "text/plain": [
       "                           repo language  \\\n",
       "1            fogleman/Minecraft   Python   \n",
       "2  itzg/docker-minecraft-server    Shell   \n",
       "\n",
       "                                     readme_contents  \n",
       "1  # minecraft\\n\\nsimple minecraft-inspired demo ...  \n",
       "2  [![docker pulls](https://img.shields.io/docker...  "
      ]
     },
     "execution_count": 71,
     "metadata": {},
     "output_type": "execute_result"
    }
   ],
   "source": [
    "df.head(2)"
   ]
  },
  {
   "cell_type": "code",
   "execution_count": 72,
   "id": "3ecf7d9a",
   "metadata": {},
   "outputs": [
    {
     "data": {
      "text/plain": [
       "1      <h1>minecraft</h1>\\n<p>simple minecraft-inspir...\n",
       "2      <p><a href=\"https://hub.docker.com/r/itzg/mine...\n",
       "3      <p>====================================\\nminec...\n",
       "4      <h1>minecraftbyexample [1.16.4]</h1>\\n<p>the p...\n",
       "5      <p align=\"center\"><a href=\"https://minecraftde...\n",
       "                             ...                        \n",
       "994    <h1>crossroads</h1>\\n<p>a steampunk technology...\n",
       "995    <h1>packetlib</h1>\\n<p>packetlib is a library ...\n",
       "996    <h1>enderite mod</h1>\\n<p><a href=\"https://www...\n",
       "998    <p>blockly lua allows you to program computerc...\n",
       "999    <h1>node-minecraft-ping</h1>\\n<p>sends a <a hr...\n",
       "Name: readme_contents, Length: 884, dtype: object"
      ]
     },
     "execution_count": 72,
     "metadata": {},
     "output_type": "execute_result"
    }
   ],
   "source": [
    "#df['readme_plain'] = \n",
    "df['readme_contents'].apply(lambda x: markdown.markdown(x))"
   ]
  },
  {
   "cell_type": "markdown",
   "id": "9091d10b",
   "metadata": {},
   "source": [
    "# Explore"
   ]
  },
  {
   "cell_type": "code",
   "execution_count": null,
   "id": "c2e53932",
   "metadata": {},
   "outputs": [],
   "source": [
    "#Basic clean removes ASCII characters"
   ]
  },
  {
   "cell_type": "code",
   "execution_count": 126,
   "id": "12be6536",
   "metadata": {},
   "outputs": [
    {
     "data": {
      "text/html": [
       "<div>\n",
       "<style scoped>\n",
       "    .dataframe tbody tr th:only-of-type {\n",
       "        vertical-align: middle;\n",
       "    }\n",
       "\n",
       "    .dataframe tbody tr th {\n",
       "        vertical-align: top;\n",
       "    }\n",
       "\n",
       "    .dataframe thead th {\n",
       "        text-align: right;\n",
       "    }\n",
       "</style>\n",
       "<table border=\"1\" class=\"dataframe\">\n",
       "  <thead>\n",
       "    <tr style=\"text-align: right;\">\n",
       "      <th></th>\n",
       "      <th>repo</th>\n",
       "      <th>language</th>\n",
       "      <th>readme_contents</th>\n",
       "      <th>clean</th>\n",
       "      <th>lemmatized</th>\n",
       "    </tr>\n",
       "  </thead>\n",
       "  <tbody>\n",
       "    <tr>\n",
       "      <th>1</th>\n",
       "      <td>fogleman/Minecraft</td>\n",
       "      <td>Python</td>\n",
       "      <td># Minecraft\\n\\nSimple Minecraft-inspired demo ...</td>\n",
       "      <td>minecraft simple minecraftinspired demo writte...</td>\n",
       "      <td>minecraft simple minecraftinspired demo writte...</td>\n",
       "    </tr>\n",
       "    <tr>\n",
       "      <th>2</th>\n",
       "      <td>itzg/docker-minecraft-server</td>\n",
       "      <td>Shell</td>\n",
       "      <td>[![Docker Pulls](https://img.shields.io/docker...</td>\n",
       "      <td>docker pullshttpsimgshieldsiodockerpullsitzgmi...</td>\n",
       "      <td>docker pullshttpsimgshieldsiodockerpullsitzgmi...</td>\n",
       "    </tr>\n",
       "    <tr>\n",
       "      <th>3</th>\n",
       "      <td>overviewer/Minecraft-Overviewer</td>\n",
       "      <td>Python</td>\n",
       "      <td>====================================\\nMinecraf...</td>\n",
       "      <td>minecraft overviewer build status andrew brown...</td>\n",
       "      <td>minecraft overviewer build status andrew brown...</td>\n",
       "    </tr>\n",
       "    <tr>\n",
       "      <th>4</th>\n",
       "      <td>TheGreyGhost/MinecraftByExample</td>\n",
       "      <td>Java</td>\n",
       "      <td>MinecraftByExample [1.16.4]\\n=================...</td>\n",
       "      <td>minecraftbyexample 1164 purpose minecraftbyexa...</td>\n",
       "      <td>minecraftbyexample 1164 purpose minecraftbyexa...</td>\n",
       "    </tr>\n",
       "    <tr>\n",
       "      <th>5</th>\n",
       "      <td>minecraft-dev/MinecraftDev</td>\n",
       "      <td>Kotlin</td>\n",
       "      <td>&lt;p align=\"center\"&gt;&lt;a href=\"https://minecraftde...</td>\n",
       "      <td>p aligncentera hrefhttpsminecraftdevorgimg src...</td>\n",
       "      <td>p aligncentera hrefhttpsminecraftdevorgimg src...</td>\n",
       "    </tr>\n",
       "  </tbody>\n",
       "</table>\n",
       "</div>"
      ],
      "text/plain": [
       "                              repo language  \\\n",
       "1               fogleman/Minecraft   Python   \n",
       "2     itzg/docker-minecraft-server    Shell   \n",
       "3  overviewer/Minecraft-Overviewer   Python   \n",
       "4  TheGreyGhost/MinecraftByExample     Java   \n",
       "5       minecraft-dev/MinecraftDev   Kotlin   \n",
       "\n",
       "                                     readme_contents  \\\n",
       "1  # Minecraft\\n\\nSimple Minecraft-inspired demo ...   \n",
       "2  [![Docker Pulls](https://img.shields.io/docker...   \n",
       "3  ====================================\\nMinecraf...   \n",
       "4  MinecraftByExample [1.16.4]\\n=================...   \n",
       "5  <p align=\"center\"><a href=\"https://minecraftde...   \n",
       "\n",
       "                                               clean  \\\n",
       "1  minecraft simple minecraftinspired demo writte...   \n",
       "2  docker pullshttpsimgshieldsiodockerpullsitzgmi...   \n",
       "3  minecraft overviewer build status andrew brown...   \n",
       "4  minecraftbyexample 1164 purpose minecraftbyexa...   \n",
       "5  p aligncentera hrefhttpsminecraftdevorgimg src...   \n",
       "\n",
       "                                          lemmatized  \n",
       "1  minecraft simple minecraftinspired demo writte...  \n",
       "2  docker pullshttpsimgshieldsiodockerpullsitzgmi...  \n",
       "3  minecraft overviewer build status andrew brown...  \n",
       "4  minecraftbyexample 1164 purpose minecraftbyexa...  \n",
       "5  p aligncentera hrefhttpsminecraftdevorgimg src...  "
      ]
     },
     "execution_count": 126,
     "metadata": {},
     "output_type": "execute_result"
    }
   ],
   "source": [
    "df = pd.read_csv(r'clean_scraped_data.csv', index_col=[0])\n",
    "df.head()"
   ]
  },
  {
   "cell_type": "code",
   "execution_count": 78,
   "id": "bf14a27b",
   "metadata": {},
   "outputs": [
    {
     "data": {
      "text/plain": [
       "Java                 402\n",
       "JavaScript            86\n",
       "Python                76\n",
       "C#                    43\n",
       "C++                   36\n",
       "Shell                 35\n",
       "PHP                   33\n",
       "Kotlin                23\n",
       "TypeScript            22\n",
       "Go                    19\n",
       "C                     16\n",
       "Rust                  15\n",
       "Lua                    6\n",
       "HTML                   6\n",
       "ZenScript              5\n",
       "Ruby                   5\n",
       "CSS                    4\n",
       "GLSL                   4\n",
       "Dockerfile             4\n",
       "Scala                  4\n",
       "Jupyter Notebook       4\n",
       "Batchfile              3\n",
       "CoffeeScript           3\n",
       "HCL                    3\n",
       "Elixir                 2\n",
       "mcfunction             2\n",
       "Visual Basic .NET      2\n",
       "TeX                    2\n",
       "Mustache               2\n",
       "PowerShell             2\n",
       "GDScript               1\n",
       "R                      1\n",
       "CMake                  1\n",
       "Vue                    1\n",
       "AutoHotkey             1\n",
       "SCSS                   1\n",
       "PureBasic              1\n",
       "Swift                  1\n",
       "JSON                   1\n",
       "Assembly               1\n",
       "Yacc                   1\n",
       "Smarty                 1\n",
       "Clojure                1\n",
       "SystemVerilog          1\n",
       "Haskell                1\n",
       "Name: language, dtype: int64"
      ]
     },
     "execution_count": 78,
     "metadata": {},
     "output_type": "execute_result"
    }
   ],
   "source": [
    "df.language.value_counts()"
   ]
  },
  {
   "cell_type": "code",
   "execution_count": 94,
   "id": "96374136",
   "metadata": {},
   "outputs": [
    {
     "data": {
      "text/html": [
       "<div>\n",
       "<style scoped>\n",
       "    .dataframe tbody tr th:only-of-type {\n",
       "        vertical-align: middle;\n",
       "    }\n",
       "\n",
       "    .dataframe tbody tr th {\n",
       "        vertical-align: top;\n",
       "    }\n",
       "\n",
       "    .dataframe thead th {\n",
       "        text-align: right;\n",
       "    }\n",
       "</style>\n",
       "<table border=\"1\" class=\"dataframe\">\n",
       "  <thead>\n",
       "    <tr style=\"text-align: right;\">\n",
       "      <th></th>\n",
       "      <th>repo</th>\n",
       "      <th>language</th>\n",
       "      <th>readme_contents</th>\n",
       "      <th>clean</th>\n",
       "      <th>lemmatized</th>\n",
       "    </tr>\n",
       "  </thead>\n",
       "  <tbody>\n",
       "    <tr>\n",
       "      <th>1</th>\n",
       "      <td>fogleman/Minecraft</td>\n",
       "      <td>Python</td>\n",
       "      <td># Minecraft\\n\\nSimple Minecraft-inspired demo ...</td>\n",
       "      <td>minecraft simple minecraftinspired demo writte...</td>\n",
       "      <td>minecraft simple minecraftinspired demo writte...</td>\n",
       "    </tr>\n",
       "    <tr>\n",
       "      <th>2</th>\n",
       "      <td>itzg/docker-minecraft-server</td>\n",
       "      <td>Shell</td>\n",
       "      <td>[![Docker Pulls](https://img.shields.io/docker...</td>\n",
       "      <td>docker pullshttpsimgshieldsiodockerpullsitzgmi...</td>\n",
       "      <td>docker pullshttpsimgshieldsiodockerpullsitzgmi...</td>\n",
       "    </tr>\n",
       "  </tbody>\n",
       "</table>\n",
       "</div>"
      ],
      "text/plain": [
       "                           repo language  \\\n",
       "1            fogleman/Minecraft   Python   \n",
       "2  itzg/docker-minecraft-server    Shell   \n",
       "\n",
       "                                     readme_contents  \\\n",
       "1  # Minecraft\\n\\nSimple Minecraft-inspired demo ...   \n",
       "2  [![Docker Pulls](https://img.shields.io/docker...   \n",
       "\n",
       "                                               clean  \\\n",
       "1  minecraft simple minecraftinspired demo writte...   \n",
       "2  docker pullshttpsimgshieldsiodockerpullsitzgmi...   \n",
       "\n",
       "                                          lemmatized  \n",
       "1  minecraft simple minecraftinspired demo writte...  \n",
       "2  docker pullshttpsimgshieldsiodockerpullsitzgmi...  "
      ]
     },
     "execution_count": 94,
     "metadata": {},
     "output_type": "execute_result"
    }
   ],
   "source": [
    "df.head(2)"
   ]
  },
  {
   "cell_type": "code",
   "execution_count": 127,
   "id": "b6664b13",
   "metadata": {},
   "outputs": [],
   "source": [
    "language_list = df['language'].unique().tolist()\n",
    "language_list.remove(\"JavaScript\")\n",
    "language_list.remove(\"Python\")\n",
    "language_list.remove(\"Java\")"
   ]
  },
  {
   "cell_type": "code",
   "execution_count": 128,
   "id": "2ceb0dbf",
   "metadata": {},
   "outputs": [
    {
     "data": {
      "text/plain": [
       "['Shell',\n",
       " 'Kotlin',\n",
       " 'C',\n",
       " 'C#',\n",
       " 'Lua',\n",
       " 'C++',\n",
       " 'PHP',\n",
       " 'TypeScript',\n",
       " 'SystemVerilog',\n",
       " 'Scala',\n",
       " 'PowerShell',\n",
       " 'CSS',\n",
       " 'Batchfile',\n",
       " 'Mustache',\n",
       " 'Rust',\n",
       " 'Go',\n",
       " 'CoffeeScript',\n",
       " 'Dockerfile',\n",
       " 'Clojure',\n",
       " 'PureBasic',\n",
       " 'TeX',\n",
       " 'Jupyter Notebook',\n",
       " 'Smarty',\n",
       " 'HTML',\n",
       " 'Yacc',\n",
       " 'Ruby',\n",
       " 'mcfunction',\n",
       " 'HCL',\n",
       " 'Assembly',\n",
       " 'ZenScript',\n",
       " 'GLSL',\n",
       " 'JSON',\n",
       " 'Swift',\n",
       " 'Vue',\n",
       " 'SCSS',\n",
       " 'AutoHotkey',\n",
       " 'Visual Basic .NET',\n",
       " 'Elixir',\n",
       " 'GDScript',\n",
       " 'CMake',\n",
       " 'R',\n",
       " 'Haskell']"
      ]
     },
     "execution_count": 128,
     "metadata": {},
     "output_type": "execute_result"
    }
   ],
   "source": [
    "language_list"
   ]
  },
  {
   "cell_type": "code",
   "execution_count": 124,
   "id": "56099e0c",
   "metadata": {},
   "outputs": [],
   "source": [
    "for i in range(len(language_list)):\n",
    "    var = language_list[i]\n",
    "    df['language'] = df['language'].map({var:'other'})"
   ]
  },
  {
   "cell_type": "code",
   "execution_count": 125,
   "id": "9985bc49",
   "metadata": {},
   "outputs": [
    {
     "data": {
      "text/plain": [
       "Series([], Name: language, dtype: int64)"
      ]
     },
     "execution_count": 125,
     "metadata": {},
     "output_type": "execute_result"
    }
   ],
   "source": [
    "df.language.value_counts()"
   ]
  },
  {
   "cell_type": "code",
   "execution_count": 129,
   "id": "0a9aae41",
   "metadata": {},
   "outputs": [],
   "source": [
    "top_languages = [\"Python\", \"Java\", \"JavaScript\"]"
   ]
  },
  {
   "cell_type": "code",
   "execution_count": null,
   "id": "afb5acd2",
   "metadata": {},
   "outputs": [],
   "source": [
    "for df[~df['language'].isin(top_languages)]:\n",
    "    df['language'].replace()"
   ]
  },
  {
   "cell_type": "code",
   "execution_count": null,
   "id": "f2b1ffaf",
   "metadata": {},
   "outputs": [],
   "source": [
    "#if language in df.language_list != top_languages:\n",
    " #   df['language'].map"
   ]
  },
  {
   "cell_type": "code",
   "execution_count": 157,
   "id": "f4a77c53",
   "metadata": {
    "scrolled": true
   },
   "outputs": [],
   "source": [
    "df.loc[~df['language'].isin(top_languages), 'language'] = 'Other'\n"
   ]
  },
  {
   "cell_type": "code",
   "execution_count": 158,
   "id": "ef23953c",
   "metadata": {},
   "outputs": [
    {
     "data": {
      "text/html": [
       "<div>\n",
       "<style scoped>\n",
       "    .dataframe tbody tr th:only-of-type {\n",
       "        vertical-align: middle;\n",
       "    }\n",
       "\n",
       "    .dataframe tbody tr th {\n",
       "        vertical-align: top;\n",
       "    }\n",
       "\n",
       "    .dataframe thead th {\n",
       "        text-align: right;\n",
       "    }\n",
       "</style>\n",
       "<table border=\"1\" class=\"dataframe\">\n",
       "  <thead>\n",
       "    <tr style=\"text-align: right;\">\n",
       "      <th></th>\n",
       "      <th>repo</th>\n",
       "      <th>language</th>\n",
       "      <th>readme_contents</th>\n",
       "      <th>clean</th>\n",
       "      <th>lemmatized</th>\n",
       "      <th>is_other</th>\n",
       "    </tr>\n",
       "  </thead>\n",
       "  <tbody>\n",
       "    <tr>\n",
       "      <th>1</th>\n",
       "      <td>fogleman/Minecraft</td>\n",
       "      <td>Python</td>\n",
       "      <td># Minecraft\\n\\nSimple Minecraft-inspired demo ...</td>\n",
       "      <td>minecraft simple minecraftinspired demo writte...</td>\n",
       "      <td>minecraft simple minecraftinspired demo writte...</td>\n",
       "      <td>False</td>\n",
       "    </tr>\n",
       "    <tr>\n",
       "      <th>2</th>\n",
       "      <td>itzg/docker-minecraft-server</td>\n",
       "      <td>Other</td>\n",
       "      <td>[![Docker Pulls](https://img.shields.io/docker...</td>\n",
       "      <td>docker pullshttpsimgshieldsiodockerpullsitzgmi...</td>\n",
       "      <td>docker pullshttpsimgshieldsiodockerpullsitzgmi...</td>\n",
       "      <td>True</td>\n",
       "    </tr>\n",
       "    <tr>\n",
       "      <th>3</th>\n",
       "      <td>overviewer/Minecraft-Overviewer</td>\n",
       "      <td>Python</td>\n",
       "      <td>====================================\\nMinecraf...</td>\n",
       "      <td>minecraft overviewer build status andrew brown...</td>\n",
       "      <td>minecraft overviewer build status andrew brown...</td>\n",
       "      <td>False</td>\n",
       "    </tr>\n",
       "    <tr>\n",
       "      <th>4</th>\n",
       "      <td>TheGreyGhost/MinecraftByExample</td>\n",
       "      <td>Java</td>\n",
       "      <td>MinecraftByExample [1.16.4]\\n=================...</td>\n",
       "      <td>minecraftbyexample 1164 purpose minecraftbyexa...</td>\n",
       "      <td>minecraftbyexample 1164 purpose minecraftbyexa...</td>\n",
       "      <td>False</td>\n",
       "    </tr>\n",
       "    <tr>\n",
       "      <th>5</th>\n",
       "      <td>minecraft-dev/MinecraftDev</td>\n",
       "      <td>Other</td>\n",
       "      <td>&lt;p align=\"center\"&gt;&lt;a href=\"https://minecraftde...</td>\n",
       "      <td>p aligncentera hrefhttpsminecraftdevorgimg src...</td>\n",
       "      <td>p aligncentera hrefhttpsminecraftdevorgimg src...</td>\n",
       "      <td>True</td>\n",
       "    </tr>\n",
       "    <tr>\n",
       "      <th>...</th>\n",
       "      <td>...</td>\n",
       "      <td>...</td>\n",
       "      <td>...</td>\n",
       "      <td>...</td>\n",
       "      <td>...</td>\n",
       "      <td>...</td>\n",
       "    </tr>\n",
       "    <tr>\n",
       "      <th>994</th>\n",
       "      <td>Crossroads-Development/Crossroads</td>\n",
       "      <td>Java</td>\n",
       "      <td># Crossroads\\n\\nA steampunk technology mod for...</td>\n",
       "      <td>crossroads steampunk technology mod minecraft ...</td>\n",
       "      <td>crossroad steampunk technology mod minecraft i...</td>\n",
       "      <td>False</td>\n",
       "    </tr>\n",
       "    <tr>\n",
       "      <th>995</th>\n",
       "      <td>GeyserMC/PacketLib</td>\n",
       "      <td>Java</td>\n",
       "      <td># PacketLib\\nPacketLib is a library for packet...</td>\n",
       "      <td>packetlib packetlib library packetbased networ...</td>\n",
       "      <td>packetlib packetlib library packetbased networ...</td>\n",
       "      <td>False</td>\n",
       "    </tr>\n",
       "    <tr>\n",
       "      <th>996</th>\n",
       "      <td>Nic4Las/Minecraft-Enderite-Mod</td>\n",
       "      <td>Java</td>\n",
       "      <td># Enderite Mod\\n\\n[![](http://cf.way2muchnoise...</td>\n",
       "      <td>enderite mod httpcfway2muchnoiseeuversions3992...</td>\n",
       "      <td>enderite mod httpcfway2muchnoiseeuversions3992...</td>\n",
       "      <td>False</td>\n",
       "    </tr>\n",
       "    <tr>\n",
       "      <th>998</th>\n",
       "      <td>espertus/blockly-lua</td>\n",
       "      <td>JavaScript</td>\n",
       "      <td>Blockly Lua allows you to program ComputerCraf...</td>\n",
       "      <td>blockly lua allows program computercraft turtl...</td>\n",
       "      <td>blockly lua allows program computercraft turtl...</td>\n",
       "      <td>False</td>\n",
       "    </tr>\n",
       "    <tr>\n",
       "      <th>999</th>\n",
       "      <td>deathcap/node-minecraft-ping</td>\n",
       "      <td>JavaScript</td>\n",
       "      <td># node-minecraft-ping\\n\\nSends a [server list ...</td>\n",
       "      <td>nodeminecraftping sends server list pinghttpwi...</td>\n",
       "      <td>nodeminecraftping sends server list pinghttpwi...</td>\n",
       "      <td>False</td>\n",
       "    </tr>\n",
       "  </tbody>\n",
       "</table>\n",
       "<p>884 rows × 6 columns</p>\n",
       "</div>"
      ],
      "text/plain": [
       "                                  repo    language  \\\n",
       "1                   fogleman/Minecraft      Python   \n",
       "2         itzg/docker-minecraft-server       Other   \n",
       "3      overviewer/Minecraft-Overviewer      Python   \n",
       "4      TheGreyGhost/MinecraftByExample        Java   \n",
       "5           minecraft-dev/MinecraftDev       Other   \n",
       "..                                 ...         ...   \n",
       "994  Crossroads-Development/Crossroads        Java   \n",
       "995                 GeyserMC/PacketLib        Java   \n",
       "996     Nic4Las/Minecraft-Enderite-Mod        Java   \n",
       "998               espertus/blockly-lua  JavaScript   \n",
       "999       deathcap/node-minecraft-ping  JavaScript   \n",
       "\n",
       "                                       readme_contents  \\\n",
       "1    # Minecraft\\n\\nSimple Minecraft-inspired demo ...   \n",
       "2    [![Docker Pulls](https://img.shields.io/docker...   \n",
       "3    ====================================\\nMinecraf...   \n",
       "4    MinecraftByExample [1.16.4]\\n=================...   \n",
       "5    <p align=\"center\"><a href=\"https://minecraftde...   \n",
       "..                                                 ...   \n",
       "994  # Crossroads\\n\\nA steampunk technology mod for...   \n",
       "995  # PacketLib\\nPacketLib is a library for packet...   \n",
       "996  # Enderite Mod\\n\\n[![](http://cf.way2muchnoise...   \n",
       "998  Blockly Lua allows you to program ComputerCraf...   \n",
       "999  # node-minecraft-ping\\n\\nSends a [server list ...   \n",
       "\n",
       "                                                 clean  \\\n",
       "1    minecraft simple minecraftinspired demo writte...   \n",
       "2    docker pullshttpsimgshieldsiodockerpullsitzgmi...   \n",
       "3    minecraft overviewer build status andrew brown...   \n",
       "4    minecraftbyexample 1164 purpose minecraftbyexa...   \n",
       "5    p aligncentera hrefhttpsminecraftdevorgimg src...   \n",
       "..                                                 ...   \n",
       "994  crossroads steampunk technology mod minecraft ...   \n",
       "995  packetlib packetlib library packetbased networ...   \n",
       "996  enderite mod httpcfway2muchnoiseeuversions3992...   \n",
       "998  blockly lua allows program computercraft turtl...   \n",
       "999  nodeminecraftping sends server list pinghttpwi...   \n",
       "\n",
       "                                            lemmatized  is_other  \n",
       "1    minecraft simple minecraftinspired demo writte...     False  \n",
       "2    docker pullshttpsimgshieldsiodockerpullsitzgmi...      True  \n",
       "3    minecraft overviewer build status andrew brown...     False  \n",
       "4    minecraftbyexample 1164 purpose minecraftbyexa...     False  \n",
       "5    p aligncentera hrefhttpsminecraftdevorgimg src...      True  \n",
       "..                                                 ...       ...  \n",
       "994  crossroad steampunk technology mod minecraft i...     False  \n",
       "995  packetlib packetlib library packetbased networ...     False  \n",
       "996  enderite mod httpcfway2muchnoiseeuversions3992...     False  \n",
       "998  blockly lua allows program computercraft turtl...     False  \n",
       "999  nodeminecraftping sends server list pinghttpwi...     False  \n",
       "\n",
       "[884 rows x 6 columns]"
      ]
     },
     "execution_count": 158,
     "metadata": {},
     "output_type": "execute_result"
    }
   ],
   "source": [
    "df"
   ]
  }
 ],
 "metadata": {
  "kernelspec": {
   "display_name": "Python 3 (ipykernel)",
   "language": "python",
   "name": "python3"
  },
  "language_info": {
   "codemirror_mode": {
    "name": "ipython",
    "version": 3
   },
   "file_extension": ".py",
   "mimetype": "text/x-python",
   "name": "python",
   "nbconvert_exporter": "python",
   "pygments_lexer": "ipython3",
   "version": "3.9.12"
  }
 },
 "nbformat": 4,
 "nbformat_minor": 5
}
