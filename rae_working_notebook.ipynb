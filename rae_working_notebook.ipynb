{
 "cells": [
  {
   "cell_type": "code",
   "execution_count": 1,
   "id": "5cd5a24a",
   "metadata": {},
   "outputs": [],
   "source": [
    "import pandas as pd\n",
    "import numpy as np\n",
    "import re\n",
    "import unicodedata\n",
    "import pandas as pd\n",
    "import nltk\n",
    "import nltk.sentiment\n",
    "from nltk.corpus import stopwords\n",
    "from wordcloud import WordCloud\n",
    "%matplotlib inline\n",
    "import matplotlib.pyplot as plt\n",
    "import seaborn as sns\n",
    "from requests import get\n",
    "from bs4 import BeautifulSoup\n",
    "import os\n",
    "import json\n",
    "from typing import Dict, List, Optional, Union, cast\n",
    "import requests\n",
    "import re\n",
    "import time\n",
    "import acquire\n",
    "import prepare\n",
    "import explore\n",
    "from env import github_token, github_username"
   ]
  },
  {
   "cell_type": "code",
   "execution_count": 2,
   "id": "1c98d65b",
   "metadata": {},
   "outputs": [],
   "source": [
    "def split_minecraft_data(df):\n",
    "    '''\n",
    "    This function performs split on minecraft repo data, stratified on language.\n",
    "    Returns train, validate, and test dfs.\n",
    "    '''\n",
    "    train_validate, test = train_test_split(df, test_size=.2, \n",
    "                                        random_state=123, \n",
    "                                        stratify=df.language)\n",
    "    train, validate = train_test_split(train_validate, test_size=.3, \n",
    "                                   random_state=123, \n",
    "                                   stratify=train_validate.language)\n",
    "    return train, validate, test\n",
    "\n",
    "#call it with: train, validate, test = split_minecraft_data(df)"
   ]
  },
  {
   "cell_type": "code",
   "execution_count": 3,
   "id": "4455f81a",
   "metadata": {},
   "outputs": [],
   "source": [
    "df = pd.read_csv('clean_scraped_data.csv', index_col=[0])"
   ]
  },
  {
   "cell_type": "code",
   "execution_count": 4,
   "id": "671a3048",
   "metadata": {},
   "outputs": [],
   "source": [
    "df=df.dropna()"
   ]
  },
  {
   "cell_type": "code",
   "execution_count": 5,
   "id": "35b4acd6",
   "metadata": {},
   "outputs": [
    {
     "data": {
      "text/html": [
       "<div>\n",
       "<style scoped>\n",
       "    .dataframe tbody tr th:only-of-type {\n",
       "        vertical-align: middle;\n",
       "    }\n",
       "\n",
       "    .dataframe tbody tr th {\n",
       "        vertical-align: top;\n",
       "    }\n",
       "\n",
       "    .dataframe thead th {\n",
       "        text-align: right;\n",
       "    }\n",
       "</style>\n",
       "<table border=\"1\" class=\"dataframe\">\n",
       "  <thead>\n",
       "    <tr style=\"text-align: right;\">\n",
       "      <th></th>\n",
       "      <th>repo</th>\n",
       "      <th>language</th>\n",
       "      <th>readme_contents</th>\n",
       "      <th>clean</th>\n",
       "      <th>lemmatized</th>\n",
       "    </tr>\n",
       "  </thead>\n",
       "  <tbody>\n",
       "    <tr>\n",
       "      <th>1</th>\n",
       "      <td>fogleman/Minecraft</td>\n",
       "      <td>Python</td>\n",
       "      <td># Minecraft\\n\\nSimple Minecraft-inspired demo ...</td>\n",
       "      <td>minecraft simple minecraftinspired demo writte...</td>\n",
       "      <td>minecraft simple minecraftinspired demo writte...</td>\n",
       "    </tr>\n",
       "    <tr>\n",
       "      <th>2</th>\n",
       "      <td>itzg/docker-minecraft-server</td>\n",
       "      <td>Shell</td>\n",
       "      <td>[![Docker Pulls](https://img.shields.io/docker...</td>\n",
       "      <td>docker pullshttpsimgshieldsiodockerpullsitzgmi...</td>\n",
       "      <td>docker pullshttpsimgshieldsiodockerpullsitzgmi...</td>\n",
       "    </tr>\n",
       "    <tr>\n",
       "      <th>3</th>\n",
       "      <td>overviewer/Minecraft-Overviewer</td>\n",
       "      <td>Python</td>\n",
       "      <td>====================================\\nMinecraf...</td>\n",
       "      <td>minecraft overviewer build status andrew brown...</td>\n",
       "      <td>minecraft overviewer build status andrew brown...</td>\n",
       "    </tr>\n",
       "    <tr>\n",
       "      <th>4</th>\n",
       "      <td>TheGreyGhost/MinecraftByExample</td>\n",
       "      <td>Java</td>\n",
       "      <td>MinecraftByExample [1.16.4]\\n=================...</td>\n",
       "      <td>minecraftbyexample 1164 purpose minecraftbyexa...</td>\n",
       "      <td>minecraftbyexample 1164 purpose minecraftbyexa...</td>\n",
       "    </tr>\n",
       "    <tr>\n",
       "      <th>5</th>\n",
       "      <td>minecraft-dev/MinecraftDev</td>\n",
       "      <td>Kotlin</td>\n",
       "      <td>&lt;p align=\"center\"&gt;&lt;a href=\"https://minecraftde...</td>\n",
       "      <td>p aligncentera hrefhttpsminecraftdevorgimg src...</td>\n",
       "      <td>p aligncentera hrefhttpsminecraftdevorgimg src...</td>\n",
       "    </tr>\n",
       "    <tr>\n",
       "      <th>...</th>\n",
       "      <td>...</td>\n",
       "      <td>...</td>\n",
       "      <td>...</td>\n",
       "      <td>...</td>\n",
       "      <td>...</td>\n",
       "    </tr>\n",
       "    <tr>\n",
       "      <th>994</th>\n",
       "      <td>Crossroads-Development/Crossroads</td>\n",
       "      <td>Java</td>\n",
       "      <td># Crossroads\\n\\nA steampunk technology mod for...</td>\n",
       "      <td>crossroads steampunk technology mod minecraft ...</td>\n",
       "      <td>crossroad steampunk technology mod minecraft i...</td>\n",
       "    </tr>\n",
       "    <tr>\n",
       "      <th>995</th>\n",
       "      <td>GeyserMC/PacketLib</td>\n",
       "      <td>Java</td>\n",
       "      <td># PacketLib\\nPacketLib is a library for packet...</td>\n",
       "      <td>packetlib packetlib library packetbased networ...</td>\n",
       "      <td>packetlib packetlib library packetbased networ...</td>\n",
       "    </tr>\n",
       "    <tr>\n",
       "      <th>996</th>\n",
       "      <td>Nic4Las/Minecraft-Enderite-Mod</td>\n",
       "      <td>Java</td>\n",
       "      <td># Enderite Mod\\n\\n[![](http://cf.way2muchnoise...</td>\n",
       "      <td>enderite mod httpcfway2muchnoiseeuversions3992...</td>\n",
       "      <td>enderite mod httpcfway2muchnoiseeuversions3992...</td>\n",
       "    </tr>\n",
       "    <tr>\n",
       "      <th>998</th>\n",
       "      <td>espertus/blockly-lua</td>\n",
       "      <td>JavaScript</td>\n",
       "      <td>Blockly Lua allows you to program ComputerCraf...</td>\n",
       "      <td>blockly lua allows program computercraft turtl...</td>\n",
       "      <td>blockly lua allows program computercraft turtl...</td>\n",
       "    </tr>\n",
       "    <tr>\n",
       "      <th>999</th>\n",
       "      <td>deathcap/node-minecraft-ping</td>\n",
       "      <td>JavaScript</td>\n",
       "      <td># node-minecraft-ping\\n\\nSends a [server list ...</td>\n",
       "      <td>nodeminecraftping sends server list pinghttpwi...</td>\n",
       "      <td>nodeminecraftping sends server list pinghttpwi...</td>\n",
       "    </tr>\n",
       "  </tbody>\n",
       "</table>\n",
       "<p>884 rows × 5 columns</p>\n",
       "</div>"
      ],
      "text/plain": [
       "                                  repo    language  \\\n",
       "1                   fogleman/Minecraft      Python   \n",
       "2         itzg/docker-minecraft-server       Shell   \n",
       "3      overviewer/Minecraft-Overviewer      Python   \n",
       "4      TheGreyGhost/MinecraftByExample        Java   \n",
       "5           minecraft-dev/MinecraftDev      Kotlin   \n",
       "..                                 ...         ...   \n",
       "994  Crossroads-Development/Crossroads        Java   \n",
       "995                 GeyserMC/PacketLib        Java   \n",
       "996     Nic4Las/Minecraft-Enderite-Mod        Java   \n",
       "998               espertus/blockly-lua  JavaScript   \n",
       "999       deathcap/node-minecraft-ping  JavaScript   \n",
       "\n",
       "                                       readme_contents  \\\n",
       "1    # Minecraft\\n\\nSimple Minecraft-inspired demo ...   \n",
       "2    [![Docker Pulls](https://img.shields.io/docker...   \n",
       "3    ====================================\\nMinecraf...   \n",
       "4    MinecraftByExample [1.16.4]\\n=================...   \n",
       "5    <p align=\"center\"><a href=\"https://minecraftde...   \n",
       "..                                                 ...   \n",
       "994  # Crossroads\\n\\nA steampunk technology mod for...   \n",
       "995  # PacketLib\\nPacketLib is a library for packet...   \n",
       "996  # Enderite Mod\\n\\n[![](http://cf.way2muchnoise...   \n",
       "998  Blockly Lua allows you to program ComputerCraf...   \n",
       "999  # node-minecraft-ping\\n\\nSends a [server list ...   \n",
       "\n",
       "                                                 clean  \\\n",
       "1    minecraft simple minecraftinspired demo writte...   \n",
       "2    docker pullshttpsimgshieldsiodockerpullsitzgmi...   \n",
       "3    minecraft overviewer build status andrew brown...   \n",
       "4    minecraftbyexample 1164 purpose minecraftbyexa...   \n",
       "5    p aligncentera hrefhttpsminecraftdevorgimg src...   \n",
       "..                                                 ...   \n",
       "994  crossroads steampunk technology mod minecraft ...   \n",
       "995  packetlib packetlib library packetbased networ...   \n",
       "996  enderite mod httpcfway2muchnoiseeuversions3992...   \n",
       "998  blockly lua allows program computercraft turtl...   \n",
       "999  nodeminecraftping sends server list pinghttpwi...   \n",
       "\n",
       "                                            lemmatized  \n",
       "1    minecraft simple minecraftinspired demo writte...  \n",
       "2    docker pullshttpsimgshieldsiodockerpullsitzgmi...  \n",
       "3    minecraft overviewer build status andrew brown...  \n",
       "4    minecraftbyexample 1164 purpose minecraftbyexa...  \n",
       "5    p aligncentera hrefhttpsminecraftdevorgimg src...  \n",
       "..                                                 ...  \n",
       "994  crossroad steampunk technology mod minecraft i...  \n",
       "995  packetlib packetlib library packetbased networ...  \n",
       "996  enderite mod httpcfway2muchnoiseeuversions3992...  \n",
       "998  blockly lua allows program computercraft turtl...  \n",
       "999  nodeminecraftping sends server list pinghttpwi...  \n",
       "\n",
       "[884 rows x 5 columns]"
      ]
     },
     "execution_count": 5,
     "metadata": {},
     "output_type": "execute_result"
    }
   ],
   "source": [
    "df"
   ]
  },
  {
   "cell_type": "code",
   "execution_count": 6,
   "id": "decfbe39",
   "metadata": {},
   "outputs": [
    {
     "data": {
      "text/plain": [
       "Java                 402\n",
       "JavaScript            86\n",
       "Python                76\n",
       "C#                    43\n",
       "C++                   36\n",
       "Shell                 35\n",
       "PHP                   33\n",
       "Kotlin                23\n",
       "TypeScript            22\n",
       "Go                    19\n",
       "C                     16\n",
       "Rust                  15\n",
       "Lua                    6\n",
       "HTML                   6\n",
       "ZenScript              5\n",
       "Ruby                   5\n",
       "CSS                    4\n",
       "GLSL                   4\n",
       "Dockerfile             4\n",
       "Scala                  4\n",
       "Jupyter Notebook       4\n",
       "Batchfile              3\n",
       "CoffeeScript           3\n",
       "HCL                    3\n",
       "Elixir                 2\n",
       "mcfunction             2\n",
       "Visual Basic .NET      2\n",
       "TeX                    2\n",
       "Mustache               2\n",
       "PowerShell             2\n",
       "GDScript               1\n",
       "R                      1\n",
       "CMake                  1\n",
       "Vue                    1\n",
       "AutoHotkey             1\n",
       "SCSS                   1\n",
       "PureBasic              1\n",
       "Swift                  1\n",
       "JSON                   1\n",
       "Assembly               1\n",
       "Yacc                   1\n",
       "Smarty                 1\n",
       "Clojure                1\n",
       "SystemVerilog          1\n",
       "Haskell                1\n",
       "Name: language, dtype: int64"
      ]
     },
     "execution_count": 6,
     "metadata": {},
     "output_type": "execute_result"
    }
   ],
   "source": [
    "df.language.value_counts()"
   ]
  },
  {
   "cell_type": "code",
   "execution_count": 7,
   "id": "a7149ef3",
   "metadata": {},
   "outputs": [
    {
     "data": {
      "text/plain": [
       "array(['Python', 'Shell', 'Java', 'Kotlin', 'C', 'C#', 'Lua', 'C++',\n",
       "       'JavaScript', 'PHP', 'TypeScript', 'SystemVerilog', 'Scala',\n",
       "       'PowerShell', 'CSS', 'Batchfile', 'Mustache', 'Rust', 'Go',\n",
       "       'CoffeeScript', 'Dockerfile', 'Clojure', 'PureBasic', 'TeX',\n",
       "       'Jupyter Notebook', 'Smarty', 'HTML', 'Yacc', 'Ruby', 'mcfunction',\n",
       "       'HCL', 'Assembly', 'ZenScript', 'GLSL', 'JSON', 'Swift', 'Vue',\n",
       "       'SCSS', 'AutoHotkey', 'Visual Basic .NET', 'Elixir', 'GDScript',\n",
       "       'CMake', 'R', 'Haskell'], dtype=object)"
      ]
     },
     "execution_count": 7,
     "metadata": {},
     "output_type": "execute_result"
    }
   ],
   "source": [
    "df.language.unique()"
   ]
  },
  {
   "cell_type": "code",
   "execution_count": null,
   "id": "ea1b0843",
   "metadata": {},
   "outputs": [],
   "source": []
  },
  {
   "cell_type": "code",
   "execution_count": null,
   "id": "364661a3",
   "metadata": {},
   "outputs": [],
   "source": [
    "df[\"readme_length\"]= df[\"readme_contents\"].str.len()"
   ]
  },
  {
   "cell_type": "code",
   "execution_count": null,
   "id": "7b58e0e3",
   "metadata": {},
   "outputs": [],
   "source": [
    "df[\"lemma_length\"]= df[\"lemmatized\"].str.len()"
   ]
  },
  {
   "cell_type": "code",
   "execution_count": null,
   "id": "691a5476",
   "metadata": {},
   "outputs": [],
   "source": [
    "df[\"clean_length\"]= df[\"clean\"].str.len()"
   ]
  },
  {
   "cell_type": "code",
   "execution_count": null,
   "id": "a5a547d5",
   "metadata": {},
   "outputs": [],
   "source": [
    "df.head()"
   ]
  },
  {
   "cell_type": "code",
   "execution_count": null,
   "id": "c40c29a3",
   "metadata": {},
   "outputs": [],
   "source": [
    "df.readme_length.unique()"
   ]
  },
  {
   "cell_type": "code",
   "execution_count": null,
   "id": "a357cea5",
   "metadata": {},
   "outputs": [],
   "source": [
    "df.readme_length.max()"
   ]
  },
  {
   "cell_type": "code",
   "execution_count": null,
   "id": "72b8495c",
   "metadata": {},
   "outputs": [],
   "source": [
    "df[\"java\"]=df.loc[df['language'] == 'Java']"
   ]
  },
  {
   "cell_type": "raw",
   "id": "249b5cb2",
   "metadata": {},
   "source": [
    "C#                    43\n",
    "C++                   36\n",
    "Shell                 35\n",
    "PHP                   33\n",
    "Kotlin                23\n",
    "TypeScript            22\n",
    "Go                    19\n",
    "C                     16\n",
    "Rust                  15\n",
    "Lua                    6\n",
    "HTML                   6\n",
    "ZenScript              5\n",
    "Ruby                   5\n",
    "CSS                    4\n",
    "GLSL                   4\n",
    "Dockerfile             4\n",
    "Scala                  4\n",
    "Jupyter Notebook       4\n",
    "Batchfile              3\n",
    "CoffeeScript           3\n",
    "HCL                    3\n",
    "Elixir                 2\n",
    "mcfunction             2\n",
    "Visual Basic .NET      2\n",
    "TeX                    2\n",
    "Mustache               2\n",
    "PowerShell             2\n",
    "GDScript               1\n",
    "R                      1\n",
    "CMake                  1\n",
    "Vue                    1\n",
    "AutoHotkey             1\n",
    "SCSS                   1\n",
    "PureBasic              1\n",
    "Swift                  1\n",
    "JSON                   1\n",
    "Assembly               1\n",
    "Yacc                   1\n",
    "Smarty                 1\n",
    "Clojure                1\n",
    "SystemVerilog          1\n",
    "Haskell                1"
   ]
  },
  {
   "cell_type": "code",
   "execution_count": null,
   "id": "2ab3f88f",
   "metadata": {},
   "outputs": [],
   "source": [
    " 'Shell', 'Kotlin', 'C', 'C#', 'Lua', 'C++',\n",
    "       'PHP', 'TypeScript', 'SystemVerilog', 'Scala',\n",
    "       'PowerShell', 'CSS', 'Batchfile', 'Mustache', 'Rust', 'Go',\n",
    "       'CoffeeScript', 'Dockerfile', 'Clojure', 'PureBasic', 'TeX',\n",
    "       'Jupyter Notebook', 'Smarty', 'HTML', 'Yacc', 'Ruby', 'mcfunction',\n",
    "       'HCL', 'Assembly', 'ZenScript', 'GLSL', 'JSON', 'Swift', 'Vue',\n",
    "       'SCSS', 'AutoHotkey', 'Visual Basic .NET', 'Elixir', 'GDScript',\n",
    "       'CMake', 'R', 'Haskell'"
   ]
  },
  {
   "cell_type": "code",
   "execution_count": 11,
   "id": "eadc1122",
   "metadata": {},
   "outputs": [
    {
     "ename": "KeyError",
     "evalue": "\"None of [Index(['Python', 'Shell', 'Python', 'Java', 'Kotlin', 'C', 'Java', 'Shell',\\n       'C#', 'C#',\\n       ...\\n       'TypeScript', 'Java', 'Rust', 'Python', 'JavaScript', 'Java', 'Java',\\n       'Java', 'JavaScript', 'JavaScript'],\\n      dtype='object', length=884)] are in the [columns]\"",
     "output_type": "error",
     "traceback": [
      "\u001b[0;31m---------------------------------------------------------------------------\u001b[0m",
      "\u001b[0;31mKeyError\u001b[0m                                  Traceback (most recent call last)",
      "Input \u001b[0;32mIn [11]\u001b[0m, in \u001b[0;36m<cell line: 1>\u001b[0;34m()\u001b[0m\n\u001b[0;32m----> 1\u001b[0m df[\u001b[38;5;124m'\u001b[39m\u001b[38;5;124mother\u001b[39m\u001b[38;5;124m'\u001b[39m] \u001b[38;5;241m=\u001b[39m \u001b[43mdf\u001b[49m\u001b[43m[\u001b[49m\u001b[43mdf\u001b[49m\u001b[43m[\u001b[49m\u001b[38;5;124;43m'\u001b[39;49m\u001b[38;5;124;43mlanguage\u001b[39;49m\u001b[38;5;124;43m'\u001b[39;49m\u001b[43m]\u001b[49m\u001b[43m]\u001b[49m \u001b[38;5;241m!=\u001b[39m (df[df[\u001b[38;5;124m'\u001b[39m\u001b[38;5;124mlanguage\u001b[39m\u001b[38;5;124m'\u001b[39m]] \u001b[38;5;241m==\u001b[39m\u001b[38;5;124m'\u001b[39m\u001b[38;5;124mJava\u001b[39m\u001b[38;5;124m'\u001b[39m \u001b[38;5;241m|\u001b[39m \u001b[38;5;124m'\u001b[39m\u001b[38;5;124mJavaScript\u001b[39m\u001b[38;5;124m'\u001b[39m \u001b[38;5;241m|\u001b[39m \u001b[38;5;124m'\u001b[39m\u001b[38;5;124mPython\u001b[39m\u001b[38;5;124m'\u001b[39m)\n",
      "File \u001b[0;32m/opt/homebrew/anaconda3/lib/python3.9/site-packages/pandas/core/frame.py:3511\u001b[0m, in \u001b[0;36mDataFrame.__getitem__\u001b[0;34m(self, key)\u001b[0m\n\u001b[1;32m   3509\u001b[0m     \u001b[38;5;28;01mif\u001b[39;00m is_iterator(key):\n\u001b[1;32m   3510\u001b[0m         key \u001b[38;5;241m=\u001b[39m \u001b[38;5;28mlist\u001b[39m(key)\n\u001b[0;32m-> 3511\u001b[0m     indexer \u001b[38;5;241m=\u001b[39m \u001b[38;5;28;43mself\u001b[39;49m\u001b[38;5;241;43m.\u001b[39;49m\u001b[43mcolumns\u001b[49m\u001b[38;5;241;43m.\u001b[39;49m\u001b[43m_get_indexer_strict\u001b[49m\u001b[43m(\u001b[49m\u001b[43mkey\u001b[49m\u001b[43m,\u001b[49m\u001b[43m \u001b[49m\u001b[38;5;124;43m\"\u001b[39;49m\u001b[38;5;124;43mcolumns\u001b[39;49m\u001b[38;5;124;43m\"\u001b[39;49m\u001b[43m)\u001b[49m[\u001b[38;5;241m1\u001b[39m]\n\u001b[1;32m   3513\u001b[0m \u001b[38;5;66;03m# take() does not accept boolean indexers\u001b[39;00m\n\u001b[1;32m   3514\u001b[0m \u001b[38;5;28;01mif\u001b[39;00m \u001b[38;5;28mgetattr\u001b[39m(indexer, \u001b[38;5;124m\"\u001b[39m\u001b[38;5;124mdtype\u001b[39m\u001b[38;5;124m\"\u001b[39m, \u001b[38;5;28;01mNone\u001b[39;00m) \u001b[38;5;241m==\u001b[39m \u001b[38;5;28mbool\u001b[39m:\n",
      "File \u001b[0;32m/opt/homebrew/anaconda3/lib/python3.9/site-packages/pandas/core/indexes/base.py:5782\u001b[0m, in \u001b[0;36mIndex._get_indexer_strict\u001b[0;34m(self, key, axis_name)\u001b[0m\n\u001b[1;32m   5779\u001b[0m \u001b[38;5;28;01melse\u001b[39;00m:\n\u001b[1;32m   5780\u001b[0m     keyarr, indexer, new_indexer \u001b[38;5;241m=\u001b[39m \u001b[38;5;28mself\u001b[39m\u001b[38;5;241m.\u001b[39m_reindex_non_unique(keyarr)\n\u001b[0;32m-> 5782\u001b[0m \u001b[38;5;28;43mself\u001b[39;49m\u001b[38;5;241;43m.\u001b[39;49m\u001b[43m_raise_if_missing\u001b[49m\u001b[43m(\u001b[49m\u001b[43mkeyarr\u001b[49m\u001b[43m,\u001b[49m\u001b[43m \u001b[49m\u001b[43mindexer\u001b[49m\u001b[43m,\u001b[49m\u001b[43m \u001b[49m\u001b[43maxis_name\u001b[49m\u001b[43m)\u001b[49m\n\u001b[1;32m   5784\u001b[0m keyarr \u001b[38;5;241m=\u001b[39m \u001b[38;5;28mself\u001b[39m\u001b[38;5;241m.\u001b[39mtake(indexer)\n\u001b[1;32m   5785\u001b[0m \u001b[38;5;28;01mif\u001b[39;00m \u001b[38;5;28misinstance\u001b[39m(key, Index):\n\u001b[1;32m   5786\u001b[0m     \u001b[38;5;66;03m# GH 42790 - Preserve name from an Index\u001b[39;00m\n",
      "File \u001b[0;32m/opt/homebrew/anaconda3/lib/python3.9/site-packages/pandas/core/indexes/base.py:5842\u001b[0m, in \u001b[0;36mIndex._raise_if_missing\u001b[0;34m(self, key, indexer, axis_name)\u001b[0m\n\u001b[1;32m   5840\u001b[0m     \u001b[38;5;28;01mif\u001b[39;00m use_interval_msg:\n\u001b[1;32m   5841\u001b[0m         key \u001b[38;5;241m=\u001b[39m \u001b[38;5;28mlist\u001b[39m(key)\n\u001b[0;32m-> 5842\u001b[0m     \u001b[38;5;28;01mraise\u001b[39;00m \u001b[38;5;167;01mKeyError\u001b[39;00m(\u001b[38;5;124mf\u001b[39m\u001b[38;5;124m\"\u001b[39m\u001b[38;5;124mNone of [\u001b[39m\u001b[38;5;132;01m{\u001b[39;00mkey\u001b[38;5;132;01m}\u001b[39;00m\u001b[38;5;124m] are in the [\u001b[39m\u001b[38;5;132;01m{\u001b[39;00maxis_name\u001b[38;5;132;01m}\u001b[39;00m\u001b[38;5;124m]\u001b[39m\u001b[38;5;124m\"\u001b[39m)\n\u001b[1;32m   5844\u001b[0m not_found \u001b[38;5;241m=\u001b[39m \u001b[38;5;28mlist\u001b[39m(ensure_index(key)[missing_mask\u001b[38;5;241m.\u001b[39mnonzero()[\u001b[38;5;241m0\u001b[39m]]\u001b[38;5;241m.\u001b[39munique())\n\u001b[1;32m   5845\u001b[0m \u001b[38;5;28;01mraise\u001b[39;00m \u001b[38;5;167;01mKeyError\u001b[39;00m(\u001b[38;5;124mf\u001b[39m\u001b[38;5;124m\"\u001b[39m\u001b[38;5;132;01m{\u001b[39;00mnot_found\u001b[38;5;132;01m}\u001b[39;00m\u001b[38;5;124m not in index\u001b[39m\u001b[38;5;124m\"\u001b[39m)\n",
      "\u001b[0;31mKeyError\u001b[0m: \"None of [Index(['Python', 'Shell', 'Python', 'Java', 'Kotlin', 'C', 'Java', 'Shell',\\n       'C#', 'C#',\\n       ...\\n       'TypeScript', 'Java', 'Rust', 'Python', 'JavaScript', 'Java', 'Java',\\n       'Java', 'JavaScript', 'JavaScript'],\\n      dtype='object', length=884)] are in the [columns]\""
     ]
    }
   ],
   "source": [
    "df['other'] = df[df['language']] != (df[df['language']] =='Java' | 'JavaScript' | 'Python')"
   ]
  },
  {
   "cell_type": "code",
   "execution_count": null,
   "id": "cd49bb60",
   "metadata": {},
   "outputs": [],
   "source": [
    "df['language'] = np.where(df['language'] >= 22000, 15000, df['Fee'])"
   ]
  }
 ],
 "metadata": {
  "kernelspec": {
   "display_name": "Python 3 (ipykernel)",
   "language": "python",
   "name": "python3"
  },
  "language_info": {
   "codemirror_mode": {
    "name": "ipython",
    "version": 3
   },
   "file_extension": ".py",
   "mimetype": "text/x-python",
   "name": "python",
   "nbconvert_exporter": "python",
   "pygments_lexer": "ipython3",
   "version": "3.9.12"
  }
 },
 "nbformat": 4,
 "nbformat_minor": 5
}
