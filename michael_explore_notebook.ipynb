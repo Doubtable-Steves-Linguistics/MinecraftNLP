{
 "cells": [
  {
   "cell_type": "code",
   "execution_count": 39,
   "id": "e218c6d4",
   "metadata": {},
   "outputs": [],
   "source": [
    "import pandas as pd\n",
    "import numpy as np\n",
    "import seaborn as sns\n",
    "import matplotlib as plt\n",
    "\n",
    "import re\n",
    "import unicodedata\n",
    "import nltk\n",
    "\n",
    "import prepare as p\n",
    "\n",
    "import pandas as pd\n",
    "import numpy as np\n",
    "\n",
    "from sklearn.model_selection import train_test_split"
   ]
  },
  {
   "cell_type": "code",
   "execution_count": 2,
   "id": "9084295c",
   "metadata": {},
   "outputs": [],
   "source": [
    "df = pd.read_csv('clean_scraped_data.csv')"
   ]
  },
  {
   "cell_type": "code",
   "execution_count": 3,
   "id": "5f5434b4",
   "metadata": {},
   "outputs": [],
   "source": [
    "df = p.map_other_languages(df)"
   ]
  },
  {
   "cell_type": "code",
   "execution_count": 7,
   "id": "91bab17a",
   "metadata": {},
   "outputs": [],
   "source": [
    "df = df.drop(columns = 'Unnamed: 0')"
   ]
  },
  {
   "cell_type": "code",
   "execution_count": 8,
   "id": "8b8f781b",
   "metadata": {},
   "outputs": [
    {
     "data": {
      "text/html": [
       "<div>\n",
       "<style scoped>\n",
       "    .dataframe tbody tr th:only-of-type {\n",
       "        vertical-align: middle;\n",
       "    }\n",
       "\n",
       "    .dataframe tbody tr th {\n",
       "        vertical-align: top;\n",
       "    }\n",
       "\n",
       "    .dataframe thead th {\n",
       "        text-align: right;\n",
       "    }\n",
       "</style>\n",
       "<table border=\"1\" class=\"dataframe\">\n",
       "  <thead>\n",
       "    <tr style=\"text-align: right;\">\n",
       "      <th></th>\n",
       "      <th>repo</th>\n",
       "      <th>language</th>\n",
       "      <th>readme_contents</th>\n",
       "      <th>clean</th>\n",
       "      <th>lemmatized</th>\n",
       "    </tr>\n",
       "  </thead>\n",
       "  <tbody>\n",
       "    <tr>\n",
       "      <th>0</th>\n",
       "      <td>fogleman/Minecraft</td>\n",
       "      <td>Python</td>\n",
       "      <td># Minecraft\\n\\nSimple Minecraft-inspired demo ...</td>\n",
       "      <td>minecraft simple minecraftinspired demo writte...</td>\n",
       "      <td>minecraft simple minecraftinspired demo writte...</td>\n",
       "    </tr>\n",
       "    <tr>\n",
       "      <th>1</th>\n",
       "      <td>itzg/docker-minecraft-server</td>\n",
       "      <td>Other</td>\n",
       "      <td>[![Docker Pulls](https://img.shields.io/docker...</td>\n",
       "      <td>docker pullshttpsimgshieldsiodockerpullsitzgmi...</td>\n",
       "      <td>docker pullshttpsimgshieldsiodockerpullsitzgmi...</td>\n",
       "    </tr>\n",
       "    <tr>\n",
       "      <th>2</th>\n",
       "      <td>overviewer/Minecraft-Overviewer</td>\n",
       "      <td>Python</td>\n",
       "      <td>====================================\\nMinecraf...</td>\n",
       "      <td>minecraft overviewer build status andrew brown...</td>\n",
       "      <td>minecraft overviewer build status andrew brown...</td>\n",
       "    </tr>\n",
       "    <tr>\n",
       "      <th>3</th>\n",
       "      <td>TheGreyGhost/MinecraftByExample</td>\n",
       "      <td>Java</td>\n",
       "      <td>MinecraftByExample [1.16.4]\\n=================...</td>\n",
       "      <td>minecraftbyexample 1164 purpose minecraftbyexa...</td>\n",
       "      <td>minecraftbyexample 1164 purpose minecraftbyexa...</td>\n",
       "    </tr>\n",
       "    <tr>\n",
       "      <th>4</th>\n",
       "      <td>minecraft-dev/MinecraftDev</td>\n",
       "      <td>Other</td>\n",
       "      <td>&lt;p align=\"center\"&gt;&lt;a href=\"https://minecraftde...</td>\n",
       "      <td>p aligncentera hrefhttpsminecraftdevorgimg src...</td>\n",
       "      <td>p aligncentera hrefhttpsminecraftdevorgimg src...</td>\n",
       "    </tr>\n",
       "    <tr>\n",
       "      <th>...</th>\n",
       "      <td>...</td>\n",
       "      <td>...</td>\n",
       "      <td>...</td>\n",
       "      <td>...</td>\n",
       "      <td>...</td>\n",
       "    </tr>\n",
       "    <tr>\n",
       "      <th>879</th>\n",
       "      <td>Crossroads-Development/Crossroads</td>\n",
       "      <td>Java</td>\n",
       "      <td># Crossroads\\n\\nA steampunk technology mod for...</td>\n",
       "      <td>crossroads steampunk technology mod minecraft ...</td>\n",
       "      <td>crossroad steampunk technology mod minecraft i...</td>\n",
       "    </tr>\n",
       "    <tr>\n",
       "      <th>880</th>\n",
       "      <td>GeyserMC/PacketLib</td>\n",
       "      <td>Java</td>\n",
       "      <td># PacketLib\\nPacketLib is a library for packet...</td>\n",
       "      <td>packetlib packetlib library packetbased networ...</td>\n",
       "      <td>packetlib packetlib library packetbased networ...</td>\n",
       "    </tr>\n",
       "    <tr>\n",
       "      <th>881</th>\n",
       "      <td>Nic4Las/Minecraft-Enderite-Mod</td>\n",
       "      <td>Java</td>\n",
       "      <td># Enderite Mod\\n\\n[![](http://cf.way2muchnoise...</td>\n",
       "      <td>enderite mod httpcfway2muchnoiseeuversions3992...</td>\n",
       "      <td>enderite mod httpcfway2muchnoiseeuversions3992...</td>\n",
       "    </tr>\n",
       "    <tr>\n",
       "      <th>882</th>\n",
       "      <td>espertus/blockly-lua</td>\n",
       "      <td>JavaScript</td>\n",
       "      <td>Blockly Lua allows you to program ComputerCraf...</td>\n",
       "      <td>blockly lua allows program computercraft turtl...</td>\n",
       "      <td>blockly lua allows program computercraft turtl...</td>\n",
       "    </tr>\n",
       "    <tr>\n",
       "      <th>883</th>\n",
       "      <td>deathcap/node-minecraft-ping</td>\n",
       "      <td>JavaScript</td>\n",
       "      <td># node-minecraft-ping\\n\\nSends a [server list ...</td>\n",
       "      <td>nodeminecraftping sends server list pinghttpwi...</td>\n",
       "      <td>nodeminecraftping sends server list pinghttpwi...</td>\n",
       "    </tr>\n",
       "  </tbody>\n",
       "</table>\n",
       "<p>884 rows × 5 columns</p>\n",
       "</div>"
      ],
      "text/plain": [
       "                                  repo    language  \\\n",
       "0                   fogleman/Minecraft      Python   \n",
       "1         itzg/docker-minecraft-server       Other   \n",
       "2      overviewer/Minecraft-Overviewer      Python   \n",
       "3      TheGreyGhost/MinecraftByExample        Java   \n",
       "4           minecraft-dev/MinecraftDev       Other   \n",
       "..                                 ...         ...   \n",
       "879  Crossroads-Development/Crossroads        Java   \n",
       "880                 GeyserMC/PacketLib        Java   \n",
       "881     Nic4Las/Minecraft-Enderite-Mod        Java   \n",
       "882               espertus/blockly-lua  JavaScript   \n",
       "883       deathcap/node-minecraft-ping  JavaScript   \n",
       "\n",
       "                                       readme_contents  \\\n",
       "0    # Minecraft\\n\\nSimple Minecraft-inspired demo ...   \n",
       "1    [![Docker Pulls](https://img.shields.io/docker...   \n",
       "2    ====================================\\nMinecraf...   \n",
       "3    MinecraftByExample [1.16.4]\\n=================...   \n",
       "4    <p align=\"center\"><a href=\"https://minecraftde...   \n",
       "..                                                 ...   \n",
       "879  # Crossroads\\n\\nA steampunk technology mod for...   \n",
       "880  # PacketLib\\nPacketLib is a library for packet...   \n",
       "881  # Enderite Mod\\n\\n[![](http://cf.way2muchnoise...   \n",
       "882  Blockly Lua allows you to program ComputerCraf...   \n",
       "883  # node-minecraft-ping\\n\\nSends a [server list ...   \n",
       "\n",
       "                                                 clean  \\\n",
       "0    minecraft simple minecraftinspired demo writte...   \n",
       "1    docker pullshttpsimgshieldsiodockerpullsitzgmi...   \n",
       "2    minecraft overviewer build status andrew brown...   \n",
       "3    minecraftbyexample 1164 purpose minecraftbyexa...   \n",
       "4    p aligncentera hrefhttpsminecraftdevorgimg src...   \n",
       "..                                                 ...   \n",
       "879  crossroads steampunk technology mod minecraft ...   \n",
       "880  packetlib packetlib library packetbased networ...   \n",
       "881  enderite mod httpcfway2muchnoiseeuversions3992...   \n",
       "882  blockly lua allows program computercraft turtl...   \n",
       "883  nodeminecraftping sends server list pinghttpwi...   \n",
       "\n",
       "                                            lemmatized  \n",
       "0    minecraft simple minecraftinspired demo writte...  \n",
       "1    docker pullshttpsimgshieldsiodockerpullsitzgmi...  \n",
       "2    minecraft overviewer build status andrew brown...  \n",
       "3    minecraftbyexample 1164 purpose minecraftbyexa...  \n",
       "4    p aligncentera hrefhttpsminecraftdevorgimg src...  \n",
       "..                                                 ...  \n",
       "879  crossroad steampunk technology mod minecraft i...  \n",
       "880  packetlib packetlib library packetbased networ...  \n",
       "881  enderite mod httpcfway2muchnoiseeuversions3992...  \n",
       "882  blockly lua allows program computercraft turtl...  \n",
       "883  nodeminecraftping sends server list pinghttpwi...  \n",
       "\n",
       "[884 rows x 5 columns]"
      ]
     },
     "execution_count": 8,
     "metadata": {},
     "output_type": "execute_result"
    }
   ],
   "source": [
    "df"
   ]
  },
  {
   "cell_type": "code",
   "execution_count": 9,
   "id": "ef5a72d0",
   "metadata": {
    "scrolled": false
   },
   "outputs": [
    {
     "data": {
      "text/plain": [
       "Java          402\n",
       "Other         320\n",
       "JavaScript     86\n",
       "Python         76\n",
       "Name: language, dtype: int64"
      ]
     },
     "execution_count": 9,
     "metadata": {},
     "output_type": "execute_result"
    }
   ],
   "source": [
    "df.language.value_counts()"
   ]
  },
  {
   "cell_type": "code",
   "execution_count": 40,
   "id": "c16ddfcf",
   "metadata": {},
   "outputs": [],
   "source": [
    "def split_minecraft_data(df):\n",
    "    '''\n",
    "    This function performs split on minecraft repo data, stratified on language.\n",
    "    Returns train, validate, and test dfs.\n",
    "    '''\n",
    "    train_validate, test = train_test_split(df, test_size=.2, \n",
    "                                        random_state=123, \n",
    "                                        stratify=df.language)\n",
    "    train, validate = train_test_split(train_validate, test_size=.3, \n",
    "                                   random_state=123, \n",
    "                                   stratify=train_validate.language)\n",
    "    return train, validate, test\n",
    "\n"
   ]
  },
  {
   "cell_type": "code",
   "execution_count": 41,
   "id": "a95fab48",
   "metadata": {},
   "outputs": [],
   "source": [
    "train, validate, test = split_minecraft_data(df)"
   ]
  },
  {
   "cell_type": "code",
   "execution_count": 43,
   "id": "5ddcb2ce",
   "metadata": {
    "scrolled": true
   },
   "outputs": [
    {
     "data": {
      "text/plain": [
       "Java          224\n",
       "Other         179\n",
       "JavaScript     48\n",
       "Python         43\n",
       "Name: language, dtype: int64"
      ]
     },
     "execution_count": 43,
     "metadata": {},
     "output_type": "execute_result"
    }
   ],
   "source": [
    "train.language.value_counts()"
   ]
  },
  {
   "cell_type": "code",
   "execution_count": 44,
   "id": "ba64b6b1",
   "metadata": {},
   "outputs": [
    {
     "data": {
      "text/plain": [
       "Java          97\n",
       "Other         77\n",
       "JavaScript    21\n",
       "Python        18\n",
       "Name: language, dtype: int64"
      ]
     },
     "execution_count": 44,
     "metadata": {},
     "output_type": "execute_result"
    }
   ],
   "source": [
    "validate.language.value_counts()"
   ]
  },
  {
   "cell_type": "code",
   "execution_count": 45,
   "id": "820d1b0b",
   "metadata": {},
   "outputs": [
    {
     "data": {
      "text/plain": [
       "Java          81\n",
       "Other         64\n",
       "JavaScript    17\n",
       "Python        15\n",
       "Name: language, dtype: int64"
      ]
     },
     "execution_count": 45,
     "metadata": {},
     "output_type": "execute_result"
    }
   ],
   "source": [
    "test.language.value_counts()"
   ]
  },
  {
   "cell_type": "code",
   "execution_count": 49,
   "id": "33fa5268",
   "metadata": {},
   "outputs": [],
   "source": [
    "y_train = train[['language']]"
   ]
  },
  {
   "cell_type": "code",
   "execution_count": 50,
   "id": "22fc4a9d",
   "metadata": {
    "scrolled": true
   },
   "outputs": [
    {
     "data": {
      "text/html": [
       "<div>\n",
       "<style scoped>\n",
       "    .dataframe tbody tr th:only-of-type {\n",
       "        vertical-align: middle;\n",
       "    }\n",
       "\n",
       "    .dataframe tbody tr th {\n",
       "        vertical-align: top;\n",
       "    }\n",
       "\n",
       "    .dataframe thead th {\n",
       "        text-align: right;\n",
       "    }\n",
       "</style>\n",
       "<table border=\"1\" class=\"dataframe\">\n",
       "  <thead>\n",
       "    <tr style=\"text-align: right;\">\n",
       "      <th></th>\n",
       "      <th>language</th>\n",
       "    </tr>\n",
       "  </thead>\n",
       "  <tbody>\n",
       "    <tr>\n",
       "      <th>40</th>\n",
       "      <td>JavaScript</td>\n",
       "    </tr>\n",
       "    <tr>\n",
       "      <th>730</th>\n",
       "      <td>Java</td>\n",
       "    </tr>\n",
       "    <tr>\n",
       "      <th>243</th>\n",
       "      <td>Java</td>\n",
       "    </tr>\n",
       "    <tr>\n",
       "      <th>796</th>\n",
       "      <td>Java</td>\n",
       "    </tr>\n",
       "    <tr>\n",
       "      <th>232</th>\n",
       "      <td>Java</td>\n",
       "    </tr>\n",
       "    <tr>\n",
       "      <th>...</th>\n",
       "      <td>...</td>\n",
       "    </tr>\n",
       "    <tr>\n",
       "      <th>128</th>\n",
       "      <td>JavaScript</td>\n",
       "    </tr>\n",
       "    <tr>\n",
       "      <th>51</th>\n",
       "      <td>Java</td>\n",
       "    </tr>\n",
       "    <tr>\n",
       "      <th>314</th>\n",
       "      <td>Java</td>\n",
       "    </tr>\n",
       "    <tr>\n",
       "      <th>563</th>\n",
       "      <td>JavaScript</td>\n",
       "    </tr>\n",
       "    <tr>\n",
       "      <th>259</th>\n",
       "      <td>Java</td>\n",
       "    </tr>\n",
       "  </tbody>\n",
       "</table>\n",
       "<p>494 rows × 1 columns</p>\n",
       "</div>"
      ],
      "text/plain": [
       "       language\n",
       "40   JavaScript\n",
       "730        Java\n",
       "243        Java\n",
       "796        Java\n",
       "232        Java\n",
       "..          ...\n",
       "128  JavaScript\n",
       "51         Java\n",
       "314        Java\n",
       "563  JavaScript\n",
       "259        Java\n",
       "\n",
       "[494 rows x 1 columns]"
      ]
     },
     "execution_count": 50,
     "metadata": {},
     "output_type": "execute_result"
    }
   ],
   "source": [
    "y_train"
   ]
  },
  {
   "cell_type": "code",
   "execution_count": 51,
   "id": "5f5e5767",
   "metadata": {},
   "outputs": [],
   "source": [
    "X_train = train[['lemmatized']]"
   ]
  },
  {
   "cell_type": "code",
   "execution_count": 52,
   "id": "44cbc121",
   "metadata": {},
   "outputs": [
    {
     "data": {
      "text/html": [
       "<div>\n",
       "<style scoped>\n",
       "    .dataframe tbody tr th:only-of-type {\n",
       "        vertical-align: middle;\n",
       "    }\n",
       "\n",
       "    .dataframe tbody tr th {\n",
       "        vertical-align: top;\n",
       "    }\n",
       "\n",
       "    .dataframe thead th {\n",
       "        text-align: right;\n",
       "    }\n",
       "</style>\n",
       "<table border=\"1\" class=\"dataframe\">\n",
       "  <thead>\n",
       "    <tr style=\"text-align: right;\">\n",
       "      <th></th>\n",
       "      <th>lemmatized</th>\n",
       "    </tr>\n",
       "  </thead>\n",
       "  <tbody>\n",
       "    <tr>\n",
       "      <th>40</th>\n",
       "      <td>welcome react three fiber minecraft project tr...</td>\n",
       "    </tr>\n",
       "    <tr>\n",
       "      <th>730</th>\n",
       "      <td>aoneblock oneblock minecraft plugin written ta...</td>\n",
       "    </tr>\n",
       "    <tr>\n",
       "      <th>243</th>\n",
       "      <td>pgm deployhttpsgithubcomelectroidpgmworkflowsd...</td>\n",
       "    </tr>\n",
       "    <tr>\n",
       "      <th>796</th>\n",
       "      <td>p aligncenter img srchttpsrawgithubusercontent...</td>\n",
       "    </tr>\n",
       "    <tr>\n",
       "      <th>232</th>\n",
       "      <td>minestuck discord server httpsdiscordappcominv...</td>\n",
       "    </tr>\n",
       "    <tr>\n",
       "      <th>...</th>\n",
       "      <td>...</td>\n",
       "    </tr>\n",
       "    <tr>\n",
       "      <th>128</th>\n",
       "      <td>welcome react three fiber minecraft project tr...</td>\n",
       "    </tr>\n",
       "    <tr>\n",
       "      <th>51</th>\n",
       "      <td>imagehttpsuserimagesgithubusercontentcom468811...</td>\n",
       "    </tr>\n",
       "    <tr>\n",
       "      <th>314</th>\n",
       "      <td>java version adoptjdk 11 openj9 minecraft cras...</td>\n",
       "    </tr>\n",
       "    <tr>\n",
       "      <th>563</th>\n",
       "      <td>jsmc haha would write minecraft server javascr...</td>\n",
       "    </tr>\n",
       "    <tr>\n",
       "      <th>259</th>\n",
       "      <td>customskinloader versionhttpsimgshieldsiogithu...</td>\n",
       "    </tr>\n",
       "  </tbody>\n",
       "</table>\n",
       "<p>494 rows × 1 columns</p>\n",
       "</div>"
      ],
      "text/plain": [
       "                                            lemmatized\n",
       "40   welcome react three fiber minecraft project tr...\n",
       "730  aoneblock oneblock minecraft plugin written ta...\n",
       "243  pgm deployhttpsgithubcomelectroidpgmworkflowsd...\n",
       "796  p aligncenter img srchttpsrawgithubusercontent...\n",
       "232  minestuck discord server httpsdiscordappcominv...\n",
       "..                                                 ...\n",
       "128  welcome react three fiber minecraft project tr...\n",
       "51   imagehttpsuserimagesgithubusercontentcom468811...\n",
       "314  java version adoptjdk 11 openj9 minecraft cras...\n",
       "563  jsmc haha would write minecraft server javascr...\n",
       "259  customskinloader versionhttpsimgshieldsiogithu...\n",
       "\n",
       "[494 rows x 1 columns]"
      ]
     },
     "execution_count": 52,
     "metadata": {},
     "output_type": "execute_result"
    }
   ],
   "source": [
    "X_train"
   ]
  },
  {
   "cell_type": "markdown",
   "id": "c7859689",
   "metadata": {},
   "source": [
    "# Making split() word lists with target variables"
   ]
  },
  {
   "cell_type": "code",
   "execution_count": 75,
   "id": "8e188a7e",
   "metadata": {},
   "outputs": [],
   "source": [
    "all_minecraft_readme = ' '.join(train['lemmatized'])"
   ]
  },
  {
   "cell_type": "code",
   "execution_count": 76,
   "id": "c602902e",
   "metadata": {},
   "outputs": [],
   "source": [
    "all_word_freq = pd.Series(all_minecraft_readme.split()).value_counts()"
   ]
  },
  {
   "cell_type": "markdown",
   "id": "a3c610ba",
   "metadata": {},
   "source": [
    "### Python"
   ]
  },
  {
   "cell_type": "code",
   "execution_count": 53,
   "id": "3780d1ff",
   "metadata": {},
   "outputs": [],
   "source": [
    "python_df = train[train.language == 'Python']"
   ]
  },
  {
   "cell_type": "code",
   "execution_count": 54,
   "id": "16ad96f3",
   "metadata": {},
   "outputs": [],
   "source": [
    "#python_df"
   ]
  },
  {
   "cell_type": "code",
   "execution_count": 55,
   "id": "ff900f7f",
   "metadata": {
    "scrolled": false
   },
   "outputs": [
    {
     "data": {
      "text/plain": [
       "'            219\n",
       "minecraft    189\n",
       "server       134\n",
       "install      134\n",
       "python       122\n",
       "use           89\n",
       "version       89\n",
       "file          83\n",
       "run           81\n",
       "world         72\n",
       "image         61\n",
       "0             61\n",
       "chunk         59\n",
       "default       57\n",
       "using         57\n",
       "make          56\n",
       "block         55\n",
       "map           54\n",
       "span          51\n",
       "mod           51\n",
       "dtype: int64"
      ]
     },
     "execution_count": 55,
     "metadata": {},
     "output_type": "execute_result"
    }
   ],
   "source": [
    "all_python_readme = ' '.join(python_df['lemmatized'])\n",
    "pd.Series(all_python_readme.split()).value_counts().head(20)"
   ]
  },
  {
   "cell_type": "code",
   "execution_count": 68,
   "id": "98708560",
   "metadata": {},
   "outputs": [],
   "source": [
    "python_word_freq = pd.Series(all_python_readme.split()).value_counts()"
   ]
  },
  {
   "cell_type": "code",
   "execution_count": 69,
   "id": "280ce376",
   "metadata": {},
   "outputs": [
    {
     "data": {
      "text/plain": [
       "'                         219\n",
       "minecraft                 189\n",
       "server                    134\n",
       "install                   134\n",
       "python                    122\n",
       "                         ... \n",
       "prevents                    1\n",
       "unpleasant                  1\n",
       "surprise                    1\n",
       "mpx                         1\n",
       "gdlauncherhttpsgdevsio      1\n",
       "Length: 3567, dtype: int64"
      ]
     },
     "execution_count": 69,
     "metadata": {},
     "output_type": "execute_result"
    }
   ],
   "source": [
    "python_word_freq"
   ]
  },
  {
   "cell_type": "markdown",
   "id": "efbd26b3",
   "metadata": {},
   "source": [
    "### Java"
   ]
  },
  {
   "cell_type": "code",
   "execution_count": 57,
   "id": "18b7caa4",
   "metadata": {
    "scrolled": true
   },
   "outputs": [
    {
     "data": {
      "text/plain": [
       "'            845\n",
       "mod          525\n",
       "minecraft    476\n",
       "server       429\n",
       "build        339\n",
       "version      320\n",
       "use          298\n",
       "project      245\n",
       "file         242\n",
       "&#9;         238\n",
       "code         233\n",
       "player       220\n",
       "run          216\n",
       "support      194\n",
       "issue        180\n",
       "feature      171\n",
       "command      167\n",
       "using        164\n",
       "java         163\n",
       "forge        162\n",
       "dtype: int64"
      ]
     },
     "execution_count": 57,
     "metadata": {},
     "output_type": "execute_result"
    }
   ],
   "source": [
    "java_df = train[train.language == 'Java']\n",
    "all_java_readme = ' '.join(java_df['lemmatized'])\n",
    "pd.Series(all_java_readme.split()).value_counts().head(20)"
   ]
  },
  {
   "cell_type": "code",
   "execution_count": 70,
   "id": "a215304e",
   "metadata": {},
   "outputs": [],
   "source": [
    "java_word_freq = pd.Series(all_java_readme.split()).value_counts()"
   ]
  },
  {
   "cell_type": "markdown",
   "id": "74851df6",
   "metadata": {},
   "source": [
    "### JavaScript"
   ]
  },
  {
   "cell_type": "code",
   "execution_count": 58,
   "id": "f84842cb",
   "metadata": {
    "scrolled": true
   },
   "outputs": [
    {
     "data": {
      "text/plain": [
       "'            487\n",
       "&#9;         334\n",
       "server       253\n",
       "minecraft    179\n",
       "command      153\n",
       "file         103\n",
       "run          103\n",
       "backup        82\n",
       "start         74\n",
       "test          74\n",
       "version       66\n",
       "werden        64\n",
       "say           64\n",
       "set           64\n",
       "npm           61\n",
       "block         61\n",
       "install       61\n",
       "1             60\n",
       "using         59\n",
       "directory     57\n",
       "dtype: int64"
      ]
     },
     "execution_count": 58,
     "metadata": {},
     "output_type": "execute_result"
    }
   ],
   "source": [
    "javascript_df = train[train.language == 'JavaScript']\n",
    "all_javascript_readme = ' '.join(javascript_df['lemmatized'])\n",
    "pd.Series(all_javascript_readme.split()).value_counts().head(20)"
   ]
  },
  {
   "cell_type": "code",
   "execution_count": 71,
   "id": "5b2d37af",
   "metadata": {},
   "outputs": [],
   "source": [
    "javascript_word_freq = pd.Series(all_javascript_readme.split()).value_counts()"
   ]
  },
  {
   "cell_type": "markdown",
   "id": "946ebc55",
   "metadata": {},
   "source": [
    "# Create bigrams"
   ]
  },
  {
   "cell_type": "markdown",
   "id": "953c62d6",
   "metadata": {},
   "source": [
    "### Python"
   ]
  },
  {
   "cell_type": "code",
   "execution_count": 59,
   "id": "e1157df6",
   "metadata": {},
   "outputs": [
    {
     "data": {
      "text/plain": [
       "(pip, install)              36\n",
       "(0, chunk)                  21\n",
       "(minecraft, server)         20\n",
       "(span, stylefontweight)     15\n",
       "(infoblocklight, pas)       14\n",
       "(infoskylight, pas)         14\n",
       "(chunk, infoskylight)       14\n",
       "(minecraft, world)          13\n",
       "(minecraft, version)        13\n",
       "(chunk, infoblocklight)     13\n",
       "(java, edition)             11\n",
       "(classsimg, altimageabr)    11\n",
       "(', ')                      11\n",
       "(make, sure)                11\n",
       "(aptget, install)           10\n",
       "(sudo, aptget)              10\n",
       "(default, value)            10\n",
       "(br, span)                   9\n",
       "(minecraft, ')               9\n",
       "(player, player)             9\n",
       "dtype: int64"
      ]
     },
     "execution_count": 59,
     "metadata": {},
     "output_type": "execute_result"
    }
   ],
   "source": [
    "top_20_all_python_readme_bigrams = (pd.Series(nltk.ngrams(all_python_readme.split(), 2))\n",
    "                      .value_counts()\n",
    "                      .head(20))\n",
    "\n",
    "top_20_all_python_readme_bigrams.head(20)"
   ]
  },
  {
   "cell_type": "markdown",
   "id": "0426d2a2",
   "metadata": {},
   "source": [
    "### Java"
   ]
  },
  {
   "cell_type": "code",
   "execution_count": 60,
   "id": "90978936",
   "metadata": {},
   "outputs": [
    {
     "data": {
      "text/plain": [
       "(&#9;, &#9;)            99\n",
       "(pull, request)         70\n",
       "(make, sure)            56\n",
       "(gradlew, build)        44\n",
       "(minecraft, mod)        38\n",
       "(run, gradlew)          37\n",
       "(minecraft, server)     36\n",
       "(open, source)          32\n",
       "(jar, file)             31\n",
       "(source, code)          29\n",
       "(mod, minecraft)        27\n",
       "(minecraft, version)    27\n",
       "(minecraft, forge)      26\n",
       "(command, line)         26\n",
       "(p, aligncenter)        24\n",
       "(java, jar)             24\n",
       "(public, license)       23\n",
       "(mod, ')                23\n",
       "(feel, free)            21\n",
       "(git, clone)            21\n",
       "dtype: int64"
      ]
     },
     "execution_count": 60,
     "metadata": {},
     "output_type": "execute_result"
    }
   ],
   "source": [
    "top_20_all_java_readme_bigrams = (pd.Series(nltk.ngrams(all_java_readme.split(), 2))\n",
    "                      .value_counts()\n",
    "                      .head(20))\n",
    "\n",
    "top_20_all_java_readme_bigrams.head(20)"
   ]
  },
  {
   "cell_type": "markdown",
   "id": "d0a0aeea",
   "metadata": {},
   "source": [
    "### JavaScript"
   ]
  },
  {
   "cell_type": "code",
   "execution_count": 61,
   "id": "ce33d14a",
   "metadata": {},
   "outputs": [
    {
     "data": {
      "text/plain": [
       "(&#9;, &#9;)           221\n",
       "(minecraft, server)     43\n",
       "(', ')                  28\n",
       "(npm, install)          23\n",
       "(window, 10)            17\n",
       "(require, ')            16\n",
       "(run, command)          16\n",
       "(server, ')             14\n",
       "(npm, run)              14\n",
       "(ip, address)           13\n",
       "(', need)               13\n",
       "(&#9;, say)             13\n",
       "(var, test)             13\n",
       "(&#9;, command)         12\n",
       "(discord, bot)          12\n",
       "(command, &#9;)         12\n",
       "(git, clone)            11\n",
       "(npm, start)            11\n",
       "(bedrock, edition)      11\n",
       "(j, const)              11\n",
       "dtype: int64"
      ]
     },
     "execution_count": 61,
     "metadata": {},
     "output_type": "execute_result"
    }
   ],
   "source": [
    "top_20_all_javascript_readme_bigrams = (pd.Series(nltk.ngrams(all_javascript_readme.split(), 2))\n",
    "                      .value_counts()\n",
    "                      .head(20))\n",
    "\n",
    "top_20_all_javascript_readme_bigrams.head(20)"
   ]
  },
  {
   "cell_type": "markdown",
   "id": "2e74b61f",
   "metadata": {},
   "source": [
    "# Create Trigrams"
   ]
  },
  {
   "cell_type": "markdown",
   "id": "ea8522f1",
   "metadata": {},
   "source": [
    "### Python"
   ]
  },
  {
   "cell_type": "code",
   "execution_count": 62,
   "id": "ab21604f",
   "metadata": {},
   "outputs": [
    {
     "data": {
      "text/plain": [
       "(chunk, infoskylight, pas)           14\n",
       "(chunk, infoblocklight, pas)         13\n",
       "(0, chunk, infoblocklight)           11\n",
       "(sudo, aptget, install)              10\n",
       "(classsimg, altimageabr, br)          9\n",
       "(0, chunk, infoskylight)              8\n",
       "(pip, install, user)                  7\n",
       "(minecraft, java, edition)            7\n",
       "(tool, span, spanbr)                  6\n",
       "(install, r, requirementstxt)         6\n",
       "(python, setuppy, develop)            5\n",
       "(pip, install, r)                     5\n",
       "(timeout, optionalfloat, none)        4\n",
       "(img, altbuilt, fabulously)           4\n",
       "(pickaxe, 2, stick)                   4\n",
       "(pip, install, quarry)                4\n",
       "(span, stylefontweight, bolde)        4\n",
       "(client, server, proxy)               4\n",
       "(altbuilt, fabulously, optimized)     4\n",
       "(following, entity, data)             4\n",
       "dtype: int64"
      ]
     },
     "execution_count": 62,
     "metadata": {},
     "output_type": "execute_result"
    }
   ],
   "source": [
    "top_20_all_python_readme_trigrams = (pd.Series(nltk.ngrams(all_python_readme.split(), 3))\n",
    "                      .value_counts()\n",
    "                      .head(20))\n",
    "\n",
    "top_20_all_python_readme_trigrams.head(20)"
   ]
  },
  {
   "cell_type": "markdown",
   "id": "d5e0e735",
   "metadata": {},
   "source": [
    "### Java"
   ]
  },
  {
   "cell_type": "code",
   "execution_count": 63,
   "id": "75c80c8d",
   "metadata": {},
   "outputs": [
    {
     "data": {
      "text/plain": [
       "(&#9;, &#9;, &#9;)                        38\n",
       "(boolean, false, true)                    19\n",
       "(false, true, false)                      19\n",
       "(true, false, pca)                        19\n",
       "(general, public, license)                18\n",
       "(false, pca, feature)                     17\n",
       "(run, gradlew, build)                     14\n",
       "(moved, strange, mod)                     13\n",
       "(gnu, general, public)                    13\n",
       "(submit, pull, request)                   12\n",
       "(p, aligncenter, img)                     12\n",
       "(minecraft, java, edition)                11\n",
       "(open, command, line)                     10\n",
       "(minecraft, bedrock, edition)             10\n",
       "(fitness, particular, purpose)             9\n",
       "(merchantability, fitness, particular)     9\n",
       "(warranty, merchantability, fitness)       9\n",
       "(create, pull, request)                    9\n",
       "(l, ', installeur)                         9\n",
       "(de, l, ')                                 9\n",
       "dtype: int64"
      ]
     },
     "execution_count": 63,
     "metadata": {},
     "output_type": "execute_result"
    }
   ],
   "source": [
    "top_20_all_java_readme_trigrams = (pd.Series(nltk.ngrams(all_java_readme.split(), 3))\n",
    "                      .value_counts()\n",
    "                      .head(20))\n",
    "\n",
    "top_20_all_java_readme_trigrams.head(20)"
   ]
  },
  {
   "cell_type": "markdown",
   "id": "a10bd063",
   "metadata": {},
   "source": [
    "### JavaScript"
   ]
  },
  {
   "cell_type": "code",
   "execution_count": 64,
   "id": "58ae7c29",
   "metadata": {},
   "outputs": [
    {
     "data": {
      "text/plain": [
       "(&#9;, &#9;, &#9;)               177\n",
       "(&#9;, command, &#9;)              9\n",
       "(minecraft, bedrock, edition)      8\n",
       "(test, &#9;, &#9;)                 7\n",
       "(command, &#9;, execute)           7\n",
       "(werden, var, test)                6\n",
       "(minecraft, server, ')             6\n",
       "(connecting, window, 10)           5\n",
       "(window, 10, edition)              5\n",
       "(', test, ')                       5\n",
       "(npm, install, npm)                5\n",
       "(', &#9;, command)                 5\n",
       "(', minecraft, server)             5\n",
       "(yes, yes, limited)                5\n",
       "(nbt, require, ')                  4\n",
       "(require, ', prismarinenbt)        4\n",
       "(statement, ', &#9;)               4\n",
       "(', statement, ')                  4\n",
       "(command, &#9;, &#9;)              4\n",
       "(statement, run, command)          4\n",
       "dtype: int64"
      ]
     },
     "execution_count": 64,
     "metadata": {},
     "output_type": "execute_result"
    }
   ],
   "source": [
    "top_20_all_javascript_readme_trigrams = (pd.Series(nltk.ngrams(all_javascript_readme.split(), 3))\n",
    "                      .value_counts()\n",
    "                      .head(20))\n",
    "\n",
    "top_20_all_javascript_readme_trigrams.head(20)"
   ]
  },
  {
   "cell_type": "markdown",
   "id": "cc664e0c",
   "metadata": {},
   "source": [
    "# Viz"
   ]
  },
  {
   "cell_type": "code",
   "execution_count": 82,
   "id": "63e1df12",
   "metadata": {},
   "outputs": [],
   "source": [
    "word_counts = (pd.concat([all_word_freq, python_word_freq, java_word_freq, javascript_word_freq], axis=1, sort=True)\n",
    "                .set_axis(['all', 'python', 'java', 'javascript'], axis=1, inplace=False)\n",
    "                .fillna(0)\n",
    "                .apply(lambda s: s.astype(int)))\n"
   ]
  },
  {
   "cell_type": "code",
   "execution_count": 88,
   "id": "6a5b3249",
   "metadata": {},
   "outputs": [],
   "source": [
    "#word_counts.to_markdown()"
   ]
  },
  {
   "cell_type": "code",
   "execution_count": 89,
   "id": "03b4ec1a",
   "metadata": {},
   "outputs": [
    {
     "data": {
      "text/html": [
       "<div>\n",
       "<style scoped>\n",
       "    .dataframe tbody tr th:only-of-type {\n",
       "        vertical-align: middle;\n",
       "    }\n",
       "\n",
       "    .dataframe tbody tr th {\n",
       "        vertical-align: top;\n",
       "    }\n",
       "\n",
       "    .dataframe thead th {\n",
       "        text-align: right;\n",
       "    }\n",
       "</style>\n",
       "<table border=\"1\" class=\"dataframe\">\n",
       "  <thead>\n",
       "    <tr style=\"text-align: right;\">\n",
       "      <th></th>\n",
       "      <th>&amp;#9;</th>\n",
       "      <th>'</th>\n",
       "      <th>0</th>\n",
       "      <th>00</th>\n",
       "      <th>0000</th>\n",
       "      <th>000000</th>\n",
       "      <th>000000105</th>\n",
       "      <th>000000336</th>\n",
       "      <th>00000337333</th>\n",
       "      <th>00002024000</th>\n",
       "      <th>...</th>\n",
       "      <th>zusatzlichen</th>\n",
       "      <th>zutrifft</th>\n",
       "      <th>zvezdolet</th>\n",
       "      <th>zwecke</th>\n",
       "      <th>zwei</th>\n",
       "      <th>zweite</th>\n",
       "      <th>zweites</th>\n",
       "      <th>zyliqx</th>\n",
       "      <th>zzz</th>\n",
       "      <th>zzzzzzzzzzzz</th>\n",
       "    </tr>\n",
       "  </thead>\n",
       "  <tbody>\n",
       "    <tr>\n",
       "      <th>all</th>\n",
       "      <td>843</td>\n",
       "      <td>2389</td>\n",
       "      <td>166</td>\n",
       "      <td>2</td>\n",
       "      <td>3</td>\n",
       "      <td>1</td>\n",
       "      <td>1</td>\n",
       "      <td>1</td>\n",
       "      <td>1</td>\n",
       "      <td>1</td>\n",
       "      <td>...</td>\n",
       "      <td>1</td>\n",
       "      <td>1</td>\n",
       "      <td>1</td>\n",
       "      <td>1</td>\n",
       "      <td>4</td>\n",
       "      <td>1</td>\n",
       "      <td>1</td>\n",
       "      <td>1</td>\n",
       "      <td>2</td>\n",
       "      <td>2</td>\n",
       "    </tr>\n",
       "    <tr>\n",
       "      <th>python</th>\n",
       "      <td>8</td>\n",
       "      <td>219</td>\n",
       "      <td>61</td>\n",
       "      <td>0</td>\n",
       "      <td>0</td>\n",
       "      <td>1</td>\n",
       "      <td>0</td>\n",
       "      <td>0</td>\n",
       "      <td>1</td>\n",
       "      <td>1</td>\n",
       "      <td>...</td>\n",
       "      <td>0</td>\n",
       "      <td>0</td>\n",
       "      <td>0</td>\n",
       "      <td>0</td>\n",
       "      <td>0</td>\n",
       "      <td>0</td>\n",
       "      <td>0</td>\n",
       "      <td>1</td>\n",
       "      <td>0</td>\n",
       "      <td>0</td>\n",
       "    </tr>\n",
       "    <tr>\n",
       "      <th>java</th>\n",
       "      <td>238</td>\n",
       "      <td>845</td>\n",
       "      <td>13</td>\n",
       "      <td>0</td>\n",
       "      <td>1</td>\n",
       "      <td>0</td>\n",
       "      <td>0</td>\n",
       "      <td>0</td>\n",
       "      <td>0</td>\n",
       "      <td>0</td>\n",
       "      <td>...</td>\n",
       "      <td>0</td>\n",
       "      <td>0</td>\n",
       "      <td>0</td>\n",
       "      <td>1</td>\n",
       "      <td>0</td>\n",
       "      <td>0</td>\n",
       "      <td>0</td>\n",
       "      <td>0</td>\n",
       "      <td>0</td>\n",
       "      <td>0</td>\n",
       "    </tr>\n",
       "    <tr>\n",
       "      <th>javascript</th>\n",
       "      <td>334</td>\n",
       "      <td>487</td>\n",
       "      <td>22</td>\n",
       "      <td>1</td>\n",
       "      <td>1</td>\n",
       "      <td>0</td>\n",
       "      <td>0</td>\n",
       "      <td>0</td>\n",
       "      <td>0</td>\n",
       "      <td>0</td>\n",
       "      <td>...</td>\n",
       "      <td>1</td>\n",
       "      <td>1</td>\n",
       "      <td>0</td>\n",
       "      <td>0</td>\n",
       "      <td>4</td>\n",
       "      <td>1</td>\n",
       "      <td>1</td>\n",
       "      <td>0</td>\n",
       "      <td>0</td>\n",
       "      <td>0</td>\n",
       "    </tr>\n",
       "  </tbody>\n",
       "</table>\n",
       "<p>4 rows × 22207 columns</p>\n",
       "</div>"
      ],
      "text/plain": [
       "            &#9;     '    0  00  0000  000000  000000105  000000336  \\\n",
       "all          843  2389  166   2     3       1          1          1   \n",
       "python         8   219   61   0     0       1          0          0   \n",
       "java         238   845   13   0     1       0          0          0   \n",
       "javascript   334   487   22   1     1       0          0          0   \n",
       "\n",
       "            00000337333  00002024000  ...  zusatzlichen  zutrifft  zvezdolet  \\\n",
       "all                   1            1  ...             1         1          1   \n",
       "python                1            1  ...             0         0          0   \n",
       "java                  0            0  ...             0         0          0   \n",
       "javascript            0            0  ...             1         1          0   \n",
       "\n",
       "            zwecke  zwei  zweite  zweites  zyliqx  zzz  zzzzzzzzzzzz  \n",
       "all              1     4       1        1       1    2             2  \n",
       "python           0     0       0        0       1    0             0  \n",
       "java             1     0       0        0       0    0             0  \n",
       "javascript       0     4       1        1       0    0             0  \n",
       "\n",
       "[4 rows x 22207 columns]"
      ]
     },
     "execution_count": 89,
     "metadata": {},
     "output_type": "execute_result"
    }
   ],
   "source": [
    "word_counts.T"
   ]
  },
  {
   "cell_type": "code",
   "execution_count": 93,
   "id": "5bc885a9",
   "metadata": {},
   "outputs": [
    {
     "data": {
      "text/html": [
       "<div>\n",
       "<style scoped>\n",
       "    .dataframe tbody tr th:only-of-type {\n",
       "        vertical-align: middle;\n",
       "    }\n",
       "\n",
       "    .dataframe tbody tr th {\n",
       "        vertical-align: top;\n",
       "    }\n",
       "\n",
       "    .dataframe thead th {\n",
       "        text-align: right;\n",
       "    }\n",
       "</style>\n",
       "<table border=\"1\" class=\"dataframe\">\n",
       "  <thead>\n",
       "    <tr style=\"text-align: right;\">\n",
       "      <th></th>\n",
       "      <th>all</th>\n",
       "      <th>python</th>\n",
       "      <th>java</th>\n",
       "      <th>javascript</th>\n",
       "    </tr>\n",
       "  </thead>\n",
       "  <tbody>\n",
       "    <tr>\n",
       "      <th>&amp;#9;</th>\n",
       "      <td>843</td>\n",
       "      <td>8</td>\n",
       "      <td>238</td>\n",
       "      <td>334</td>\n",
       "    </tr>\n",
       "    <tr>\n",
       "      <th>'</th>\n",
       "      <td>2389</td>\n",
       "      <td>219</td>\n",
       "      <td>845</td>\n",
       "      <td>487</td>\n",
       "    </tr>\n",
       "    <tr>\n",
       "      <th>0</th>\n",
       "      <td>166</td>\n",
       "      <td>61</td>\n",
       "      <td>13</td>\n",
       "      <td>22</td>\n",
       "    </tr>\n",
       "    <tr>\n",
       "      <th>00</th>\n",
       "      <td>2</td>\n",
       "      <td>0</td>\n",
       "      <td>0</td>\n",
       "      <td>1</td>\n",
       "    </tr>\n",
       "    <tr>\n",
       "      <th>0000</th>\n",
       "      <td>3</td>\n",
       "      <td>0</td>\n",
       "      <td>1</td>\n",
       "      <td>1</td>\n",
       "    </tr>\n",
       "    <tr>\n",
       "      <th>...</th>\n",
       "      <td>...</td>\n",
       "      <td>...</td>\n",
       "      <td>...</td>\n",
       "      <td>...</td>\n",
       "    </tr>\n",
       "    <tr>\n",
       "      <th>zweite</th>\n",
       "      <td>1</td>\n",
       "      <td>0</td>\n",
       "      <td>0</td>\n",
       "      <td>1</td>\n",
       "    </tr>\n",
       "    <tr>\n",
       "      <th>zweites</th>\n",
       "      <td>1</td>\n",
       "      <td>0</td>\n",
       "      <td>0</td>\n",
       "      <td>1</td>\n",
       "    </tr>\n",
       "    <tr>\n",
       "      <th>zyliqx</th>\n",
       "      <td>1</td>\n",
       "      <td>1</td>\n",
       "      <td>0</td>\n",
       "      <td>0</td>\n",
       "    </tr>\n",
       "    <tr>\n",
       "      <th>zzz</th>\n",
       "      <td>2</td>\n",
       "      <td>0</td>\n",
       "      <td>0</td>\n",
       "      <td>0</td>\n",
       "    </tr>\n",
       "    <tr>\n",
       "      <th>zzzzzzzzzzzz</th>\n",
       "      <td>2</td>\n",
       "      <td>0</td>\n",
       "      <td>0</td>\n",
       "      <td>0</td>\n",
       "    </tr>\n",
       "  </tbody>\n",
       "</table>\n",
       "<p>22207 rows × 4 columns</p>\n",
       "</div>"
      ],
      "text/plain": [
       "               all  python  java  javascript\n",
       "&#9;           843       8   238         334\n",
       "'             2389     219   845         487\n",
       "0              166      61    13          22\n",
       "00               2       0     0           1\n",
       "0000             3       0     1           1\n",
       "...            ...     ...   ...         ...\n",
       "zweite           1       0     0           1\n",
       "zweites          1       0     0           1\n",
       "zyliqx           1       1     0           0\n",
       "zzz              2       0     0           0\n",
       "zzzzzzzzzzzz     2       0     0           0\n",
       "\n",
       "[22207 rows x 4 columns]"
      ]
     },
     "execution_count": 93,
     "metadata": {},
     "output_type": "execute_result"
    }
   ],
   "source": [
    "word_counts.drop(list(word_counts.filter(regex='0')))"
   ]
  },
  {
   "cell_type": "code",
   "execution_count": null,
   "id": "af3a12ba",
   "metadata": {},
   "outputs": [],
   "source": []
  }
 ],
 "metadata": {
  "kernelspec": {
   "display_name": "Python 3 (ipykernel)",
   "language": "python",
   "name": "python3"
  },
  "language_info": {
   "codemirror_mode": {
    "name": "ipython",
    "version": 3
   },
   "file_extension": ".py",
   "mimetype": "text/x-python",
   "name": "python",
   "nbconvert_exporter": "python",
   "pygments_lexer": "ipython3",
   "version": "3.9.12"
  }
 },
 "nbformat": 4,
 "nbformat_minor": 5
}
