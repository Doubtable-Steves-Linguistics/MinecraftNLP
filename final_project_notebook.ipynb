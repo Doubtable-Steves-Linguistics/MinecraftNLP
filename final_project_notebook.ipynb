{
 "cells": [
  {
   "cell_type": "markdown",
   "id": "365e5c1b",
   "metadata": {},
   "source": [
    "# *Minecraft NLP Project*\n",
    "### Presented by: Rae Downen, Cristina Lucin, Michael Mesa and John \"Chris\" Rosenberger"
   ]
  },
  {
   "cell_type": "markdown",
   "id": "7362771e",
   "metadata": {},
   "source": [
    "---"
   ]
  },
  {
   "cell_type": "markdown",
   "id": "bd945867",
   "metadata": {},
   "source": [
    "## Project Overview\n",
    "\n",
    "This project focuses on building a prediction model for accurately predicting the coding language of a project using examination of GitHub repo README files. Our goal is to develop a predictive model utilizing Python and Python libraries, and select the most effective model for production. Initially, we are utilizing BeautifulSoup to acquire our data, selecting 1000 repositories tagged with 'Minecraft' from GitHub, taking in all Readme text and repo language information from each repo. After gathering the data, we explore the data through questions and visualizations before developing a model that can tell us: \"What language is this repository most likely to be written in?\""
   ]
  },
  {
   "cell_type": "markdown",
   "id": "f531cd07",
   "metadata": {},
   "source": [
    "## Goals\n",
    "### Create deliverables:\n",
    "* READ ME\n",
    "* Final Report\n",
    "* Functional acquire.py, explore.py, and model.py files\n",
    "* Acquire data from GitHub utilizing Beautiful Soup to scrape targeted Repositories ('Repos')\n",
    "* Prepare and split the data\n",
    "* Explore the data\n",
    "* Establish a baseline\n",
    "* Fit and train a classification model to predict the programming language of the Repo\n",
    "* Evaluate the model by comparing its performance on train utilizing accuracy as a measure\n",
    "* Evaluate the selected model on test data\n",
    "* Develop and document findings, takeaways, recommendations and next steps"
   ]
  },
  {
   "cell_type": "code",
   "execution_count": 1,
   "id": "a5e82f1c",
   "metadata": {},
   "outputs": [],
   "source": [
    "#General DS Imports\n",
    "import pandas as pd\n",
    "import numpy as np\n",
    "\n",
    "# Visualizations\n",
    "import seaborn as sns\n",
    "import matplotlib as plt\n",
    "from wordcloud import WordCloud, STOPWORDS\n",
    "from matplotlib import pyplot as plt\n",
    "from PIL import Image\n",
    "\n",
    "#Modeling, NLP and Exploration\n",
    "from requests import get\n",
    "from bs4 import BeautifulSoup\n",
    "import json\n",
    "from typing import Dict, List, Optional, Union, cast\n",
    "import requests\n",
    "import re\n",
    "import time\n",
    "import unicodedata\n",
    "import nltk\n",
    "from sklearn.model_selection import train_test_split\n",
    "\n",
    "#My imports\n",
    "import os\n",
    "from env import github_token, github_username\n",
    "from importlib import reload\n",
    "import acquire as a\n",
    "import explore as e\n",
    "import prepare as p"
   ]
  },
  {
   "cell_type": "markdown",
   "id": "d81670a9",
   "metadata": {},
   "source": [
    "# Aquire\n",
    "* 1000 Repo URLs aquired from GitHub utilizing a .py script \"acquire_minecraft_urls.py\"\n",
    "* Repo Readme Text and Repo Language was scraped utilizing BeautifulSoup\n",
    "*Crime Incident Reports were collected beginning in 2015, and the data spans to present\n",
    "I combined the annual CSV files into one CSV, containing 652,418 rows and 17 features before cleaning\n",
    "Each row represents a crime reported to Boston Police (see further explanation re: Unique Incident Numbers)\n",
    "Each columns represents a feature of the crime, such as offense type, location, or time the crime occured"
   ]
  }
 ],
 "metadata": {
  "kernelspec": {
   "display_name": "Python 3 (ipykernel)",
   "language": "python",
   "name": "python3"
  },
  "language_info": {
   "codemirror_mode": {
    "name": "ipython",
    "version": 3
   },
   "file_extension": ".py",
   "mimetype": "text/x-python",
   "name": "python",
   "nbconvert_exporter": "python",
   "pygments_lexer": "ipython3",
   "version": "3.9.15"
  }
 },
 "nbformat": 4,
 "nbformat_minor": 5
}
