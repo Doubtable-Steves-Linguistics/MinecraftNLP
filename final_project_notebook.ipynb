{
 "cells": [
  {
   "cell_type": "markdown",
   "id": "91a7a023",
   "metadata": {},
   "source": [
    "# *Minecraft NLP Project*\n",
    "### Presented by: Rae Downen, Cristina Lucin, Michael Mesa and John \"Chris\" Rosenberger"
   ]
  },
  {
   "cell_type": "markdown",
   "id": "17a47c59",
   "metadata": {},
   "source": [
    "---"
   ]
  },
  {
   "cell_type": "markdown",
   "id": "5a4e0721",
   "metadata": {},
   "source": [
    "## Project Overview\n",
    "\n",
    "This project focuses on building a prediction model for accurately predicting the coding language of a project using examination of GitHub repo README files. Our goal is to develop a predictive model utilizing Python and Python libraries, and select the most effective model for production. Initially, we are utilizing BeautifulSoup to acquire our data, selecting 1000 repositories tagged with 'Minecraft' from GitHub, taking in all Readme text and repo language information from each repo. After gathering the data, we explore the data through questions and visualizations before developing a model that can tell us: \"What language is this repository most likely to be written in?\""
   ]
  },
  {
   "cell_type": "markdown",
   "id": "13e91889",
   "metadata": {},
   "source": [
    "## Goals\n",
    "### Create deliverables:\n",
    "* READ ME\n",
    "* Final Report\n",
    "* Functional acquire.py, explore.py, and model.py files\n",
    "* Acquire data from GitHub utilizing Beautiful Soup to scrape targeted Repositories ('Repos')\n",
    "* Prepare and split the data\n",
    "* Explore the data\n",
    "* Establish a baseline\n",
    "* Fit and train a classification model to predict the programming language of the Repo\n",
    "* Evaluate the model by comparing its performance on train utilizing accuracy as a measure\n",
    "* Evaluate the selected model on test data\n",
    "* Develop and document findings, takeaways, recommendations and next steps"
   ]
  },
  {
   "cell_type": "code",
   "execution_count": 1,
   "id": "7f339d13",
   "metadata": {},
   "outputs": [],
   "source": [
    "#General DS Imports\n",
    "import pandas as pd\n",
    "import numpy as np\n",
    "\n",
    "# Visualizations\n",
    "import seaborn as sns\n",
    "import matplotlib as plt\n",
    "from wordcloud import WordCloud, STOPWORDS\n",
    "from matplotlib import pyplot as plt\n",
    "from PIL import Image\n",
    "\n",
    "#Modeling, NLP and Exploration\n",
    "from requests import get\n",
    "from bs4 import BeautifulSoup\n",
    "import json\n",
    "from typing import Dict, List, Optional, Union, cast\n",
    "import requests\n",
    "import re\n",
    "import time\n",
    "import unicodedata\n",
    "import nltk\n",
    "from sklearn.model_selection import train_test_split\n",
    "\n",
    "#My imports\n",
    "import os\n",
    "from env import github_token, github_username\n",
    "from importlib import reload\n",
    "import acquire as a\n",
    "import explore as e\n",
    "import prepare as p"
   ]
  },
  {
   "cell_type": "markdown",
   "id": "106bca6c",
   "metadata": {},
   "source": [
    "# Aquire\n",
    "* 1,000 Repo URLs tagged \"Minecraft\" were aquired from GitHub utilizing a .py script \"acquire_minecraft_urls.py\"\n",
    "* These Repos were identified and scraped through the search feature in GitHub\n",
    "* Repo Readme Text and Repo Language was scraped utilizing BeautifulSoup\n",
    "* Readme Text and Repo Language was collected into a dictionary using a function called \"process_repo.py\" and \"scrape_github_data\"\n",
    "* This dictionary was turned into a dataframe and CSV file\n",
    "* The CSV file contained 1,000 rows and 3 features before cleaning\n",
    "* Each row represents a unique Repo located on Github\n",
    "* Each column represents a feature of the Repo, such as URL, Readme text, or Programming Language"
   ]
  },
  {
   "cell_type": "markdown",
   "id": "b457f780",
   "metadata": {},
   "source": [
    "# Prepare\n",
    "#### Prepare Actions:\n",
    "* Renamed columns to improve readability\n",
    "* Removed white space from values in object columns\n",
    "* Checked for null values in the data, dropped all rows where nulls existed\n",
    "* Utilized Regex and string methods and fucntions to clean Repo readme text"
   ]
  },
  {
   "cell_type": "code",
   "execution_count": 2,
   "id": "4d6d0af8",
   "metadata": {},
   "outputs": [
    {
     "data": {
      "text/html": [
       "<div>\n",
       "<style scoped>\n",
       "    .dataframe tbody tr th:only-of-type {\n",
       "        vertical-align: middle;\n",
       "    }\n",
       "\n",
       "    .dataframe tbody tr th {\n",
       "        vertical-align: top;\n",
       "    }\n",
       "\n",
       "    .dataframe thead th {\n",
       "        text-align: right;\n",
       "    }\n",
       "</style>\n",
       "<table border=\"1\" class=\"dataframe\">\n",
       "  <thead>\n",
       "    <tr style=\"text-align: right;\">\n",
       "      <th></th>\n",
       "      <th>repo</th>\n",
       "      <th>language</th>\n",
       "      <th>readme_contents</th>\n",
       "      <th>clean</th>\n",
       "      <th>lemmatized</th>\n",
       "    </tr>\n",
       "  </thead>\n",
       "  <tbody>\n",
       "    <tr>\n",
       "      <th>1</th>\n",
       "      <td>fogleman/Minecraft</td>\n",
       "      <td>Python</td>\n",
       "      <td># Minecraft\\n\\nSimple Minecraft-inspired demo ...</td>\n",
       "      <td>minecraft simple minecraftinspired demo writte...</td>\n",
       "      <td>minecraft simple minecraftinspired demo writte...</td>\n",
       "    </tr>\n",
       "    <tr>\n",
       "      <th>2</th>\n",
       "      <td>itzg/docker-minecraft-server</td>\n",
       "      <td>Shell</td>\n",
       "      <td>[![Docker Pulls](https://img.shields.io/docker...</td>\n",
       "      <td>docker pullshttpsimgshieldsiodockerpullsitzgmi...</td>\n",
       "      <td>docker pullshttpsimgshieldsiodockerpullsitzgmi...</td>\n",
       "    </tr>\n",
       "    <tr>\n",
       "      <th>3</th>\n",
       "      <td>overviewer/Minecraft-Overviewer</td>\n",
       "      <td>Python</td>\n",
       "      <td>====================================\\nMinecraf...</td>\n",
       "      <td>minecraft overviewer build status andrew brown...</td>\n",
       "      <td>minecraft overviewer build status andrew brown...</td>\n",
       "    </tr>\n",
       "    <tr>\n",
       "      <th>4</th>\n",
       "      <td>TheGreyGhost/MinecraftByExample</td>\n",
       "      <td>Java</td>\n",
       "      <td>MinecraftByExample [1.16.4]\\n=================...</td>\n",
       "      <td>minecraftbyexample 1164 purpose minecraftbyexa...</td>\n",
       "      <td>minecraftbyexample 1164 purpose minecraftbyexa...</td>\n",
       "    </tr>\n",
       "    <tr>\n",
       "      <th>5</th>\n",
       "      <td>minecraft-dev/MinecraftDev</td>\n",
       "      <td>Kotlin</td>\n",
       "      <td>&lt;p align=\"center\"&gt;&lt;a href=\"https://minecraftde...</td>\n",
       "      <td>p aligncentera hrefhttpsminecraftdevorgimg src...</td>\n",
       "      <td>p aligncentera hrefhttpsminecraftdevorgimg src...</td>\n",
       "    </tr>\n",
       "  </tbody>\n",
       "</table>\n",
       "</div>"
      ],
      "text/plain": [
       "                              repo language  \\\n",
       "1               fogleman/Minecraft   Python   \n",
       "2     itzg/docker-minecraft-server    Shell   \n",
       "3  overviewer/Minecraft-Overviewer   Python   \n",
       "4  TheGreyGhost/MinecraftByExample     Java   \n",
       "5       minecraft-dev/MinecraftDev   Kotlin   \n",
       "\n",
       "                                     readme_contents  \\\n",
       "1  # Minecraft\\n\\nSimple Minecraft-inspired demo ...   \n",
       "2  [![Docker Pulls](https://img.shields.io/docker...   \n",
       "3  ====================================\\nMinecraf...   \n",
       "4  MinecraftByExample [1.16.4]\\n=================...   \n",
       "5  <p align=\"center\"><a href=\"https://minecraftde...   \n",
       "\n",
       "                                               clean  \\\n",
       "1  minecraft simple minecraftinspired demo writte...   \n",
       "2  docker pullshttpsimgshieldsiodockerpullsitzgmi...   \n",
       "3  minecraft overviewer build status andrew brown...   \n",
       "4  minecraftbyexample 1164 purpose minecraftbyexa...   \n",
       "5  p aligncentera hrefhttpsminecraftdevorgimg src...   \n",
       "\n",
       "                                          lemmatized  \n",
       "1  minecraft simple minecraftinspired demo writte...  \n",
       "2  docker pullshttpsimgshieldsiodockerpullsitzgmi...  \n",
       "3  minecraft overviewer build status andrew brown...  \n",
       "4  minecraftbyexample 1164 purpose minecraftbyexa...  \n",
       "5  p aligncentera hrefhttpsminecraftdevorgimg src...  "
      ]
     },
     "execution_count": 2,
     "metadata": {},
     "output_type": "execute_result"
    }
   ],
   "source": [
    "#Import our data from a .csv file, take a peek at the data\n",
    "df = pd.read_csv(r'clean_scraped_data.csv', index_col=[0])\n",
    "df.head()"
   ]
  },
  {
   "cell_type": "code",
   "execution_count": 3,
   "id": "f54e8c45",
   "metadata": {},
   "outputs": [
    {
     "data": {
      "text/plain": [
       "Java          402\n",
       "JavaScript     86\n",
       "Python         76\n",
       "C#             43\n",
       "C++            36\n",
       "Shell          35\n",
       "PHP            33\n",
       "Kotlin         23\n",
       "TypeScript     22\n",
       "Go             19\n",
       "C              16\n",
       "Rust           15\n",
       "Lua             6\n",
       "HTML            6\n",
       "ZenScript       5\n",
       "Ruby            5\n",
       "CSS             4\n",
       "GLSL            4\n",
       "Dockerfile      4\n",
       "Scala           4\n",
       "Name: language, dtype: int64"
      ]
     },
     "execution_count": 3,
     "metadata": {},
     "output_type": "execute_result"
    }
   ],
   "source": [
    "# top 20 languages from Readme files\n",
    "df.language.value_counts().head(20)"
   ]
  },
  {
   "cell_type": "markdown",
   "id": "11886e08",
   "metadata": {},
   "source": [
    "### We chose to focus on the top 3 programming languages found in the scraped Repos, classifying all other languages as \"Other\":"
   ]
  },
  {
   "cell_type": "code",
   "execution_count": 4,
   "id": "a00361ed",
   "metadata": {
    "scrolled": true
   },
   "outputs": [
    {
     "data": {
      "text/html": [
       "<div>\n",
       "<style scoped>\n",
       "    .dataframe tbody tr th:only-of-type {\n",
       "        vertical-align: middle;\n",
       "    }\n",
       "\n",
       "    .dataframe tbody tr th {\n",
       "        vertical-align: top;\n",
       "    }\n",
       "\n",
       "    .dataframe thead th {\n",
       "        text-align: right;\n",
       "    }\n",
       "</style>\n",
       "<table border=\"1\" class=\"dataframe\">\n",
       "  <thead>\n",
       "    <tr style=\"text-align: right;\">\n",
       "      <th></th>\n",
       "      <th>repo</th>\n",
       "      <th>language</th>\n",
       "      <th>readme_contents</th>\n",
       "      <th>clean</th>\n",
       "      <th>lemmatized</th>\n",
       "    </tr>\n",
       "  </thead>\n",
       "  <tbody>\n",
       "    <tr>\n",
       "      <th>1</th>\n",
       "      <td>fogleman/Minecraft</td>\n",
       "      <td>Python</td>\n",
       "      <td># Minecraft\\n\\nSimple Minecraft-inspired demo ...</td>\n",
       "      <td>minecraft simple minecraftinspired demo writte...</td>\n",
       "      <td>minecraft simple minecraftinspired demo writte...</td>\n",
       "    </tr>\n",
       "    <tr>\n",
       "      <th>2</th>\n",
       "      <td>itzg/docker-minecraft-server</td>\n",
       "      <td>Other</td>\n",
       "      <td>[![Docker Pulls](https://img.shields.io/docker...</td>\n",
       "      <td>docker pullshttpsimgshieldsiodockerpullsitzgmi...</td>\n",
       "      <td>docker pullshttpsimgshieldsiodockerpullsitzgmi...</td>\n",
       "    </tr>\n",
       "    <tr>\n",
       "      <th>3</th>\n",
       "      <td>overviewer/Minecraft-Overviewer</td>\n",
       "      <td>Python</td>\n",
       "      <td>====================================\\nMinecraf...</td>\n",
       "      <td>minecraft overviewer build status andrew brown...</td>\n",
       "      <td>minecraft overviewer build status andrew brown...</td>\n",
       "    </tr>\n",
       "    <tr>\n",
       "      <th>4</th>\n",
       "      <td>TheGreyGhost/MinecraftByExample</td>\n",
       "      <td>Java</td>\n",
       "      <td>MinecraftByExample [1.16.4]\\n=================...</td>\n",
       "      <td>minecraftbyexample 1164 purpose minecraftbyexa...</td>\n",
       "      <td>minecraftbyexample 1164 purpose minecraftbyexa...</td>\n",
       "    </tr>\n",
       "    <tr>\n",
       "      <th>5</th>\n",
       "      <td>minecraft-dev/MinecraftDev</td>\n",
       "      <td>Other</td>\n",
       "      <td>&lt;p align=\"center\"&gt;&lt;a href=\"https://minecraftde...</td>\n",
       "      <td>p aligncentera hrefhttpsminecraftdevorgimg src...</td>\n",
       "      <td>p aligncentera hrefhttpsminecraftdevorgimg src...</td>\n",
       "    </tr>\n",
       "  </tbody>\n",
       "</table>\n",
       "</div>"
      ],
      "text/plain": [
       "                              repo language  \\\n",
       "1               fogleman/Minecraft   Python   \n",
       "2     itzg/docker-minecraft-server    Other   \n",
       "3  overviewer/Minecraft-Overviewer   Python   \n",
       "4  TheGreyGhost/MinecraftByExample     Java   \n",
       "5       minecraft-dev/MinecraftDev    Other   \n",
       "\n",
       "                                     readme_contents  \\\n",
       "1  # Minecraft\\n\\nSimple Minecraft-inspired demo ...   \n",
       "2  [![Docker Pulls](https://img.shields.io/docker...   \n",
       "3  ====================================\\nMinecraf...   \n",
       "4  MinecraftByExample [1.16.4]\\n=================...   \n",
       "5  <p align=\"center\"><a href=\"https://minecraftde...   \n",
       "\n",
       "                                               clean  \\\n",
       "1  minecraft simple minecraftinspired demo writte...   \n",
       "2  docker pullshttpsimgshieldsiodockerpullsitzgmi...   \n",
       "3  minecraft overviewer build status andrew brown...   \n",
       "4  minecraftbyexample 1164 purpose minecraftbyexa...   \n",
       "5  p aligncentera hrefhttpsminecraftdevorgimg src...   \n",
       "\n",
       "                                          lemmatized  \n",
       "1  minecraft simple minecraftinspired demo writte...  \n",
       "2  docker pullshttpsimgshieldsiodockerpullsitzgmi...  \n",
       "3  minecraft overviewer build status andrew brown...  \n",
       "4  minecraftbyexample 1164 purpose minecraftbyexa...  \n",
       "5  p aligncentera hrefhttpsminecraftdevorgimg src...  "
      ]
     },
     "execution_count": 4,
     "metadata": {},
     "output_type": "execute_result"
    }
   ],
   "source": [
    "#Recast other languages as \"Other\"\n",
    "df = p.map_other_languages(df)\n",
    "df.head()"
   ]
  },
  {
   "cell_type": "code",
   "execution_count": 5,
   "id": "1444e0dc",
   "metadata": {},
   "outputs": [
    {
     "data": {
      "text/plain": [
       "Java          402\n",
       "Other         320\n",
       "JavaScript     86\n",
       "Python         76\n",
       "Name: language, dtype: int64"
      ]
     },
     "execution_count": 5,
     "metadata": {},
     "output_type": "execute_result"
    }
   ],
   "source": [
    "df.language.value_counts()"
   ]
  },
  {
   "cell_type": "markdown",
   "id": "cf47e505",
   "metadata": {},
   "source": [
    "### Train-Test Split"
   ]
  },
  {
   "cell_type": "markdown",
   "id": "97bbcb17",
   "metadata": {},
   "source": [
    "* For exploration, we chose to do a train test split taking 20% for test, %30 of that for validate, and the remainder for train"
   ]
  },
  {
   "cell_type": "code",
   "execution_count": 6,
   "id": "bd40cb5d",
   "metadata": {},
   "outputs": [
    {
     "data": {
      "text/html": [
       "<div>\n",
       "<style scoped>\n",
       "    .dataframe tbody tr th:only-of-type {\n",
       "        vertical-align: middle;\n",
       "    }\n",
       "\n",
       "    .dataframe tbody tr th {\n",
       "        vertical-align: top;\n",
       "    }\n",
       "\n",
       "    .dataframe thead th {\n",
       "        text-align: right;\n",
       "    }\n",
       "</style>\n",
       "<table border=\"1\" class=\"dataframe\">\n",
       "  <thead>\n",
       "    <tr style=\"text-align: right;\">\n",
       "      <th></th>\n",
       "      <th>repo</th>\n",
       "      <th>language</th>\n",
       "      <th>readme_contents</th>\n",
       "      <th>clean</th>\n",
       "      <th>lemmatized</th>\n",
       "    </tr>\n",
       "  </thead>\n",
       "  <tbody>\n",
       "    <tr>\n",
       "      <th>47</th>\n",
       "      <td>danba340/minecraft-freecodecamp</td>\n",
       "      <td>JavaScript</td>\n",
       "      <td># Welcome to React three fiber Minecraft\\n\\nTh...</td>\n",
       "      <td>welcome react three fiber minecraft project tr...</td>\n",
       "      <td>welcome react three fiber minecraft project tr...</td>\n",
       "    </tr>\n",
       "    <tr>\n",
       "      <th>822</th>\n",
       "      <td>BentoBoxWorld/AOneBlock</td>\n",
       "      <td>Java</td>\n",
       "      <td># AOneBlock\\nA OneBlock Minecraft plugin, writ...</td>\n",
       "      <td>aoneblock oneblock minecraft plugin written ta...</td>\n",
       "      <td>aoneblock oneblock minecraft plugin written ta...</td>\n",
       "    </tr>\n",
       "    <tr>\n",
       "      <th>279</th>\n",
       "      <td>PGMDev/PGM</td>\n",
       "      <td>Java</td>\n",
       "      <td>PGM ![deploy](https://github.com/Electroid/PGM...</td>\n",
       "      <td>pgm deployhttpsgithubcomelectroidpgmworkflowsd...</td>\n",
       "      <td>pgm deployhttpsgithubcomelectroidpgmworkflowsd...</td>\n",
       "    </tr>\n",
       "    <tr>\n",
       "      <th>901</th>\n",
       "      <td>SandboxPowered/Sandbox</td>\n",
       "      <td>Java</td>\n",
       "      <td>&lt;p align=\"center\"&gt;\\n    &lt;img src=\"https://raw....</td>\n",
       "      <td>p aligncenter img srchttpsrawgithubusercontent...</td>\n",
       "      <td>p aligncenter img srchttpsrawgithubusercontent...</td>\n",
       "    </tr>\n",
       "    <tr>\n",
       "      <th>266</th>\n",
       "      <td>mraof/Minestuck</td>\n",
       "      <td>Java</td>\n",
       "      <td>Minestuck\\n=========\\n\\n* Discord Server: http...</td>\n",
       "      <td>minestuck discord server httpsdiscordappcominv...</td>\n",
       "      <td>minestuck discord server httpsdiscordappcominv...</td>\n",
       "    </tr>\n",
       "  </tbody>\n",
       "</table>\n",
       "</div>"
      ],
      "text/plain": [
       "                                repo    language  \\\n",
       "47   danba340/minecraft-freecodecamp  JavaScript   \n",
       "822          BentoBoxWorld/AOneBlock        Java   \n",
       "279                       PGMDev/PGM        Java   \n",
       "901           SandboxPowered/Sandbox        Java   \n",
       "266                  mraof/Minestuck        Java   \n",
       "\n",
       "                                       readme_contents  \\\n",
       "47   # Welcome to React three fiber Minecraft\\n\\nTh...   \n",
       "822  # AOneBlock\\nA OneBlock Minecraft plugin, writ...   \n",
       "279  PGM ![deploy](https://github.com/Electroid/PGM...   \n",
       "901  <p align=\"center\">\\n    <img src=\"https://raw....   \n",
       "266  Minestuck\\n=========\\n\\n* Discord Server: http...   \n",
       "\n",
       "                                                 clean  \\\n",
       "47   welcome react three fiber minecraft project tr...   \n",
       "822  aoneblock oneblock minecraft plugin written ta...   \n",
       "279  pgm deployhttpsgithubcomelectroidpgmworkflowsd...   \n",
       "901  p aligncenter img srchttpsrawgithubusercontent...   \n",
       "266  minestuck discord server httpsdiscordappcominv...   \n",
       "\n",
       "                                            lemmatized  \n",
       "47   welcome react three fiber minecraft project tr...  \n",
       "822  aoneblock oneblock minecraft plugin written ta...  \n",
       "279  pgm deployhttpsgithubcomelectroidpgmworkflowsd...  \n",
       "901  p aligncenter img srchttpsrawgithubusercontent...  \n",
       "266  minestuck discord server httpsdiscordappcominv...  "
      ]
     },
     "execution_count": 6,
     "metadata": {},
     "output_type": "execute_result"
    }
   ],
   "source": [
    "train, validate, test = e.split_minecraft_data(df)\n",
    "train.head()"
   ]
  },
  {
   "cell_type": "markdown",
   "id": "6b94ea1f",
   "metadata": {},
   "source": [
    "## Question 1: What are the top programming languages found in #Minecraft GitHub Repos?"
   ]
  },
  {
   "cell_type": "code",
   "execution_count": 7,
   "id": "010b6bd8",
   "metadata": {},
   "outputs": [
    {
     "data": {
      "image/png": "[encoded data removed]",
      "text/plain": [
       "<Figure size 900x600 with 1 Axes>"
      ]
     },
     "metadata": {},
     "output_type": "display_data"
    }
   ],
   "source": [
    "e.get_language_freq(train)"
   ]
  },
  {
   "cell_type": "markdown",
   "id": "90cd2287",
   "metadata": {},
   "source": [
    "### Java was the most common language found in the Repos that we scraped from, followed by JavaScript and Python. All other languages are included in this visualization. This information made sense, considering that Minecraft was developed using Java."
   ]
  },
  {
   "cell_type": "markdown",
   "id": "f0ff2ba2",
   "metadata": {},
   "source": [
    "----------"
   ]
  },
  {
   "cell_type": "markdown",
   "id": "1bbbf138",
   "metadata": {},
   "source": [
    "## Question 2: What is the average wordcount of a Repo Readme file, based on their programming language?"
   ]
  },
  {
   "cell_type": "code",
   "execution_count": 8,
   "id": "90895ace",
   "metadata": {},
   "outputs": [
    {
     "data": {
      "image/png": "[encoded data removed]",
      "text/plain": [
       "<Figure size 900x600 with 1 Axes>"
      ]
     },
     "metadata": {},
     "output_type": "display_data"
    }
   ],
   "source": [
    "e.get_wordcount_bar(train)"
   ]
  },
  {
   "cell_type": "code",
   "execution_count": null,
   "id": "7fa844ea",
   "metadata": {},
   "outputs": [],
   "source": []
  }
 ],
 "metadata": {
  "kernelspec": {
   "display_name": "Python 3 (ipykernel)",
   "language": "python",
   "name": "python3"
  },
  "language_info": {
   "codemirror_mode": {
    "name": "ipython",
    "version": 3
   },
   "file_extension": ".py",
   "mimetype": "text/x-python",
   "name": "python",
   "nbconvert_exporter": "python",
   "pygments_lexer": "ipython3",
   "version": "3.9.15"
  }
 },
 "nbformat": 4,
 "nbformat_minor": 5
}
